{
  "nbformat": 4,
  "nbformat_minor": 0,
  "metadata": {
    "colab": {
      "provenance": [],
      "gpuType": "T4"
    },
    "kernelspec": {
      "name": "python3",
      "display_name": "Python 3"
    },
    "language_info": {
      "name": "python"
    },
    "accelerator": "GPU"
  },
  "cells": [
    {
      "cell_type": "code",
      "execution_count": 1,
      "metadata": {
        "colab": {
          "base_uri": "https://localhost:8080/"
        },
        "id": "Fj7vm1jVhjQF",
        "outputId": "5dc548cf-b669-405a-eb9d-6ba479688d97"
      },
      "outputs": [
        {
          "output_type": "stream",
          "name": "stdout",
          "text": [
            "Mounted at /content/drive\n"
          ]
        }
      ],
      "source": [
        "from google.colab import drive\n",
        "\n",
        "# Mount Google Drive\n",
        "drive.mount('/content/drive')"
      ]
    },
    {
      "cell_type": "code",
      "source": [
        "import torch\n",
        "import torchvision\n",
        "import torchvision.transforms as T\n",
        "from torchvision.models.detection import fasterrcnn_resnet50_fpn, FasterRCNN\n",
        "from torchvision.models.detection.rpn import AnchorGenerator\n",
        "from torch.utils.data import DataLoader, Dataset\n",
        "from torch.optim import Adam\n",
        "from tqdm import tqdm\n",
        "import numpy as np\n",
        "import os\n",
        "import xml.etree.ElementTree as ET\n",
        "from PIL import Image\n",
        "import os\n",
        "import torch\n",
        "import torchvision\n",
        "import torchvision.transforms as T\n",
        "from torchvision.models.detection import FasterRCNN\n",
        "from torchvision.models.detection.rpn import AnchorGenerator\n",
        "from torch.utils.data import Dataset, DataLoader\n",
        "from tqdm import tqdm\n",
        "import xml.etree.ElementTree as ET\n",
        "from PIL import Image\n",
        "import numpy as np"
      ],
      "metadata": {
        "id": "--lNQm1niLgA"
      },
      "execution_count": 2,
      "outputs": []
    },
    {
      "cell_type": "code",
      "source": [
        "# Paths for annotations and images\n",
        "annotations_path = '/content/drive/MyDrive/mini project/annotations'\n",
        "images_path = '/content/drive/MyDrive/mini project/images'\n",
        "\n"
      ],
      "metadata": {
        "id": "scpVIwExjBHK"
      },
      "execution_count": 3,
      "outputs": []
    },
    {
      "cell_type": "code",
      "source": [
        "# import torch\n",
        "# import torchvision\n",
        "# import torchvision.transforms as T\n",
        "# from torchvision.models.detection import FasterRCNN\n",
        "# from torchvision.models.detection.rpn import AnchorGenerator\n",
        "# from torch.utils.data import Dataset, DataLoader\n",
        "# from tqdm import tqdm\n",
        "# import xml.etree.ElementTree as ET\n",
        "# from PIL import Image\n",
        "# import numpy as np\n",
        "# import os\n",
        "\n",
        "# # Paths for annotations and images\n",
        "# annotations_path = '/content/drive/MyDrive/mini project/annotations'\n",
        "# images_path = '/content/drive/MyDrive/mini project/images'\n",
        "\n",
        "# # ==========================\n",
        "# # 1. Dataset Preparation\n",
        "# # ==========================\n",
        "# class UATDDataset(Dataset):\n",
        "#     def __init__(self, image_dir, annotation_dir, transforms=None):\n",
        "#         self.image_dir = image_dir\n",
        "#         self.annotation_dir = annotation_dir\n",
        "#         self.transforms = transforms\n",
        "#         self.images = sorted([f for f in os.listdir(self.image_dir) if f.endswith('.bmp')])\n",
        "#         self.annotations = sorted([f for f in os.listdir(self.annotation_dir) if f.endswith('.xml')])\n",
        "\n",
        "#         assert len(self.images) == len(self.annotations), \"Mismatch between images and annotations count!\"\n",
        "\n",
        "#     def __getitem__(self, idx):\n",
        "#         # Paths to image and annotation\n",
        "#         img_path = os.path.join(self.image_dir, self.images[idx])\n",
        "#         ann_path = os.path.join(self.annotation_dir, self.annotations[idx])\n",
        "\n",
        "#         # Load image\n",
        "#         img = Image.open(img_path).convert(\"RGB\")\n",
        "\n",
        "#         # Parse annotation\n",
        "#         target = self.parse_annotations(ann_path)\n",
        "\n",
        "#         # Apply transforms\n",
        "#         if self.transforms:\n",
        "#             img = self.transforms(img)\n",
        "\n",
        "#         return img, target\n",
        "\n",
        "#     def __len__(self):\n",
        "#         return len(self.images)\n",
        "\n",
        "#     def parse_annotations(self, path):\n",
        "#         \"\"\"Parses XML annotations into a target dictionary.\"\"\"\n",
        "#         tree = ET.parse(path)\n",
        "#         root = tree.getroot()\n",
        "#         boxes = []\n",
        "#         labels = []\n",
        "\n",
        "#         # Assuming each object is labeled with a unique class\n",
        "#         class_map = {\n",
        "#             'class1': 1, 'class2': 2, 'class3': 3, 'class4': 4, 'class5': 5,\n",
        "#             'class6': 6, 'class7': 7, 'class8': 8, 'class9': 9, 'class10': 10\n",
        "#         }\n",
        "\n",
        "#         for obj in root.findall('object'):\n",
        "#             class_name = obj.find('name').text\n",
        "#             label = class_map.get(class_name, 0)  # Default to 0 if the class name doesn't match\n",
        "#             if label > 0:\n",
        "#                 labels.append(label)\n",
        "#                 bndbox = obj.find('bndbox')\n",
        "#                 xmin = int(bndbox.find('xmin').text)\n",
        "#                 ymin = int(bndbox.find('ymin').text)\n",
        "#                 xmax = int(bndbox.find('xmax').text)\n",
        "#                 ymax = int(bndbox.find('ymax').text)\n",
        "#                 boxes.append([xmin, ymin, xmax, ymax])\n",
        "\n",
        "#         target = {\n",
        "#             'boxes': torch.tensor(boxes, dtype=torch.float32),\n",
        "#             'labels': torch.tensor(labels, dtype=torch.int64)\n",
        "#         }\n",
        "#         return target\n",
        "\n"
      ],
      "metadata": {
        "id": "g9jSdkxjmrZz"
      },
      "execution_count": 4,
      "outputs": []
    },
    {
      "cell_type": "code",
      "source": [
        "\n",
        "class UATDDataset(Dataset):\n",
        "    def __init__(self, image_dir, annotation_dir, transforms=None):\n",
        "        self.image_dir = image_dir\n",
        "        self.annotation_dir = annotation_dir\n",
        "        self.transforms = transforms\n",
        "        self.images = sorted([f for f in os.listdir(self.image_dir) if f.endswith('.bmp')])\n",
        "        self.annotations = sorted([f for f in os.listdir(self.annotation_dir) if f.endswith('.xml')])\n",
        "\n",
        "        assert len(self.images) == len(self.annotations), \"Mismatch between images and annotations count!\"\n",
        "\n",
        "    def __getitem__(self, idx):\n",
        "        # Paths to image and annotation\n",
        "        img_path = os.path.join(self.image_dir, self.images[idx])\n",
        "        ann_path = os.path.join(self.annotation_dir, self.annotations[idx])\n",
        "\n",
        "        # Load image\n",
        "        img = Image.open(img_path).convert(\"RGB\")\n",
        "\n",
        "        # Parse annotation\n",
        "        target = self.parse_annotations(ann_path)\n",
        "\n",
        "        # If no objects are found, return empty tensors\n",
        "        if target['boxes'].shape[0] == 0:\n",
        "            target['boxes'] = torch.empty((0, 4))\n",
        "            target['labels'] = torch.empty(0, dtype=torch.int64)\n",
        "\n",
        "        # Apply transforms\n",
        "        if self.transforms:\n",
        "            img = self.transforms(img)\n",
        "\n",
        "        return img, target\n",
        "\n",
        "    def __len__(self):\n",
        "        return len(self.images)\n",
        "    def parse_annotations(self, path):\n",
        "            \"\"\"Parses XML annotations into a target dictionary.\"\"\"\n",
        "            tree = ET.parse(path)\n",
        "            root = tree.getroot()\n",
        "            boxes = []\n",
        "            labels = []\n",
        "\n",
        "            for obj in root.findall('object'):\n",
        "                label = 1  # Assuming a single class; adjust for multi-class datasets\n",
        "                labels.append(label)\n",
        "                bndbox = obj.find('bndbox')\n",
        "                xmin = int(bndbox.find('xmin').text)\n",
        "                ymin = int(bndbox.find('ymin').text)\n",
        "                xmax = int(bndbox.find('xmax').text)\n",
        "                ymax = int(bndbox.find('ymax').text)\n",
        "                boxes.append([xmin, ymin, xmax, ymax])\n",
        "\n",
        "            print(f\"Boxes: {boxes}, Labels: {labels}\")  # Debug print statement\n",
        "\n",
        "            if len(boxes) == 0:\n",
        "                print(f\"No objects found in annotation file: {path}\")  # Debug print for empty annotations\n",
        "\n",
        "            target = {\n",
        "                'boxes': torch.tensor(boxes, dtype=torch.float32),\n",
        "                'labels': torch.tensor(labels, dtype=torch.int64)\n",
        "            }\n",
        "            return target\n"
      ],
      "metadata": {
        "id": "uSPkh1pOn1DD"
      },
      "execution_count": 5,
      "outputs": []
    },
    {
      "cell_type": "code",
      "source": [
        "# def parse_annotations(self, path):\n",
        "#     \"\"\"Parses XML annotations into a target dictionary.\"\"\"\n",
        "#     tree = ET.parse(path)\n",
        "#     root = tree.getroot()\n",
        "#     boxes = []\n",
        "#     labels = []\n",
        "\n",
        "#     for obj in root.findall('object'):\n",
        "#         label = 1  # Assuming a single class; adjust for multi-class datasets\n",
        "#         labels.append(label)\n",
        "#         bndbox = obj.find('bndbox')\n",
        "#         xmin = int(bndbox.find('xmin').text)\n",
        "#         ymin = int(bndbox.find('ymin').text)\n",
        "#         xmax = int(bndbox.find('xmax').text)\n",
        "#         ymax = int(bndbox.find('ymax').text)\n",
        "#         boxes.append([xmin, ymin, xmax, ymax])\n",
        "\n",
        "#     print(f\"Boxes: {boxes}, Labels: {labels}\")  # Debug print statement\n",
        "\n",
        "#     if len(boxes) == 0:\n",
        "#         print(f\"No objects found in annotation file: {path}\")  # Debug print for empty annotations\n",
        "\n",
        "#     target = {\n",
        "#         'boxes': torch.tensor(boxes, dtype=torch.float32),\n",
        "#         'labels': torch.tensor(labels, dtype=torch.int64)\n",
        "#     }\n",
        "#     return target\n"
      ],
      "metadata": {
        "id": "PE_n1V7vnvOG"
      },
      "execution_count": 6,
      "outputs": []
    },
    {
      "cell_type": "code",
      "source": [
        "def get_transforms():\n",
        "    \"\"\"Return transformations for the dataset.\"\"\"\n",
        "    return T.Compose([\n",
        "        T.ToTensor(),\n",
        "        T.Resize((512, 512)),\n",
        "        T.Normalize(mean=[0.485, 0.456, 0.406], std=[0.229, 0.224, 0.225]),\n",
        "    ])\n",
        "\n"
      ],
      "metadata": {
        "id": "pgK77Swin2fu"
      },
      "execution_count": 7,
      "outputs": []
    },
    {
      "cell_type": "code",
      "source": [
        "\n",
        "# ==========================\n",
        "# 2. Model Setup\n",
        "# ==========================\n",
        "def get_faster_rcnn_model(backbone='resnet50', num_classes=11):  # 10 classes + background\n",
        "    \"\"\"Return a Faster-RCNN model with the specified backbone.\"\"\"\n",
        "    if backbone == 'resnet18':\n",
        "        backbone_model = torchvision.models.resnet18(pretrained=True)\n",
        "    elif backbone == 'resnet50':\n",
        "        backbone_model = torchvision.models.resnet50(pretrained=True)\n",
        "    elif backbone == 'resnet101':\n",
        "        backbone_model = torchvision.models.resnet101(pretrained=True)\n",
        "    else:\n",
        "        raise ValueError(\"Invalid backbone choice!\")\n",
        "\n",
        "    # Use backbone without the classification head\n",
        "    backbone_model = torch.nn.Sequential(*list(backbone_model.children())[:-2])\n",
        "    backbone_model.out_channels = 2048\n",
        "\n",
        "    # RPN and ROI pooling\n",
        "    anchor_generator = AnchorGenerator(\n",
        "        sizes=((32, 64, 128, 256, 512),),\n",
        "        aspect_ratios=((0.5, 1.0, 2.0),)\n",
        "    )\n",
        "    roi_pooler = torchvision.ops.MultiScaleRoIAlign(\n",
        "        featmap_names=['0'],\n",
        "        output_size=7,\n",
        "        sampling_ratio=2\n",
        "    )\n",
        "\n",
        "    # Define FasterRCNN model\n",
        "    model = FasterRCNN(\n",
        "        backbone_model,\n",
        "        num_classes=num_classes,  # Number of classes (including background)\n",
        "        rpn_anchor_generator=anchor_generator,\n",
        "        box_roi_pool=roi_pooler\n",
        "    )\n",
        "    return model\n",
        "\n"
      ],
      "metadata": {
        "id": "JhvHNhvkmwB6"
      },
      "execution_count": 8,
      "outputs": []
    },
    {
      "cell_type": "code",
      "source": [
        "\n",
        "# ==========================\n",
        "# 3. Training and Validation\n",
        "# ==========================\n",
        "def train_one_epoch(model, optimizer, data_loader, device):\n",
        "    model.train()\n",
        "    epoch_loss = 0\n",
        "    for images, targets in tqdm(data_loader):\n",
        "        images = [img.to(device) for img in images]\n",
        "        targets = [{k: v.to(device) for k, v in t.items()} for t in targets]\n",
        "\n",
        "        loss_dict = model(images, targets)\n",
        "        losses = sum(loss for loss in loss_dict.values())\n",
        "        optimizer.zero_grad()\n",
        "        losses.backward()\n",
        "        optimizer.step()\n",
        "        epoch_loss += losses.item()\n",
        "\n",
        "    return epoch_loss / len(data_loader)\n",
        "\n",
        "def validate_one_epoch(model, data_loader, device):\n",
        "    model.eval()\n",
        "    metrics = []\n",
        "    with torch.no_grad():\n",
        "        for images, targets in tqdm(data_loader):\n",
        "            images = [img.to(device) for img in images]\n",
        "            outputs = model(images)\n",
        "            # Compute validation metrics (Placeholder: Replace with actual evaluation code)\n",
        "            metrics.append(0)  # Placeholder\n",
        "    return np.mean(metrics)\n",
        "\n"
      ],
      "metadata": {
        "id": "xhL7FgXZmzre"
      },
      "execution_count": 9,
      "outputs": []
    },
    {
      "cell_type": "code",
      "source": [
        "\n",
        "# ==========================\n",
        "# 4. Main Training Loop\n",
        "# ==========================\n",
        "def main():\n",
        "    # Configurations\n",
        "    device = torch.device(\"cuda\" if torch.cuda.is_available() else \"cpu\")\n",
        "    batch_size = 3\n",
        "    num_epochs = 10\n",
        "    backbone = 'resnet50'\n",
        "\n",
        "    # Paths\n",
        "    image_dir = '/content/drive/MyDrive/mini project/images'\n",
        "    annotation_dir = '/content/drive/MyDrive/mini project/annotations'\n",
        "\n",
        "    # Dataset and DataLoader\n",
        "    dataset_train = UATDDataset(image_dir, annotation_dir, transforms=get_transforms())\n",
        "    train_loader = DataLoader(dataset_train, batch_size=batch_size, shuffle=True, collate_fn=lambda x: tuple(zip(*x)))\n",
        "\n",
        "    # Model, Optimizer\n",
        "    model = get_faster_rcnn_model(backbone, num_classes=11).to(device)  # 10 classes + background\n",
        "    optimizer = torch.optim.Adam(model.parameters(), lr=0.001)\n",
        "\n",
        "    # Training Loop\n",
        "    for epoch in range(num_epochs):\n",
        "        print(f\"Epoch {epoch + 1}/{num_epochs}\")\n",
        "        train_loss = train_one_epoch(model, optimizer, train_loader, device)\n",
        "        print(f\"Train Loss: {train_loss:.4f}\")\n",
        "\n",
        "if __name__ == \"__main__\":\n",
        "    main()\n"
      ],
      "metadata": {
        "colab": {
          "base_uri": "https://localhost:8080/"
        },
        "id": "_-dn1Qzvm2Nc",
        "outputId": "b059639c-7892-4cb4-d71b-3a3b39c2c307"
      },
      "execution_count": 10,
      "outputs": [
        {
          "output_type": "stream",
          "name": "stderr",
          "text": [
            "/usr/local/lib/python3.10/dist-packages/torchvision/models/_utils.py:208: UserWarning: The parameter 'pretrained' is deprecated since 0.13 and may be removed in the future, please use 'weights' instead.\n",
            "  warnings.warn(\n",
            "/usr/local/lib/python3.10/dist-packages/torchvision/models/_utils.py:223: UserWarning: Arguments other than a weight enum or `None` for 'weights' are deprecated since 0.13 and may be removed in the future. The current behavior is equivalent to passing `weights=ResNet50_Weights.IMAGENET1K_V1`. You can also use `weights=ResNet50_Weights.DEFAULT` to get the most up-to-date weights.\n",
            "  warnings.warn(msg)\n",
            "Downloading: \"https://download.pytorch.org/models/resnet50-0676ba61.pth\" to /root/.cache/torch/hub/checkpoints/resnet50-0676ba61.pth\n",
            "100%|██████████| 97.8M/97.8M [00:01<00:00, 102MB/s]\n"
          ]
        },
        {
          "output_type": "stream",
          "name": "stdout",
          "text": [
            "Epoch 1/10\n"
          ]
        },
        {
          "output_type": "stream",
          "name": "stderr",
          "text": [
            "\r  0%|          | 0/17 [00:00<?, ?it/s]"
          ]
        },
        {
          "output_type": "stream",
          "name": "stdout",
          "text": [
            "Boxes: [[366, 1528, 420, 1599]], Labels: [1]\n",
            "Boxes: [[424, 707, 478, 756], [376, 890, 448, 941]], Labels: [1, 1]\n",
            "Boxes: [[224, 1244, 266, 1309]], Labels: [1]\n"
          ]
        },
        {
          "output_type": "stream",
          "name": "stderr",
          "text": [
            "\r  6%|▌         | 1/17 [00:09<02:24,  9.02s/it]"
          ]
        },
        {
          "output_type": "stream",
          "name": "stdout",
          "text": [
            "Boxes: [[344, 783, 442, 842], [448, 673, 506, 724], [496, 817, 592, 887]], Labels: [1, 1, 1]\n",
            "Boxes: [[370, 1100, 424, 1157], [540, 965, 688, 1040]], Labels: [1, 1]\n",
            "Boxes: [[556, 950, 638, 1035], [338, 937, 402, 997], [308, 756, 372, 813]], Labels: [1, 1, 1]\n"
          ]
        },
        {
          "output_type": "stream",
          "name": "stderr",
          "text": [
            "\r 12%|█▏        | 2/17 [00:13<01:35,  6.33s/it]"
          ]
        },
        {
          "output_type": "stream",
          "name": "stdout",
          "text": [
            "Boxes: [[706, 444, 746, 477]], Labels: [1]\n",
            "Boxes: [[240, 1394, 334, 1478]], Labels: [1]\n",
            "Boxes: [[324, 1307, 394, 1402], [424, 1478, 564, 1596]], Labels: [1, 1]\n"
          ]
        },
        {
          "output_type": "stream",
          "name": "stderr",
          "text": [
            "\r 18%|█▊        | 3/17 [00:17<01:14,  5.34s/it]"
          ]
        },
        {
          "output_type": "stream",
          "name": "stdout",
          "text": [
            "Boxes: [[514, 981, 610, 1054], [422, 962, 492, 1014], [418, 773, 474, 828]], Labels: [1, 1, 1]\n",
            "Boxes: [[8, 579, 58, 624]], Labels: [1]\n",
            "Boxes: [[640, 1488, 798, 1566]], Labels: [1]\n"
          ]
        },
        {
          "output_type": "stream",
          "name": "stderr",
          "text": [
            "\r 24%|██▎       | 4/17 [00:22<01:05,  5.02s/it]"
          ]
        },
        {
          "output_type": "stream",
          "name": "stdout",
          "text": [
            "Boxes: [[370, 1101, 422, 1161], [554, 983, 676, 1054]], Labels: [1, 1]\n",
            "Boxes: [[378, 770, 468, 830]], Labels: [1]\n",
            "Boxes: [[474, 752, 516, 788]], Labels: [1]\n"
          ]
        },
        {
          "output_type": "stream",
          "name": "stderr",
          "text": [
            "\r 29%|██▉       | 5/17 [00:25<00:54,  4.53s/it]"
          ]
        },
        {
          "output_type": "stream",
          "name": "stdout",
          "text": [
            "Boxes: [[630, 672, 692, 751], [544, 1010, 640, 1084]], Labels: [1, 1]\n",
            "Boxes: [[458, 779, 512, 813], [366, 889, 434, 926]], Labels: [1, 1]\n",
            "Boxes: [[408, 780, 516, 840]], Labels: [1]\n"
          ]
        },
        {
          "output_type": "stream",
          "name": "stderr",
          "text": [
            "\r 35%|███▌      | 6/17 [00:29<00:46,  4.24s/it]"
          ]
        },
        {
          "output_type": "stream",
          "name": "stdout",
          "text": [
            "Boxes: [[528, 1435, 584, 1540], [550, 1253, 596, 1333]], Labels: [1, 1]\n",
            "Boxes: [[342, 765, 400, 820], [372, 956, 428, 1004], [440, 978, 542, 1054]], Labels: [1, 1, 1]\n",
            "Boxes: [[366, 467, 480, 508]], Labels: [1]\n"
          ]
        },
        {
          "output_type": "stream",
          "name": "stderr",
          "text": [
            "\r 41%|████      | 7/17 [00:33<00:41,  4.18s/it]"
          ]
        },
        {
          "output_type": "stream",
          "name": "stdout",
          "text": [
            "Boxes: [[372, 957, 436, 1004], [338, 768, 412, 823]], Labels: [1, 1]\n",
            "Boxes: [[526, 393, 558, 423]], Labels: [1]\n",
            "Boxes: [[188, 1442, 296, 1540]], Labels: [1]\n"
          ]
        },
        {
          "output_type": "stream",
          "name": "stderr",
          "text": [
            "\r 47%|████▋     | 8/17 [00:37<00:36,  4.05s/it]"
          ]
        },
        {
          "output_type": "stream",
          "name": "stdout",
          "text": [
            "Boxes: [[424, 763, 520, 828]], Labels: [1]\n",
            "Boxes: [[474, 857, 530, 905]], Labels: [1]\n",
            "Boxes: [[342, 751, 390, 787]], Labels: [1]\n"
          ]
        },
        {
          "output_type": "stream",
          "name": "stderr",
          "text": [
            "\r 53%|█████▎    | 9/17 [00:41<00:31,  3.95s/it]"
          ]
        },
        {
          "output_type": "stream",
          "name": "stdout",
          "text": [
            "Boxes: [[706, 670, 766, 755]], Labels: [1]\n",
            "Boxes: [[548, 981, 680, 1054], [382, 1098, 434, 1149]], Labels: [1, 1]\n",
            "Boxes: [[372, 1097, 424, 1156], [524, 1026, 652, 1099]], Labels: [1, 1]\n"
          ]
        },
        {
          "output_type": "stream",
          "name": "stderr",
          "text": [
            "\r 59%|█████▉    | 10/17 [00:44<00:27,  3.87s/it]"
          ]
        },
        {
          "output_type": "stream",
          "name": "stdout",
          "text": [
            "Boxes: [[650, 777, 704, 817]], Labels: [1]\n",
            "Boxes: [[880, 472, 922, 509]], Labels: [1]\n",
            "Boxes: [[406, 1180, 452, 1246]], Labels: [1]\n"
          ]
        },
        {
          "output_type": "stream",
          "name": "stderr",
          "text": [
            "\r 65%|██████▍   | 11/17 [00:48<00:22,  3.77s/it]"
          ]
        },
        {
          "output_type": "stream",
          "name": "stdout",
          "text": [
            "Boxes: [[336, 834, 388, 878]], Labels: [1]\n",
            "Boxes: [[478, 831, 524, 873]], Labels: [1]\n",
            "Boxes: [[264, 715, 322, 761]], Labels: [1]\n"
          ]
        },
        {
          "output_type": "stream",
          "name": "stderr",
          "text": [
            "\r 71%|███████   | 12/17 [00:52<00:18,  3.77s/it]"
          ]
        },
        {
          "output_type": "stream",
          "name": "stdout",
          "text": [
            "Boxes: [[548, 773, 642, 846], [436, 680, 490, 730], [316, 766, 432, 824]], Labels: [1, 1, 1]\n",
            "Boxes: [[426, 1205, 492, 1269], [406, 1020, 466, 1082]], Labels: [1, 1]\n",
            "Boxes: [[460, 624, 502, 660]], Labels: [1]\n"
          ]
        },
        {
          "output_type": "stream",
          "name": "stderr",
          "text": [
            "\r 76%|███████▋  | 13/17 [00:56<00:15,  3.99s/it]"
          ]
        },
        {
          "output_type": "stream",
          "name": "stdout",
          "text": [
            "Boxes: [[304, 740, 358, 785], [408, 795, 504, 852]], Labels: [1, 1]\n",
            "Boxes: [[346, 538, 394, 578]], Labels: [1]\n",
            "Boxes: [[574, 880, 618, 909]], Labels: [1]\n"
          ]
        },
        {
          "output_type": "stream",
          "name": "stderr",
          "text": [
            "\r 82%|████████▏ | 14/17 [01:00<00:11,  3.89s/it]"
          ]
        },
        {
          "output_type": "stream",
          "name": "stdout",
          "text": [
            "Boxes: [[326, 540, 370, 577]], Labels: [1]\n",
            "Boxes: [[410, 764, 524, 821]], Labels: [1]\n",
            "Boxes: [[392, 779, 540, 829]], Labels: [1]\n"
          ]
        },
        {
          "output_type": "stream",
          "name": "stderr",
          "text": [
            "\r 88%|████████▊ | 15/17 [01:03<00:07,  3.69s/it]"
          ]
        },
        {
          "output_type": "stream",
          "name": "stdout",
          "text": [
            "Boxes: [[268, 785, 422, 844]], Labels: [1]\n",
            "Boxes: [[726, 1235, 828, 1363]], Labels: [1]\n",
            "Boxes: [[286, 779, 390, 834], [272, 702, 330, 743], [398, 563, 446, 596]], Labels: [1, 1, 1]\n"
          ]
        },
        {
          "output_type": "stream",
          "name": "stderr",
          "text": [
            "\r 94%|█████████▍| 16/17 [01:07<00:03,  3.75s/it]"
          ]
        },
        {
          "output_type": "stream",
          "name": "stdout",
          "text": [
            "Boxes: [[746, 533, 788, 569]], Labels: [1]\n",
            "Boxes: [[346, 1057, 396, 1114], [388, 870, 446, 961]], Labels: [1, 1]\n"
          ]
        },
        {
          "output_type": "stream",
          "name": "stderr",
          "text": [
            "100%|██████████| 17/17 [01:09<00:00,  4.09s/it]\n"
          ]
        },
        {
          "output_type": "stream",
          "name": "stdout",
          "text": [
            "Train Loss: 13.0681\n",
            "Epoch 2/10\n"
          ]
        },
        {
          "output_type": "stream",
          "name": "stderr",
          "text": [
            "\r  0%|          | 0/17 [00:00<?, ?it/s]"
          ]
        },
        {
          "output_type": "stream",
          "name": "stdout",
          "text": [
            "Boxes: [[378, 770, 468, 830]], Labels: [1]\n",
            "Boxes: [[240, 1394, 334, 1478]], Labels: [1]\n",
            "Boxes: [[460, 624, 502, 660]], Labels: [1]\n"
          ]
        },
        {
          "output_type": "stream",
          "name": "stderr",
          "text": [
            "\r  6%|▌         | 1/17 [00:00<00:10,  1.52it/s]"
          ]
        },
        {
          "output_type": "stream",
          "name": "stdout",
          "text": [
            "Boxes: [[342, 751, 390, 787]], Labels: [1]\n",
            "Boxes: [[324, 1307, 394, 1402], [424, 1478, 564, 1596]], Labels: [1, 1]\n",
            "Boxes: [[286, 779, 390, 834], [272, 702, 330, 743], [398, 563, 446, 596]], Labels: [1, 1, 1]\n"
          ]
        },
        {
          "output_type": "stream",
          "name": "stderr",
          "text": [
            "\r 12%|█▏        | 2/17 [00:01<00:09,  1.52it/s]"
          ]
        },
        {
          "output_type": "stream",
          "name": "stdout",
          "text": [
            "Boxes: [[528, 1435, 584, 1540], [550, 1253, 596, 1333]], Labels: [1, 1]\n",
            "Boxes: [[650, 777, 704, 817]], Labels: [1]\n",
            "Boxes: [[706, 444, 746, 477]], Labels: [1]\n"
          ]
        },
        {
          "output_type": "stream",
          "name": "stderr",
          "text": [
            "\r 18%|█▊        | 3/17 [00:01<00:08,  1.57it/s]"
          ]
        },
        {
          "output_type": "stream",
          "name": "stdout",
          "text": [
            "Boxes: [[474, 857, 530, 905]], Labels: [1]\n",
            "Boxes: [[478, 831, 524, 873]], Labels: [1]\n",
            "Boxes: [[726, 1235, 828, 1363]], Labels: [1]\n"
          ]
        },
        {
          "output_type": "stream",
          "name": "stderr",
          "text": [
            "\r 24%|██▎       | 4/17 [00:02<00:08,  1.59it/s]"
          ]
        },
        {
          "output_type": "stream",
          "name": "stdout",
          "text": [
            "Boxes: [[548, 773, 642, 846], [436, 680, 490, 730], [316, 766, 432, 824]], Labels: [1, 1, 1]\n",
            "Boxes: [[424, 707, 478, 756], [376, 890, 448, 941]], Labels: [1, 1]\n",
            "Boxes: [[370, 1100, 424, 1157], [540, 965, 688, 1040]], Labels: [1, 1]\n"
          ]
        },
        {
          "output_type": "stream",
          "name": "stderr",
          "text": [
            "\r 29%|██▉       | 5/17 [00:03<00:07,  1.59it/s]"
          ]
        },
        {
          "output_type": "stream",
          "name": "stdout",
          "text": [
            "Boxes: [[268, 785, 422, 844]], Labels: [1]\n",
            "Boxes: [[392, 779, 540, 829]], Labels: [1]\n",
            "Boxes: [[630, 672, 692, 751], [544, 1010, 640, 1084]], Labels: [1, 1]\n"
          ]
        },
        {
          "output_type": "stream",
          "name": "stderr",
          "text": [
            "\r 35%|███▌      | 6/17 [00:03<00:06,  1.60it/s]"
          ]
        },
        {
          "output_type": "stream",
          "name": "stdout",
          "text": [
            "Boxes: [[574, 880, 618, 909]], Labels: [1]\n",
            "Boxes: [[336, 834, 388, 878]], Labels: [1]\n",
            "Boxes: [[474, 752, 516, 788]], Labels: [1]\n"
          ]
        },
        {
          "output_type": "stream",
          "name": "stderr",
          "text": [
            "\r 41%|████      | 7/17 [00:04<00:06,  1.56it/s]"
          ]
        },
        {
          "output_type": "stream",
          "name": "stdout",
          "text": [
            "Boxes: [[188, 1442, 296, 1540]], Labels: [1]\n",
            "Boxes: [[526, 393, 558, 423]], Labels: [1]\n",
            "Boxes: [[458, 779, 512, 813], [366, 889, 434, 926]], Labels: [1, 1]\n"
          ]
        },
        {
          "output_type": "stream",
          "name": "stderr",
          "text": [
            "\r 47%|████▋     | 8/17 [00:05<00:05,  1.60it/s]"
          ]
        },
        {
          "output_type": "stream",
          "name": "stdout",
          "text": [
            "Boxes: [[342, 765, 400, 820], [372, 956, 428, 1004], [440, 978, 542, 1054]], Labels: [1, 1, 1]\n",
            "Boxes: [[366, 467, 480, 508]], Labels: [1]\n",
            "Boxes: [[408, 780, 516, 840]], Labels: [1]\n"
          ]
        },
        {
          "output_type": "stream",
          "name": "stderr",
          "text": [
            "\r 53%|█████▎    | 9/17 [00:05<00:04,  1.64it/s]"
          ]
        },
        {
          "output_type": "stream",
          "name": "stdout",
          "text": [
            "Boxes: [[346, 538, 394, 578]], Labels: [1]\n",
            "Boxes: [[410, 764, 524, 821]], Labels: [1]\n",
            "Boxes: [[706, 670, 766, 755]], Labels: [1]\n"
          ]
        },
        {
          "output_type": "stream",
          "name": "stderr",
          "text": [
            "\r 59%|█████▉    | 10/17 [00:06<00:04,  1.64it/s]"
          ]
        },
        {
          "output_type": "stream",
          "name": "stdout",
          "text": [
            "Boxes: [[326, 540, 370, 577]], Labels: [1]\n",
            "Boxes: [[746, 533, 788, 569]], Labels: [1]\n",
            "Boxes: [[426, 1205, 492, 1269], [406, 1020, 466, 1082]], Labels: [1, 1]\n"
          ]
        },
        {
          "output_type": "stream",
          "name": "stderr",
          "text": [
            "\r 65%|██████▍   | 11/17 [00:06<00:03,  1.64it/s]"
          ]
        },
        {
          "output_type": "stream",
          "name": "stdout",
          "text": [
            "Boxes: [[640, 1488, 798, 1566]], Labels: [1]\n",
            "Boxes: [[344, 783, 442, 842], [448, 673, 506, 724], [496, 817, 592, 887]], Labels: [1, 1, 1]\n",
            "Boxes: [[264, 715, 322, 761]], Labels: [1]\n"
          ]
        },
        {
          "output_type": "stream",
          "name": "stderr",
          "text": [
            "\r 71%|███████   | 12/17 [00:07<00:03,  1.62it/s]"
          ]
        },
        {
          "output_type": "stream",
          "name": "stdout",
          "text": [
            "Boxes: [[366, 1528, 420, 1599]], Labels: [1]\n",
            "Boxes: [[424, 763, 520, 828]], Labels: [1]\n",
            "Boxes: [[880, 472, 922, 509]], Labels: [1]\n"
          ]
        },
        {
          "output_type": "stream",
          "name": "stderr",
          "text": [
            "\r 76%|███████▋  | 13/17 [00:08<00:02,  1.60it/s]"
          ]
        },
        {
          "output_type": "stream",
          "name": "stdout",
          "text": [
            "Boxes: [[372, 1097, 424, 1156], [524, 1026, 652, 1099]], Labels: [1, 1]\n",
            "Boxes: [[372, 957, 436, 1004], [338, 768, 412, 823]], Labels: [1, 1]\n",
            "Boxes: [[8, 579, 58, 624]], Labels: [1]\n"
          ]
        },
        {
          "output_type": "stream",
          "name": "stderr",
          "text": [
            "\r 82%|████████▏ | 14/17 [00:08<00:01,  1.59it/s]"
          ]
        },
        {
          "output_type": "stream",
          "name": "stdout",
          "text": [
            "Boxes: [[370, 1101, 422, 1161], [554, 983, 676, 1054]], Labels: [1, 1]\n",
            "Boxes: [[224, 1244, 266, 1309]], Labels: [1]\n",
            "Boxes: [[514, 981, 610, 1054], [422, 962, 492, 1014], [418, 773, 474, 828]], Labels: [1, 1, 1]\n"
          ]
        },
        {
          "output_type": "stream",
          "name": "stderr",
          "text": [
            "\r 88%|████████▊ | 15/17 [00:09<00:01,  1.53it/s]"
          ]
        },
        {
          "output_type": "stream",
          "name": "stdout",
          "text": [
            "Boxes: [[548, 981, 680, 1054], [382, 1098, 434, 1149]], Labels: [1, 1]\n",
            "Boxes: [[556, 950, 638, 1035], [338, 937, 402, 997], [308, 756, 372, 813]], Labels: [1, 1, 1]\n",
            "Boxes: [[406, 1180, 452, 1246]], Labels: [1]\n"
          ]
        },
        {
          "output_type": "stream",
          "name": "stderr",
          "text": [
            "\r 94%|█████████▍| 16/17 [00:10<00:00,  1.51it/s]"
          ]
        },
        {
          "output_type": "stream",
          "name": "stdout",
          "text": [
            "Boxes: [[304, 740, 358, 785], [408, 795, 504, 852]], Labels: [1, 1]\n",
            "Boxes: [[346, 1057, 396, 1114], [388, 870, 446, 961]], Labels: [1, 1]\n"
          ]
        },
        {
          "output_type": "stream",
          "name": "stderr",
          "text": [
            "100%|██████████| 17/17 [00:10<00:00,  1.60it/s]\n"
          ]
        },
        {
          "output_type": "stream",
          "name": "stdout",
          "text": [
            "Train Loss: 23.3431\n",
            "Epoch 3/10\n"
          ]
        },
        {
          "output_type": "stream",
          "name": "stderr",
          "text": [
            "\r  0%|          | 0/17 [00:00<?, ?it/s]"
          ]
        },
        {
          "output_type": "stream",
          "name": "stdout",
          "text": [
            "Boxes: [[188, 1442, 296, 1540]], Labels: [1]\n",
            "Boxes: [[880, 472, 922, 509]], Labels: [1]\n",
            "Boxes: [[478, 831, 524, 873]], Labels: [1]\n"
          ]
        },
        {
          "output_type": "stream",
          "name": "stderr",
          "text": [
            "\r  6%|▌         | 1/17 [00:00<00:10,  1.56it/s]"
          ]
        },
        {
          "output_type": "stream",
          "name": "stdout",
          "text": [
            "Boxes: [[706, 670, 766, 755]], Labels: [1]\n",
            "Boxes: [[366, 467, 480, 508]], Labels: [1]\n",
            "Boxes: [[574, 880, 618, 909]], Labels: [1]\n"
          ]
        },
        {
          "output_type": "stream",
          "name": "stderr",
          "text": [
            "\r 12%|█▏        | 2/17 [00:01<00:10,  1.50it/s]"
          ]
        },
        {
          "output_type": "stream",
          "name": "stdout",
          "text": [
            "Boxes: [[556, 950, 638, 1035], [338, 937, 402, 997], [308, 756, 372, 813]], Labels: [1, 1, 1]\n",
            "Boxes: [[344, 783, 442, 842], [448, 673, 506, 724], [496, 817, 592, 887]], Labels: [1, 1, 1]\n",
            "Boxes: [[342, 751, 390, 787]], Labels: [1]\n"
          ]
        },
        {
          "output_type": "stream",
          "name": "stderr",
          "text": [
            "\r 18%|█▊        | 3/17 [00:01<00:09,  1.51it/s]"
          ]
        },
        {
          "output_type": "stream",
          "name": "stdout",
          "text": [
            "Boxes: [[460, 624, 502, 660]], Labels: [1]\n",
            "Boxes: [[526, 393, 558, 423]], Labels: [1]\n",
            "Boxes: [[408, 780, 516, 840]], Labels: [1]\n"
          ]
        },
        {
          "output_type": "stream",
          "name": "stderr",
          "text": [
            "\r 24%|██▎       | 4/17 [00:02<00:09,  1.42it/s]"
          ]
        },
        {
          "output_type": "stream",
          "name": "stdout",
          "text": [
            "Boxes: [[426, 1205, 492, 1269], [406, 1020, 466, 1082]], Labels: [1, 1]\n",
            "Boxes: [[346, 1057, 396, 1114], [388, 870, 446, 961]], Labels: [1, 1]\n",
            "Boxes: [[378, 770, 468, 830]], Labels: [1]\n"
          ]
        },
        {
          "output_type": "stream",
          "name": "stderr",
          "text": [
            "\r 29%|██▉       | 5/17 [00:03<00:08,  1.35it/s]"
          ]
        },
        {
          "output_type": "stream",
          "name": "stdout",
          "text": [
            "Boxes: [[304, 740, 358, 785], [408, 795, 504, 852]], Labels: [1, 1]\n",
            "Boxes: [[474, 752, 516, 788]], Labels: [1]\n",
            "Boxes: [[528, 1435, 584, 1540], [550, 1253, 596, 1333]], Labels: [1, 1]\n"
          ]
        },
        {
          "output_type": "stream",
          "name": "stderr",
          "text": [
            "\r 35%|███▌      | 6/17 [00:04<00:07,  1.41it/s]"
          ]
        },
        {
          "output_type": "stream",
          "name": "stdout",
          "text": [
            "Boxes: [[640, 1488, 798, 1566]], Labels: [1]\n",
            "Boxes: [[268, 785, 422, 844]], Labels: [1]\n",
            "Boxes: [[264, 715, 322, 761]], Labels: [1]\n"
          ]
        },
        {
          "output_type": "stream",
          "name": "stderr",
          "text": [
            "\r 41%|████      | 7/17 [00:04<00:06,  1.47it/s]"
          ]
        },
        {
          "output_type": "stream",
          "name": "stdout",
          "text": [
            "Boxes: [[474, 857, 530, 905]], Labels: [1]\n",
            "Boxes: [[548, 773, 642, 846], [436, 680, 490, 730], [316, 766, 432, 824]], Labels: [1, 1, 1]\n",
            "Boxes: [[286, 779, 390, 834], [272, 702, 330, 743], [398, 563, 446, 596]], Labels: [1, 1, 1]\n"
          ]
        },
        {
          "output_type": "stream",
          "name": "stderr",
          "text": [
            "\r 47%|████▋     | 8/17 [00:05<00:05,  1.54it/s]"
          ]
        },
        {
          "output_type": "stream",
          "name": "stdout",
          "text": [
            "Boxes: [[370, 1101, 422, 1161], [554, 983, 676, 1054]], Labels: [1, 1]\n",
            "Boxes: [[372, 1097, 424, 1156], [524, 1026, 652, 1099]], Labels: [1, 1]\n",
            "Boxes: [[342, 765, 400, 820], [372, 956, 428, 1004], [440, 978, 542, 1054]], Labels: [1, 1, 1]\n"
          ]
        },
        {
          "output_type": "stream",
          "name": "stderr",
          "text": [
            "\r 53%|█████▎    | 9/17 [00:06<00:05,  1.56it/s]"
          ]
        },
        {
          "output_type": "stream",
          "name": "stdout",
          "text": [
            "Boxes: [[424, 763, 520, 828]], Labels: [1]\n",
            "Boxes: [[726, 1235, 828, 1363]], Labels: [1]\n",
            "Boxes: [[514, 981, 610, 1054], [422, 962, 492, 1014], [418, 773, 474, 828]], Labels: [1, 1, 1]\n"
          ]
        },
        {
          "output_type": "stream",
          "name": "stderr",
          "text": [
            "\r 59%|█████▉    | 10/17 [00:06<00:04,  1.58it/s]"
          ]
        },
        {
          "output_type": "stream",
          "name": "stdout",
          "text": [
            "Boxes: [[336, 834, 388, 878]], Labels: [1]\n",
            "Boxes: [[548, 981, 680, 1054], [382, 1098, 434, 1149]], Labels: [1, 1]\n",
            "Boxes: [[406, 1180, 452, 1246]], Labels: [1]\n"
          ]
        },
        {
          "output_type": "stream",
          "name": "stderr",
          "text": [
            "\r 65%|██████▍   | 11/17 [00:07<00:03,  1.58it/s]"
          ]
        },
        {
          "output_type": "stream",
          "name": "stdout",
          "text": [
            "Boxes: [[326, 540, 370, 577]], Labels: [1]\n",
            "Boxes: [[240, 1394, 334, 1478]], Labels: [1]\n",
            "Boxes: [[706, 444, 746, 477]], Labels: [1]\n"
          ]
        },
        {
          "output_type": "stream",
          "name": "stderr",
          "text": [
            "\r 71%|███████   | 12/17 [00:07<00:03,  1.62it/s]"
          ]
        },
        {
          "output_type": "stream",
          "name": "stdout",
          "text": [
            "Boxes: [[458, 779, 512, 813], [366, 889, 434, 926]], Labels: [1, 1]\n",
            "Boxes: [[366, 1528, 420, 1599]], Labels: [1]\n",
            "Boxes: [[424, 707, 478, 756], [376, 890, 448, 941]], Labels: [1, 1]\n"
          ]
        },
        {
          "output_type": "stream",
          "name": "stderr",
          "text": [
            "\r 76%|███████▋  | 13/17 [00:08<00:02,  1.62it/s]"
          ]
        },
        {
          "output_type": "stream",
          "name": "stdout",
          "text": [
            "Boxes: [[372, 957, 436, 1004], [338, 768, 412, 823]], Labels: [1, 1]\n",
            "Boxes: [[392, 779, 540, 829]], Labels: [1]\n",
            "Boxes: [[746, 533, 788, 569]], Labels: [1]\n"
          ]
        },
        {
          "output_type": "stream",
          "name": "stderr",
          "text": [
            "\r 82%|████████▏ | 14/17 [00:09<00:01,  1.63it/s]"
          ]
        },
        {
          "output_type": "stream",
          "name": "stdout",
          "text": [
            "Boxes: [[8, 579, 58, 624]], Labels: [1]\n",
            "Boxes: [[224, 1244, 266, 1309]], Labels: [1]\n",
            "Boxes: [[324, 1307, 394, 1402], [424, 1478, 564, 1596]], Labels: [1, 1]\n"
          ]
        },
        {
          "output_type": "stream",
          "name": "stderr",
          "text": [
            "\r 88%|████████▊ | 15/17 [00:09<00:01,  1.60it/s]"
          ]
        },
        {
          "output_type": "stream",
          "name": "stdout",
          "text": [
            "Boxes: [[630, 672, 692, 751], [544, 1010, 640, 1084]], Labels: [1, 1]\n",
            "Boxes: [[370, 1100, 424, 1157], [540, 965, 688, 1040]], Labels: [1, 1]\n",
            "Boxes: [[346, 538, 394, 578]], Labels: [1]\n"
          ]
        },
        {
          "output_type": "stream",
          "name": "stderr",
          "text": [
            "\r 94%|█████████▍| 16/17 [00:10<00:00,  1.58it/s]"
          ]
        },
        {
          "output_type": "stream",
          "name": "stdout",
          "text": [
            "Boxes: [[410, 764, 524, 821]], Labels: [1]\n",
            "Boxes: [[650, 777, 704, 817]], Labels: [1]\n"
          ]
        },
        {
          "output_type": "stream",
          "name": "stderr",
          "text": [
            "100%|██████████| 17/17 [00:10<00:00,  1.57it/s]\n"
          ]
        },
        {
          "output_type": "stream",
          "name": "stdout",
          "text": [
            "Train Loss: 9.2842\n",
            "Epoch 4/10\n"
          ]
        },
        {
          "output_type": "stream",
          "name": "stderr",
          "text": [
            "\r  0%|          | 0/17 [00:00<?, ?it/s]"
          ]
        },
        {
          "output_type": "stream",
          "name": "stdout",
          "text": [
            "Boxes: [[478, 831, 524, 873]], Labels: [1]\n",
            "Boxes: [[346, 1057, 396, 1114], [388, 870, 446, 961]], Labels: [1, 1]\n",
            "Boxes: [[342, 765, 400, 820], [372, 956, 428, 1004], [440, 978, 542, 1054]], Labels: [1, 1, 1]\n"
          ]
        },
        {
          "output_type": "stream",
          "name": "stderr",
          "text": [
            "\r  6%|▌         | 1/17 [00:00<00:10,  1.46it/s]"
          ]
        },
        {
          "output_type": "stream",
          "name": "stdout",
          "text": [
            "Boxes: [[650, 777, 704, 817]], Labels: [1]\n",
            "Boxes: [[304, 740, 358, 785], [408, 795, 504, 852]], Labels: [1, 1]\n",
            "Boxes: [[458, 779, 512, 813], [366, 889, 434, 926]], Labels: [1, 1]\n"
          ]
        },
        {
          "output_type": "stream",
          "name": "stderr",
          "text": [
            "\r 12%|█▏        | 2/17 [00:01<00:09,  1.54it/s]"
          ]
        },
        {
          "output_type": "stream",
          "name": "stdout",
          "text": [
            "Boxes: [[574, 880, 618, 909]], Labels: [1]\n",
            "Boxes: [[528, 1435, 584, 1540], [550, 1253, 596, 1333]], Labels: [1, 1]\n",
            "Boxes: [[706, 670, 766, 755]], Labels: [1]\n"
          ]
        },
        {
          "output_type": "stream",
          "name": "stderr",
          "text": [
            "\r 18%|█▊        | 3/17 [00:02<00:09,  1.42it/s]"
          ]
        },
        {
          "output_type": "stream",
          "name": "stdout",
          "text": [
            "Boxes: [[326, 540, 370, 577]], Labels: [1]\n",
            "Boxes: [[548, 773, 642, 846], [436, 680, 490, 730], [316, 766, 432, 824]], Labels: [1, 1, 1]\n",
            "Boxes: [[224, 1244, 266, 1309]], Labels: [1]\n"
          ]
        },
        {
          "output_type": "stream",
          "name": "stderr",
          "text": [
            "\r 24%|██▎       | 4/17 [00:02<00:09,  1.42it/s]"
          ]
        },
        {
          "output_type": "stream",
          "name": "stdout",
          "text": [
            "Boxes: [[746, 533, 788, 569]], Labels: [1]\n",
            "Boxes: [[8, 579, 58, 624]], Labels: [1]\n",
            "Boxes: [[346, 538, 394, 578]], Labels: [1]\n"
          ]
        },
        {
          "output_type": "stream",
          "name": "stderr",
          "text": [
            "\r 29%|██▉       | 5/17 [00:03<00:08,  1.43it/s]"
          ]
        },
        {
          "output_type": "stream",
          "name": "stdout",
          "text": [
            "Boxes: [[264, 715, 322, 761]], Labels: [1]\n",
            "Boxes: [[372, 957, 436, 1004], [338, 768, 412, 823]], Labels: [1, 1]\n",
            "Boxes: [[240, 1394, 334, 1478]], Labels: [1]\n"
          ]
        },
        {
          "output_type": "stream",
          "name": "stderr",
          "text": [
            "\r 35%|███▌      | 6/17 [00:04<00:07,  1.51it/s]"
          ]
        },
        {
          "output_type": "stream",
          "name": "stdout",
          "text": [
            "Boxes: [[424, 763, 520, 828]], Labels: [1]\n",
            "Boxes: [[426, 1205, 492, 1269], [406, 1020, 466, 1082]], Labels: [1, 1]\n",
            "Boxes: [[880, 472, 922, 509]], Labels: [1]\n"
          ]
        },
        {
          "output_type": "stream",
          "name": "stderr",
          "text": [
            "\r 41%|████      | 7/17 [00:04<00:06,  1.53it/s]"
          ]
        },
        {
          "output_type": "stream",
          "name": "stdout",
          "text": [
            "Boxes: [[392, 779, 540, 829]], Labels: [1]\n",
            "Boxes: [[372, 1097, 424, 1156], [524, 1026, 652, 1099]], Labels: [1, 1]\n",
            "Boxes: [[188, 1442, 296, 1540]], Labels: [1]\n"
          ]
        },
        {
          "output_type": "stream",
          "name": "stderr",
          "text": [
            "\r 47%|████▋     | 8/17 [00:05<00:05,  1.57it/s]"
          ]
        },
        {
          "output_type": "stream",
          "name": "stdout",
          "text": [
            "Boxes: [[548, 981, 680, 1054], [382, 1098, 434, 1149]], Labels: [1, 1]\n",
            "Boxes: [[630, 672, 692, 751], [544, 1010, 640, 1084]], Labels: [1, 1]\n",
            "Boxes: [[408, 780, 516, 840]], Labels: [1]\n"
          ]
        },
        {
          "output_type": "stream",
          "name": "stderr",
          "text": [
            "\r 53%|█████▎    | 9/17 [00:05<00:05,  1.58it/s]"
          ]
        },
        {
          "output_type": "stream",
          "name": "stdout",
          "text": [
            "Boxes: [[474, 857, 530, 905]], Labels: [1]\n",
            "Boxes: [[460, 624, 502, 660]], Labels: [1]\n",
            "Boxes: [[514, 981, 610, 1054], [422, 962, 492, 1014], [418, 773, 474, 828]], Labels: [1, 1, 1]\n"
          ]
        },
        {
          "output_type": "stream",
          "name": "stderr",
          "text": [
            "\r 59%|█████▉    | 10/17 [00:06<00:04,  1.61it/s]"
          ]
        },
        {
          "output_type": "stream",
          "name": "stdout",
          "text": [
            "Boxes: [[370, 1100, 424, 1157], [540, 965, 688, 1040]], Labels: [1, 1]\n",
            "Boxes: [[342, 751, 390, 787]], Labels: [1]\n",
            "Boxes: [[344, 783, 442, 842], [448, 673, 506, 724], [496, 817, 592, 887]], Labels: [1, 1, 1]\n"
          ]
        },
        {
          "output_type": "stream",
          "name": "stderr",
          "text": [
            "\r 65%|██████▍   | 11/17 [00:07<00:03,  1.63it/s]"
          ]
        },
        {
          "output_type": "stream",
          "name": "stdout",
          "text": [
            "Boxes: [[410, 764, 524, 821]], Labels: [1]\n",
            "Boxes: [[336, 834, 388, 878]], Labels: [1]\n",
            "Boxes: [[268, 785, 422, 844]], Labels: [1]\n"
          ]
        },
        {
          "output_type": "stream",
          "name": "stderr",
          "text": [
            "\r 71%|███████   | 12/17 [00:07<00:03,  1.66it/s]"
          ]
        },
        {
          "output_type": "stream",
          "name": "stdout",
          "text": [
            "Boxes: [[526, 393, 558, 423]], Labels: [1]\n",
            "Boxes: [[706, 444, 746, 477]], Labels: [1]\n",
            "Boxes: [[424, 707, 478, 756], [376, 890, 448, 941]], Labels: [1, 1]\n"
          ]
        },
        {
          "output_type": "stream",
          "name": "stderr",
          "text": [
            "\r 76%|███████▋  | 13/17 [00:08<00:02,  1.67it/s]"
          ]
        },
        {
          "output_type": "stream",
          "name": "stdout",
          "text": [
            "Boxes: [[474, 752, 516, 788]], Labels: [1]\n",
            "Boxes: [[556, 950, 638, 1035], [338, 937, 402, 997], [308, 756, 372, 813]], Labels: [1, 1, 1]\n",
            "Boxes: [[378, 770, 468, 830]], Labels: [1]\n"
          ]
        },
        {
          "output_type": "stream",
          "name": "stderr",
          "text": [
            "\r 82%|████████▏ | 14/17 [00:08<00:01,  1.64it/s]"
          ]
        },
        {
          "output_type": "stream",
          "name": "stdout",
          "text": [
            "Boxes: [[324, 1307, 394, 1402], [424, 1478, 564, 1596]], Labels: [1, 1]\n",
            "Boxes: [[726, 1235, 828, 1363]], Labels: [1]\n",
            "Boxes: [[370, 1101, 422, 1161], [554, 983, 676, 1054]], Labels: [1, 1]\n"
          ]
        },
        {
          "output_type": "stream",
          "name": "stderr",
          "text": [
            "\r 88%|████████▊ | 15/17 [00:09<00:01,  1.55it/s]"
          ]
        },
        {
          "output_type": "stream",
          "name": "stdout",
          "text": [
            "Boxes: [[366, 467, 480, 508]], Labels: [1]\n",
            "Boxes: [[366, 1528, 420, 1599]], Labels: [1]\n",
            "Boxes: [[640, 1488, 798, 1566]], Labels: [1]\n"
          ]
        },
        {
          "output_type": "stream",
          "name": "stderr",
          "text": [
            "\r 94%|█████████▍| 16/17 [00:10<00:00,  1.48it/s]"
          ]
        },
        {
          "output_type": "stream",
          "name": "stdout",
          "text": [
            "Boxes: [[286, 779, 390, 834], [272, 702, 330, 743], [398, 563, 446, 596]], Labels: [1, 1, 1]\n",
            "Boxes: [[406, 1180, 452, 1246]], Labels: [1]\n"
          ]
        },
        {
          "output_type": "stream",
          "name": "stderr",
          "text": [
            "100%|██████████| 17/17 [00:10<00:00,  1.57it/s]\n"
          ]
        },
        {
          "output_type": "stream",
          "name": "stdout",
          "text": [
            "Train Loss: 7.9049\n",
            "Epoch 5/10\n"
          ]
        },
        {
          "output_type": "stream",
          "name": "stderr",
          "text": [
            "\r  0%|          | 0/17 [00:00<?, ?it/s]"
          ]
        },
        {
          "output_type": "stream",
          "name": "stdout",
          "text": [
            "Boxes: [[408, 780, 516, 840]], Labels: [1]\n",
            "Boxes: [[378, 770, 468, 830]], Labels: [1]\n",
            "Boxes: [[372, 957, 436, 1004], [338, 768, 412, 823]], Labels: [1, 1]\n"
          ]
        },
        {
          "output_type": "stream",
          "name": "stderr",
          "text": [
            "\r  6%|▌         | 1/17 [00:00<00:11,  1.42it/s]"
          ]
        },
        {
          "output_type": "stream",
          "name": "stdout",
          "text": [
            "Boxes: [[478, 831, 524, 873]], Labels: [1]\n",
            "Boxes: [[286, 779, 390, 834], [272, 702, 330, 743], [398, 563, 446, 596]], Labels: [1, 1, 1]\n",
            "Boxes: [[188, 1442, 296, 1540]], Labels: [1]\n"
          ]
        },
        {
          "output_type": "stream",
          "name": "stderr",
          "text": [
            "\r 12%|█▏        | 2/17 [00:01<00:09,  1.53it/s]"
          ]
        },
        {
          "output_type": "stream",
          "name": "stdout",
          "text": [
            "Boxes: [[366, 1528, 420, 1599]], Labels: [1]\n",
            "Boxes: [[746, 533, 788, 569]], Labels: [1]\n",
            "Boxes: [[346, 1057, 396, 1114], [388, 870, 446, 961]], Labels: [1, 1]\n"
          ]
        },
        {
          "output_type": "stream",
          "name": "stderr",
          "text": [
            "\r 18%|█▊        | 3/17 [00:01<00:09,  1.54it/s]"
          ]
        },
        {
          "output_type": "stream",
          "name": "stdout",
          "text": [
            "Boxes: [[342, 765, 400, 820], [372, 956, 428, 1004], [440, 978, 542, 1054]], Labels: [1, 1, 1]\n",
            "Boxes: [[706, 444, 746, 477]], Labels: [1]\n",
            "Boxes: [[268, 785, 422, 844]], Labels: [1]\n"
          ]
        },
        {
          "output_type": "stream",
          "name": "stderr",
          "text": [
            "\r 24%|██▎       | 4/17 [00:02<00:08,  1.59it/s]"
          ]
        },
        {
          "output_type": "stream",
          "name": "stdout",
          "text": [
            "Boxes: [[514, 981, 610, 1054], [422, 962, 492, 1014], [418, 773, 474, 828]], Labels: [1, 1, 1]\n",
            "Boxes: [[526, 393, 558, 423]], Labels: [1]\n",
            "Boxes: [[706, 670, 766, 755]], Labels: [1]\n"
          ]
        },
        {
          "output_type": "stream",
          "name": "stderr",
          "text": [
            "\r 29%|██▉       | 5/17 [00:03<00:08,  1.49it/s]"
          ]
        },
        {
          "output_type": "stream",
          "name": "stdout",
          "text": [
            "Boxes: [[650, 777, 704, 817]], Labels: [1]\n",
            "Boxes: [[548, 773, 642, 846], [436, 680, 490, 730], [316, 766, 432, 824]], Labels: [1, 1, 1]\n",
            "Boxes: [[344, 783, 442, 842], [448, 673, 506, 724], [496, 817, 592, 887]], Labels: [1, 1, 1]\n"
          ]
        },
        {
          "output_type": "stream",
          "name": "stderr",
          "text": [
            "\r 35%|███▌      | 6/17 [00:03<00:07,  1.51it/s]"
          ]
        },
        {
          "output_type": "stream",
          "name": "stdout",
          "text": [
            "Boxes: [[324, 1307, 394, 1402], [424, 1478, 564, 1596]], Labels: [1, 1]\n",
            "Boxes: [[326, 540, 370, 577]], Labels: [1]\n",
            "Boxes: [[630, 672, 692, 751], [544, 1010, 640, 1084]], Labels: [1, 1]\n"
          ]
        },
        {
          "output_type": "stream",
          "name": "stderr",
          "text": [
            "\r 41%|████      | 7/17 [00:04<00:06,  1.50it/s]"
          ]
        },
        {
          "output_type": "stream",
          "name": "stdout",
          "text": [
            "Boxes: [[370, 1101, 422, 1161], [554, 983, 676, 1054]], Labels: [1, 1]\n",
            "Boxes: [[304, 740, 358, 785], [408, 795, 504, 852]], Labels: [1, 1]\n",
            "Boxes: [[346, 538, 394, 578]], Labels: [1]\n"
          ]
        },
        {
          "output_type": "stream",
          "name": "stderr",
          "text": [
            "\r 47%|████▋     | 8/17 [00:05<00:05,  1.51it/s]"
          ]
        },
        {
          "output_type": "stream",
          "name": "stdout",
          "text": [
            "Boxes: [[424, 763, 520, 828]], Labels: [1]\n",
            "Boxes: [[474, 857, 530, 905]], Labels: [1]\n",
            "Boxes: [[574, 880, 618, 909]], Labels: [1]\n"
          ]
        },
        {
          "output_type": "stream",
          "name": "stderr",
          "text": [
            "\r 53%|█████▎    | 9/17 [00:05<00:05,  1.49it/s]"
          ]
        },
        {
          "output_type": "stream",
          "name": "stdout",
          "text": [
            "Boxes: [[458, 779, 512, 813], [366, 889, 434, 926]], Labels: [1, 1]\n",
            "Boxes: [[556, 950, 638, 1035], [338, 937, 402, 997], [308, 756, 372, 813]], Labels: [1, 1, 1]\n",
            "Boxes: [[224, 1244, 266, 1309]], Labels: [1]\n"
          ]
        },
        {
          "output_type": "stream",
          "name": "stderr",
          "text": [
            "\r 59%|█████▉    | 10/17 [00:06<00:04,  1.52it/s]"
          ]
        },
        {
          "output_type": "stream",
          "name": "stdout",
          "text": [
            "Boxes: [[264, 715, 322, 761]], Labels: [1]\n",
            "Boxes: [[426, 1205, 492, 1269], [406, 1020, 466, 1082]], Labels: [1, 1]\n",
            "Boxes: [[240, 1394, 334, 1478]], Labels: [1]\n"
          ]
        },
        {
          "output_type": "stream",
          "name": "stderr",
          "text": [
            "\r 65%|██████▍   | 11/17 [00:07<00:03,  1.53it/s]"
          ]
        },
        {
          "output_type": "stream",
          "name": "stdout",
          "text": [
            "Boxes: [[372, 1097, 424, 1156], [524, 1026, 652, 1099]], Labels: [1, 1]\n",
            "Boxes: [[342, 751, 390, 787]], Labels: [1]\n",
            "Boxes: [[528, 1435, 584, 1540], [550, 1253, 596, 1333]], Labels: [1, 1]\n"
          ]
        },
        {
          "output_type": "stream",
          "name": "stderr",
          "text": [
            "\r 71%|███████   | 12/17 [00:07<00:03,  1.54it/s]"
          ]
        },
        {
          "output_type": "stream",
          "name": "stdout",
          "text": [
            "Boxes: [[370, 1100, 424, 1157], [540, 965, 688, 1040]], Labels: [1, 1]\n",
            "Boxes: [[474, 752, 516, 788]], Labels: [1]\n",
            "Boxes: [[460, 624, 502, 660]], Labels: [1]\n"
          ]
        },
        {
          "output_type": "stream",
          "name": "stderr",
          "text": [
            "\r 76%|███████▋  | 13/17 [00:08<00:02,  1.57it/s]"
          ]
        },
        {
          "output_type": "stream",
          "name": "stdout",
          "text": [
            "Boxes: [[392, 779, 540, 829]], Labels: [1]\n",
            "Boxes: [[640, 1488, 798, 1566]], Labels: [1]\n",
            "Boxes: [[8, 579, 58, 624]], Labels: [1]\n"
          ]
        },
        {
          "output_type": "stream",
          "name": "stderr",
          "text": [
            "\r 82%|████████▏ | 14/17 [00:09<00:01,  1.57it/s]"
          ]
        },
        {
          "output_type": "stream",
          "name": "stdout",
          "text": [
            "Boxes: [[424, 707, 478, 756], [376, 890, 448, 941]], Labels: [1, 1]\n",
            "Boxes: [[410, 764, 524, 821]], Labels: [1]\n",
            "Boxes: [[548, 981, 680, 1054], [382, 1098, 434, 1149]], Labels: [1, 1]\n"
          ]
        },
        {
          "output_type": "stream",
          "name": "stderr",
          "text": [
            "\r 88%|████████▊ | 15/17 [00:09<00:01,  1.59it/s]"
          ]
        },
        {
          "output_type": "stream",
          "name": "stdout",
          "text": [
            "Boxes: [[366, 467, 480, 508]], Labels: [1]\n",
            "Boxes: [[726, 1235, 828, 1363]], Labels: [1]\n",
            "Boxes: [[336, 834, 388, 878]], Labels: [1]\n"
          ]
        },
        {
          "output_type": "stream",
          "name": "stderr",
          "text": [
            "\r 94%|█████████▍| 16/17 [00:10<00:00,  1.60it/s]"
          ]
        },
        {
          "output_type": "stream",
          "name": "stdout",
          "text": [
            "Boxes: [[880, 472, 922, 509]], Labels: [1]\n",
            "Boxes: [[406, 1180, 452, 1246]], Labels: [1]\n"
          ]
        },
        {
          "output_type": "stream",
          "name": "stderr",
          "text": [
            "100%|██████████| 17/17 [00:10<00:00,  1.57it/s]\n"
          ]
        },
        {
          "output_type": "stream",
          "name": "stdout",
          "text": [
            "Train Loss: 8.3504\n",
            "Epoch 6/10\n"
          ]
        },
        {
          "output_type": "stream",
          "name": "stderr",
          "text": [
            "\r  0%|          | 0/17 [00:00<?, ?it/s]"
          ]
        },
        {
          "output_type": "stream",
          "name": "stdout",
          "text": [
            "Boxes: [[326, 540, 370, 577]], Labels: [1]\n",
            "Boxes: [[706, 444, 746, 477]], Labels: [1]\n",
            "Boxes: [[392, 779, 540, 829]], Labels: [1]\n"
          ]
        },
        {
          "output_type": "stream",
          "name": "stderr",
          "text": [
            "\r  6%|▌         | 1/17 [00:00<00:09,  1.60it/s]"
          ]
        },
        {
          "output_type": "stream",
          "name": "stdout",
          "text": [
            "Boxes: [[408, 780, 516, 840]], Labels: [1]\n",
            "Boxes: [[366, 1528, 420, 1599]], Labels: [1]\n",
            "Boxes: [[378, 770, 468, 830]], Labels: [1]\n"
          ]
        },
        {
          "output_type": "stream",
          "name": "stderr",
          "text": [
            "\r 12%|█▏        | 2/17 [00:01<00:10,  1.42it/s]"
          ]
        },
        {
          "output_type": "stream",
          "name": "stdout",
          "text": [
            "Boxes: [[726, 1235, 828, 1363]], Labels: [1]\n",
            "Boxes: [[556, 950, 638, 1035], [338, 937, 402, 997], [308, 756, 372, 813]], Labels: [1, 1, 1]\n",
            "Boxes: [[406, 1180, 452, 1246]], Labels: [1]\n"
          ]
        },
        {
          "output_type": "stream",
          "name": "stderr",
          "text": [
            "\r 18%|█▊        | 3/17 [00:02<00:09,  1.43it/s]"
          ]
        },
        {
          "output_type": "stream",
          "name": "stdout",
          "text": [
            "Boxes: [[344, 783, 442, 842], [448, 673, 506, 724], [496, 817, 592, 887]], Labels: [1, 1, 1]\n",
            "Boxes: [[370, 1101, 422, 1161], [554, 983, 676, 1054]], Labels: [1, 1]\n",
            "Boxes: [[478, 831, 524, 873]], Labels: [1]\n"
          ]
        },
        {
          "output_type": "stream",
          "name": "stderr",
          "text": [
            "\r 24%|██▎       | 4/17 [00:02<00:08,  1.48it/s]"
          ]
        },
        {
          "output_type": "stream",
          "name": "stdout",
          "text": [
            "Boxes: [[630, 672, 692, 751], [544, 1010, 640, 1084]], Labels: [1, 1]\n",
            "Boxes: [[880, 472, 922, 509]], Labels: [1]\n",
            "Boxes: [[342, 751, 390, 787]], Labels: [1]\n"
          ]
        },
        {
          "output_type": "stream",
          "name": "stderr",
          "text": [
            "\r 29%|██▉       | 5/17 [00:03<00:07,  1.55it/s]"
          ]
        },
        {
          "output_type": "stream",
          "name": "stdout",
          "text": [
            "Boxes: [[342, 765, 400, 820], [372, 956, 428, 1004], [440, 978, 542, 1054]], Labels: [1, 1, 1]\n",
            "Boxes: [[460, 624, 502, 660]], Labels: [1]\n",
            "Boxes: [[650, 777, 704, 817]], Labels: [1]\n"
          ]
        },
        {
          "output_type": "stream",
          "name": "stderr",
          "text": [
            "\r 35%|███▌      | 6/17 [00:03<00:06,  1.59it/s]"
          ]
        },
        {
          "output_type": "stream",
          "name": "stdout",
          "text": [
            "Boxes: [[528, 1435, 584, 1540], [550, 1253, 596, 1333]], Labels: [1, 1]\n",
            "Boxes: [[370, 1100, 424, 1157], [540, 965, 688, 1040]], Labels: [1, 1]\n",
            "Boxes: [[346, 538, 394, 578]], Labels: [1]\n"
          ]
        },
        {
          "output_type": "stream",
          "name": "stderr",
          "text": [
            "\r 41%|████      | 7/17 [00:04<00:06,  1.57it/s]"
          ]
        },
        {
          "output_type": "stream",
          "name": "stdout",
          "text": [
            "Boxes: [[548, 981, 680, 1054], [382, 1098, 434, 1149]], Labels: [1, 1]\n",
            "Boxes: [[304, 740, 358, 785], [408, 795, 504, 852]], Labels: [1, 1]\n",
            "Boxes: [[548, 773, 642, 846], [436, 680, 490, 730], [316, 766, 432, 824]], Labels: [1, 1, 1]\n"
          ]
        },
        {
          "output_type": "stream",
          "name": "stderr",
          "text": [
            "\r 47%|████▋     | 8/17 [00:05<00:05,  1.59it/s]"
          ]
        },
        {
          "output_type": "stream",
          "name": "stdout",
          "text": [
            "Boxes: [[426, 1205, 492, 1269], [406, 1020, 466, 1082]], Labels: [1, 1]\n",
            "Boxes: [[336, 834, 388, 878]], Labels: [1]\n",
            "Boxes: [[372, 1097, 424, 1156], [524, 1026, 652, 1099]], Labels: [1, 1]\n"
          ]
        },
        {
          "output_type": "stream",
          "name": "stderr",
          "text": [
            "\r 53%|█████▎    | 9/17 [00:05<00:05,  1.51it/s]"
          ]
        },
        {
          "output_type": "stream",
          "name": "stdout",
          "text": [
            "Boxes: [[240, 1394, 334, 1478]], Labels: [1]\n",
            "Boxes: [[574, 880, 618, 909]], Labels: [1]\n",
            "Boxes: [[424, 763, 520, 828]], Labels: [1]\n"
          ]
        },
        {
          "output_type": "stream",
          "name": "stderr",
          "text": [
            "\r 59%|█████▉    | 10/17 [00:06<00:04,  1.51it/s]"
          ]
        },
        {
          "output_type": "stream",
          "name": "stdout",
          "text": [
            "Boxes: [[526, 393, 558, 423]], Labels: [1]\n",
            "Boxes: [[410, 764, 524, 821]], Labels: [1]\n",
            "Boxes: [[474, 857, 530, 905]], Labels: [1]\n"
          ]
        },
        {
          "output_type": "stream",
          "name": "stderr",
          "text": [
            "\r 65%|██████▍   | 11/17 [00:07<00:03,  1.54it/s]"
          ]
        },
        {
          "output_type": "stream",
          "name": "stdout",
          "text": [
            "Boxes: [[264, 715, 322, 761]], Labels: [1]\n",
            "Boxes: [[746, 533, 788, 569]], Labels: [1]\n",
            "Boxes: [[8, 579, 58, 624]], Labels: [1]\n"
          ]
        },
        {
          "output_type": "stream",
          "name": "stderr",
          "text": [
            "\r 71%|███████   | 12/17 [00:07<00:03,  1.54it/s]"
          ]
        },
        {
          "output_type": "stream",
          "name": "stdout",
          "text": [
            "Boxes: [[286, 779, 390, 834], [272, 702, 330, 743], [398, 563, 446, 596]], Labels: [1, 1, 1]\n",
            "Boxes: [[372, 957, 436, 1004], [338, 768, 412, 823]], Labels: [1, 1]\n",
            "Boxes: [[474, 752, 516, 788]], Labels: [1]\n"
          ]
        },
        {
          "output_type": "stream",
          "name": "stderr",
          "text": [
            "\r 76%|███████▋  | 13/17 [00:08<00:02,  1.58it/s]"
          ]
        },
        {
          "output_type": "stream",
          "name": "stdout",
          "text": [
            "Boxes: [[458, 779, 512, 813], [366, 889, 434, 926]], Labels: [1, 1]\n",
            "Boxes: [[268, 785, 422, 844]], Labels: [1]\n",
            "Boxes: [[424, 707, 478, 756], [376, 890, 448, 941]], Labels: [1, 1]\n"
          ]
        },
        {
          "output_type": "stream",
          "name": "stderr",
          "text": [
            "\r 82%|████████▏ | 14/17 [00:09<00:01,  1.62it/s]"
          ]
        },
        {
          "output_type": "stream",
          "name": "stdout",
          "text": [
            "Boxes: [[324, 1307, 394, 1402], [424, 1478, 564, 1596]], Labels: [1, 1]\n",
            "Boxes: [[706, 670, 766, 755]], Labels: [1]\n",
            "Boxes: [[224, 1244, 266, 1309]], Labels: [1]\n"
          ]
        },
        {
          "output_type": "stream",
          "name": "stderr",
          "text": [
            "\r 88%|████████▊ | 15/17 [00:09<00:01,  1.54it/s]"
          ]
        },
        {
          "output_type": "stream",
          "name": "stdout",
          "text": [
            "Boxes: [[346, 1057, 396, 1114], [388, 870, 446, 961]], Labels: [1, 1]\n",
            "Boxes: [[514, 981, 610, 1054], [422, 962, 492, 1014], [418, 773, 474, 828]], Labels: [1, 1, 1]\n",
            "Boxes: [[366, 467, 480, 508]], Labels: [1]\n"
          ]
        },
        {
          "output_type": "stream",
          "name": "stderr",
          "text": [
            "\r 94%|█████████▍| 16/17 [00:10<00:00,  1.56it/s]"
          ]
        },
        {
          "output_type": "stream",
          "name": "stdout",
          "text": [
            "Boxes: [[640, 1488, 798, 1566]], Labels: [1]\n",
            "Boxes: [[188, 1442, 296, 1540]], Labels: [1]\n"
          ]
        },
        {
          "output_type": "stream",
          "name": "stderr",
          "text": [
            "100%|██████████| 17/17 [00:10<00:00,  1.57it/s]\n"
          ]
        },
        {
          "output_type": "stream",
          "name": "stdout",
          "text": [
            "Train Loss: 7.7839\n",
            "Epoch 7/10\n"
          ]
        },
        {
          "output_type": "stream",
          "name": "stderr",
          "text": [
            "\r  0%|          | 0/17 [00:00<?, ?it/s]"
          ]
        },
        {
          "output_type": "stream",
          "name": "stdout",
          "text": [
            "Boxes: [[556, 950, 638, 1035], [338, 937, 402, 997], [308, 756, 372, 813]], Labels: [1, 1, 1]\n",
            "Boxes: [[264, 715, 322, 761]], Labels: [1]\n",
            "Boxes: [[336, 834, 388, 878]], Labels: [1]\n"
          ]
        },
        {
          "output_type": "stream",
          "name": "stderr",
          "text": [
            "\r  6%|▌         | 1/17 [00:00<00:09,  1.68it/s]"
          ]
        },
        {
          "output_type": "stream",
          "name": "stdout",
          "text": [
            "Boxes: [[268, 785, 422, 844]], Labels: [1]\n",
            "Boxes: [[372, 957, 436, 1004], [338, 768, 412, 823]], Labels: [1, 1]\n",
            "Boxes: [[478, 831, 524, 873]], Labels: [1]\n"
          ]
        },
        {
          "output_type": "stream",
          "name": "stderr",
          "text": [
            "\r 12%|█▏        | 2/17 [00:01<00:09,  1.67it/s]"
          ]
        },
        {
          "output_type": "stream",
          "name": "stdout",
          "text": [
            "Boxes: [[344, 783, 442, 842], [448, 673, 506, 724], [496, 817, 592, 887]], Labels: [1, 1, 1]\n",
            "Boxes: [[426, 1205, 492, 1269], [406, 1020, 466, 1082]], Labels: [1, 1]\n",
            "Boxes: [[366, 1528, 420, 1599]], Labels: [1]\n"
          ]
        },
        {
          "output_type": "stream",
          "name": "stderr",
          "text": [
            "\r 18%|█▊        | 3/17 [00:01<00:08,  1.60it/s]"
          ]
        },
        {
          "output_type": "stream",
          "name": "stdout",
          "text": [
            "Boxes: [[528, 1435, 584, 1540], [550, 1253, 596, 1333]], Labels: [1, 1]\n",
            "Boxes: [[8, 579, 58, 624]], Labels: [1]\n",
            "Boxes: [[474, 857, 530, 905]], Labels: [1]\n"
          ]
        },
        {
          "output_type": "stream",
          "name": "stderr",
          "text": [
            "\r 24%|██▎       | 4/17 [00:02<00:08,  1.58it/s]"
          ]
        },
        {
          "output_type": "stream",
          "name": "stdout",
          "text": [
            "Boxes: [[726, 1235, 828, 1363]], Labels: [1]\n",
            "Boxes: [[574, 880, 618, 909]], Labels: [1]\n",
            "Boxes: [[342, 765, 400, 820], [372, 956, 428, 1004], [440, 978, 542, 1054]], Labels: [1, 1, 1]\n"
          ]
        },
        {
          "output_type": "stream",
          "name": "stderr",
          "text": [
            "\r 29%|██▉       | 5/17 [00:03<00:07,  1.57it/s]"
          ]
        },
        {
          "output_type": "stream",
          "name": "stdout",
          "text": [
            "Boxes: [[458, 779, 512, 813], [366, 889, 434, 926]], Labels: [1, 1]\n",
            "Boxes: [[224, 1244, 266, 1309]], Labels: [1]\n",
            "Boxes: [[378, 770, 468, 830]], Labels: [1]\n"
          ]
        },
        {
          "output_type": "stream",
          "name": "stderr",
          "text": [
            "\r 35%|███▌      | 6/17 [00:03<00:07,  1.53it/s]"
          ]
        },
        {
          "output_type": "stream",
          "name": "stdout",
          "text": [
            "Boxes: [[474, 752, 516, 788]], Labels: [1]\n",
            "Boxes: [[548, 981, 680, 1054], [382, 1098, 434, 1149]], Labels: [1, 1]\n",
            "Boxes: [[406, 1180, 452, 1246]], Labels: [1]\n"
          ]
        },
        {
          "output_type": "stream",
          "name": "stderr",
          "text": [
            "\r 41%|████      | 7/17 [00:04<00:06,  1.53it/s]"
          ]
        },
        {
          "output_type": "stream",
          "name": "stdout",
          "text": [
            "Boxes: [[706, 670, 766, 755]], Labels: [1]\n",
            "Boxes: [[880, 472, 922, 509]], Labels: [1]\n",
            "Boxes: [[650, 777, 704, 817]], Labels: [1]\n"
          ]
        },
        {
          "output_type": "stream",
          "name": "stderr",
          "text": [
            "\r 47%|████▋     | 8/17 [00:05<00:05,  1.54it/s]"
          ]
        },
        {
          "output_type": "stream",
          "name": "stdout",
          "text": [
            "Boxes: [[526, 393, 558, 423]], Labels: [1]\n",
            "Boxes: [[706, 444, 746, 477]], Labels: [1]\n",
            "Boxes: [[640, 1488, 798, 1566]], Labels: [1]\n"
          ]
        },
        {
          "output_type": "stream",
          "name": "stderr",
          "text": [
            "\r 53%|█████▎    | 9/17 [00:05<00:05,  1.56it/s]"
          ]
        },
        {
          "output_type": "stream",
          "name": "stdout",
          "text": [
            "Boxes: [[240, 1394, 334, 1478]], Labels: [1]\n",
            "Boxes: [[370, 1101, 422, 1161], [554, 983, 676, 1054]], Labels: [1, 1]\n",
            "Boxes: [[514, 981, 610, 1054], [422, 962, 492, 1014], [418, 773, 474, 828]], Labels: [1, 1, 1]\n"
          ]
        },
        {
          "output_type": "stream",
          "name": "stderr",
          "text": [
            "\r 59%|█████▉    | 10/17 [00:06<00:04,  1.55it/s]"
          ]
        },
        {
          "output_type": "stream",
          "name": "stdout",
          "text": [
            "Boxes: [[746, 533, 788, 569]], Labels: [1]\n",
            "Boxes: [[188, 1442, 296, 1540]], Labels: [1]\n",
            "Boxes: [[346, 1057, 396, 1114], [388, 870, 446, 961]], Labels: [1, 1]\n"
          ]
        },
        {
          "output_type": "stream",
          "name": "stderr",
          "text": [
            "\r 65%|██████▍   | 11/17 [00:06<00:03,  1.59it/s]"
          ]
        },
        {
          "output_type": "stream",
          "name": "stdout",
          "text": [
            "Boxes: [[326, 540, 370, 577]], Labels: [1]\n",
            "Boxes: [[630, 672, 692, 751], [544, 1010, 640, 1084]], Labels: [1, 1]\n",
            "Boxes: [[324, 1307, 394, 1402], [424, 1478, 564, 1596]], Labels: [1, 1]\n"
          ]
        },
        {
          "output_type": "stream",
          "name": "stderr",
          "text": [
            "\r 71%|███████   | 12/17 [00:07<00:03,  1.57it/s]"
          ]
        },
        {
          "output_type": "stream",
          "name": "stdout",
          "text": [
            "Boxes: [[392, 779, 540, 829]], Labels: [1]\n",
            "Boxes: [[304, 740, 358, 785], [408, 795, 504, 852]], Labels: [1, 1]\n",
            "Boxes: [[548, 773, 642, 846], [436, 680, 490, 730], [316, 766, 432, 824]], Labels: [1, 1, 1]\n"
          ]
        },
        {
          "output_type": "stream",
          "name": "stderr",
          "text": [
            "\r 76%|███████▋  | 13/17 [00:08<00:02,  1.55it/s]"
          ]
        },
        {
          "output_type": "stream",
          "name": "stdout",
          "text": [
            "Boxes: [[346, 538, 394, 578]], Labels: [1]\n",
            "Boxes: [[408, 780, 516, 840]], Labels: [1]\n",
            "Boxes: [[286, 779, 390, 834], [272, 702, 330, 743], [398, 563, 446, 596]], Labels: [1, 1, 1]\n"
          ]
        },
        {
          "output_type": "stream",
          "name": "stderr",
          "text": [
            "\r 82%|████████▏ | 14/17 [00:08<00:01,  1.55it/s]"
          ]
        },
        {
          "output_type": "stream",
          "name": "stdout",
          "text": [
            "Boxes: [[424, 707, 478, 756], [376, 890, 448, 941]], Labels: [1, 1]\n",
            "Boxes: [[424, 763, 520, 828]], Labels: [1]\n",
            "Boxes: [[460, 624, 502, 660]], Labels: [1]\n"
          ]
        },
        {
          "output_type": "stream",
          "name": "stderr",
          "text": [
            "\r 88%|████████▊ | 15/17 [00:09<00:01,  1.51it/s]"
          ]
        },
        {
          "output_type": "stream",
          "name": "stdout",
          "text": [
            "Boxes: [[366, 467, 480, 508]], Labels: [1]\n",
            "Boxes: [[342, 751, 390, 787]], Labels: [1]\n",
            "Boxes: [[410, 764, 524, 821]], Labels: [1]\n"
          ]
        },
        {
          "output_type": "stream",
          "name": "stderr",
          "text": [
            "\r 94%|█████████▍| 16/17 [00:10<00:00,  1.49it/s]"
          ]
        },
        {
          "output_type": "stream",
          "name": "stdout",
          "text": [
            "Boxes: [[372, 1097, 424, 1156], [524, 1026, 652, 1099]], Labels: [1, 1]\n",
            "Boxes: [[370, 1100, 424, 1157], [540, 965, 688, 1040]], Labels: [1, 1]\n"
          ]
        },
        {
          "output_type": "stream",
          "name": "stderr",
          "text": [
            "100%|██████████| 17/17 [00:10<00:00,  1.57it/s]\n"
          ]
        },
        {
          "output_type": "stream",
          "name": "stdout",
          "text": [
            "Train Loss: 7.9080\n",
            "Epoch 8/10\n"
          ]
        },
        {
          "output_type": "stream",
          "name": "stderr",
          "text": [
            "\r  0%|          | 0/17 [00:00<?, ?it/s]"
          ]
        },
        {
          "output_type": "stream",
          "name": "stdout",
          "text": [
            "Boxes: [[224, 1244, 266, 1309]], Labels: [1]\n",
            "Boxes: [[706, 444, 746, 477]], Labels: [1]\n",
            "Boxes: [[424, 707, 478, 756], [376, 890, 448, 941]], Labels: [1, 1]\n"
          ]
        },
        {
          "output_type": "stream",
          "name": "stderr",
          "text": [
            "\r  6%|▌         | 1/17 [00:00<00:10,  1.46it/s]"
          ]
        },
        {
          "output_type": "stream",
          "name": "stdout",
          "text": [
            "Boxes: [[630, 672, 692, 751], [544, 1010, 640, 1084]], Labels: [1, 1]\n",
            "Boxes: [[304, 740, 358, 785], [408, 795, 504, 852]], Labels: [1, 1]\n",
            "Boxes: [[8, 579, 58, 624]], Labels: [1]\n"
          ]
        },
        {
          "output_type": "stream",
          "name": "stderr",
          "text": [
            "\r 12%|█▏        | 2/17 [00:01<00:09,  1.54it/s]"
          ]
        },
        {
          "output_type": "stream",
          "name": "stdout",
          "text": [
            "Boxes: [[336, 834, 388, 878]], Labels: [1]\n",
            "Boxes: [[574, 880, 618, 909]], Labels: [1]\n",
            "Boxes: [[264, 715, 322, 761]], Labels: [1]\n"
          ]
        },
        {
          "output_type": "stream",
          "name": "stderr",
          "text": [
            "\r 18%|█▊        | 3/17 [00:01<00:08,  1.59it/s]"
          ]
        },
        {
          "output_type": "stream",
          "name": "stdout",
          "text": [
            "Boxes: [[342, 751, 390, 787]], Labels: [1]\n",
            "Boxes: [[458, 779, 512, 813], [366, 889, 434, 926]], Labels: [1, 1]\n",
            "Boxes: [[406, 1180, 452, 1246]], Labels: [1]\n"
          ]
        },
        {
          "output_type": "stream",
          "name": "stderr",
          "text": [
            "\r 24%|██▎       | 4/17 [00:02<00:08,  1.62it/s]"
          ]
        },
        {
          "output_type": "stream",
          "name": "stdout",
          "text": [
            "Boxes: [[268, 785, 422, 844]], Labels: [1]\n",
            "Boxes: [[372, 1097, 424, 1156], [524, 1026, 652, 1099]], Labels: [1, 1]\n",
            "Boxes: [[408, 780, 516, 840]], Labels: [1]\n"
          ]
        },
        {
          "output_type": "stream",
          "name": "stderr",
          "text": [
            "\r 29%|██▉       | 5/17 [00:03<00:07,  1.58it/s]"
          ]
        },
        {
          "output_type": "stream",
          "name": "stdout",
          "text": [
            "Boxes: [[346, 538, 394, 578]], Labels: [1]\n",
            "Boxes: [[286, 779, 390, 834], [272, 702, 330, 743], [398, 563, 446, 596]], Labels: [1, 1, 1]\n",
            "Boxes: [[548, 773, 642, 846], [436, 680, 490, 730], [316, 766, 432, 824]], Labels: [1, 1, 1]\n"
          ]
        },
        {
          "output_type": "stream",
          "name": "stderr",
          "text": [
            "\r 35%|███▌      | 6/17 [00:03<00:06,  1.61it/s]"
          ]
        },
        {
          "output_type": "stream",
          "name": "stdout",
          "text": [
            "Boxes: [[370, 1100, 424, 1157], [540, 965, 688, 1040]], Labels: [1, 1]\n",
            "Boxes: [[370, 1101, 422, 1161], [554, 983, 676, 1054]], Labels: [1, 1]\n",
            "Boxes: [[188, 1442, 296, 1540]], Labels: [1]\n"
          ]
        },
        {
          "output_type": "stream",
          "name": "stderr",
          "text": [
            "\r 41%|████      | 7/17 [00:04<00:06,  1.60it/s]"
          ]
        },
        {
          "output_type": "stream",
          "name": "stdout",
          "text": [
            "Boxes: [[378, 770, 468, 830]], Labels: [1]\n",
            "Boxes: [[650, 777, 704, 817]], Labels: [1]\n",
            "Boxes: [[474, 752, 516, 788]], Labels: [1]\n"
          ]
        },
        {
          "output_type": "stream",
          "name": "stderr",
          "text": [
            "\r 47%|████▋     | 8/17 [00:04<00:05,  1.63it/s]"
          ]
        },
        {
          "output_type": "stream",
          "name": "stdout",
          "text": [
            "Boxes: [[514, 981, 610, 1054], [422, 962, 492, 1014], [418, 773, 474, 828]], Labels: [1, 1, 1]\n",
            "Boxes: [[424, 763, 520, 828]], Labels: [1]\n",
            "Boxes: [[460, 624, 502, 660]], Labels: [1]\n"
          ]
        },
        {
          "output_type": "stream",
          "name": "stderr",
          "text": [
            "\r 53%|█████▎    | 9/17 [00:05<00:04,  1.64it/s]"
          ]
        },
        {
          "output_type": "stream",
          "name": "stdout",
          "text": [
            "Boxes: [[474, 857, 530, 905]], Labels: [1]\n",
            "Boxes: [[746, 533, 788, 569]], Labels: [1]\n",
            "Boxes: [[346, 1057, 396, 1114], [388, 870, 446, 961]], Labels: [1, 1]\n"
          ]
        },
        {
          "output_type": "stream",
          "name": "stderr",
          "text": [
            "\r 59%|█████▉    | 10/17 [00:06<00:04,  1.62it/s]"
          ]
        },
        {
          "output_type": "stream",
          "name": "stdout",
          "text": [
            "Boxes: [[324, 1307, 394, 1402], [424, 1478, 564, 1596]], Labels: [1, 1]\n",
            "Boxes: [[426, 1205, 492, 1269], [406, 1020, 466, 1082]], Labels: [1, 1]\n",
            "Boxes: [[344, 783, 442, 842], [448, 673, 506, 724], [496, 817, 592, 887]], Labels: [1, 1, 1]\n"
          ]
        },
        {
          "output_type": "stream",
          "name": "stderr",
          "text": [
            "\r 65%|██████▍   | 11/17 [00:06<00:03,  1.58it/s]"
          ]
        },
        {
          "output_type": "stream",
          "name": "stdout",
          "text": [
            "Boxes: [[326, 540, 370, 577]], Labels: [1]\n",
            "Boxes: [[640, 1488, 798, 1566]], Labels: [1]\n",
            "Boxes: [[372, 957, 436, 1004], [338, 768, 412, 823]], Labels: [1, 1]\n"
          ]
        },
        {
          "output_type": "stream",
          "name": "stderr",
          "text": [
            "\r 71%|███████   | 12/17 [00:07<00:03,  1.56it/s]"
          ]
        },
        {
          "output_type": "stream",
          "name": "stdout",
          "text": [
            "Boxes: [[366, 1528, 420, 1599]], Labels: [1]\n",
            "Boxes: [[342, 765, 400, 820], [372, 956, 428, 1004], [440, 978, 542, 1054]], Labels: [1, 1, 1]\n",
            "Boxes: [[706, 670, 766, 755]], Labels: [1]\n"
          ]
        },
        {
          "output_type": "stream",
          "name": "stderr",
          "text": [
            "\r 76%|███████▋  | 13/17 [00:08<00:02,  1.54it/s]"
          ]
        },
        {
          "output_type": "stream",
          "name": "stdout",
          "text": [
            "Boxes: [[548, 981, 680, 1054], [382, 1098, 434, 1149]], Labels: [1, 1]\n",
            "Boxes: [[392, 779, 540, 829]], Labels: [1]\n",
            "Boxes: [[478, 831, 524, 873]], Labels: [1]\n"
          ]
        },
        {
          "output_type": "stream",
          "name": "stderr",
          "text": [
            "\r 82%|████████▏ | 14/17 [00:08<00:01,  1.56it/s]"
          ]
        },
        {
          "output_type": "stream",
          "name": "stdout",
          "text": [
            "Boxes: [[528, 1435, 584, 1540], [550, 1253, 596, 1333]], Labels: [1, 1]\n",
            "Boxes: [[410, 764, 524, 821]], Labels: [1]\n",
            "Boxes: [[556, 950, 638, 1035], [338, 937, 402, 997], [308, 756, 372, 813]], Labels: [1, 1, 1]\n"
          ]
        },
        {
          "output_type": "stream",
          "name": "stderr",
          "text": [
            "\r 88%|████████▊ | 15/17 [00:09<00:01,  1.56it/s]"
          ]
        },
        {
          "output_type": "stream",
          "name": "stdout",
          "text": [
            "Boxes: [[240, 1394, 334, 1478]], Labels: [1]\n",
            "Boxes: [[526, 393, 558, 423]], Labels: [1]\n",
            "Boxes: [[880, 472, 922, 509]], Labels: [1]\n"
          ]
        },
        {
          "output_type": "stream",
          "name": "stderr",
          "text": [
            "\r 94%|█████████▍| 16/17 [00:10<00:00,  1.56it/s]"
          ]
        },
        {
          "output_type": "stream",
          "name": "stdout",
          "text": [
            "Boxes: [[366, 467, 480, 508]], Labels: [1]\n",
            "Boxes: [[726, 1235, 828, 1363]], Labels: [1]\n"
          ]
        },
        {
          "output_type": "stream",
          "name": "stderr",
          "text": [
            "100%|██████████| 17/17 [00:10<00:00,  1.60it/s]\n"
          ]
        },
        {
          "output_type": "stream",
          "name": "stdout",
          "text": [
            "Train Loss: 9.6449\n",
            "Epoch 9/10\n"
          ]
        },
        {
          "output_type": "stream",
          "name": "stderr",
          "text": [
            "\r  0%|          | 0/17 [00:00<?, ?it/s]"
          ]
        },
        {
          "output_type": "stream",
          "name": "stdout",
          "text": [
            "Boxes: [[640, 1488, 798, 1566]], Labels: [1]\n",
            "Boxes: [[410, 764, 524, 821]], Labels: [1]\n",
            "Boxes: [[324, 1307, 394, 1402], [424, 1478, 564, 1596]], Labels: [1, 1]\n"
          ]
        },
        {
          "output_type": "stream",
          "name": "stderr",
          "text": [
            "\r  6%|▌         | 1/17 [00:00<00:11,  1.35it/s]"
          ]
        },
        {
          "output_type": "stream",
          "name": "stdout",
          "text": [
            "Boxes: [[726, 1235, 828, 1363]], Labels: [1]\n",
            "Boxes: [[8, 579, 58, 624]], Labels: [1]\n",
            "Boxes: [[366, 1528, 420, 1599]], Labels: [1]\n"
          ]
        },
        {
          "output_type": "stream",
          "name": "stderr",
          "text": [
            "\r 12%|█▏        | 2/17 [00:01<00:11,  1.35it/s]"
          ]
        },
        {
          "output_type": "stream",
          "name": "stdout",
          "text": [
            "Boxes: [[474, 752, 516, 788]], Labels: [1]\n",
            "Boxes: [[880, 472, 922, 509]], Labels: [1]\n",
            "Boxes: [[706, 670, 766, 755]], Labels: [1]\n"
          ]
        },
        {
          "output_type": "stream",
          "name": "stderr",
          "text": [
            "\r 18%|█▊        | 3/17 [00:02<00:10,  1.39it/s]"
          ]
        },
        {
          "output_type": "stream",
          "name": "stdout",
          "text": [
            "Boxes: [[268, 785, 422, 844]], Labels: [1]\n",
            "Boxes: [[344, 783, 442, 842], [448, 673, 506, 724], [496, 817, 592, 887]], Labels: [1, 1, 1]\n",
            "Boxes: [[326, 540, 370, 577]], Labels: [1]\n"
          ]
        },
        {
          "output_type": "stream",
          "name": "stderr",
          "text": [
            "\r 24%|██▎       | 4/17 [00:02<00:08,  1.50it/s]"
          ]
        },
        {
          "output_type": "stream",
          "name": "stdout",
          "text": [
            "Boxes: [[458, 779, 512, 813], [366, 889, 434, 926]], Labels: [1, 1]\n",
            "Boxes: [[424, 707, 478, 756], [376, 890, 448, 941]], Labels: [1, 1]\n",
            "Boxes: [[346, 538, 394, 578]], Labels: [1]\n"
          ]
        },
        {
          "output_type": "stream",
          "name": "stderr",
          "text": [
            "\r 29%|██▉       | 5/17 [00:03<00:07,  1.55it/s]"
          ]
        },
        {
          "output_type": "stream",
          "name": "stdout",
          "text": [
            "Boxes: [[706, 444, 746, 477]], Labels: [1]\n",
            "Boxes: [[408, 780, 516, 840]], Labels: [1]\n",
            "Boxes: [[556, 950, 638, 1035], [338, 937, 402, 997], [308, 756, 372, 813]], Labels: [1, 1, 1]\n"
          ]
        },
        {
          "output_type": "stream",
          "name": "stderr",
          "text": [
            "\r 35%|███▌      | 6/17 [00:03<00:06,  1.59it/s]"
          ]
        },
        {
          "output_type": "stream",
          "name": "stdout",
          "text": [
            "Boxes: [[372, 957, 436, 1004], [338, 768, 412, 823]], Labels: [1, 1]\n",
            "Boxes: [[460, 624, 502, 660]], Labels: [1]\n",
            "Boxes: [[346, 1057, 396, 1114], [388, 870, 446, 961]], Labels: [1, 1]\n"
          ]
        },
        {
          "output_type": "stream",
          "name": "stderr",
          "text": [
            "\r 41%|████      | 7/17 [00:04<00:06,  1.55it/s]"
          ]
        },
        {
          "output_type": "stream",
          "name": "stdout",
          "text": [
            "Boxes: [[426, 1205, 492, 1269], [406, 1020, 466, 1082]], Labels: [1, 1]\n",
            "Boxes: [[370, 1101, 422, 1161], [554, 983, 676, 1054]], Labels: [1, 1]\n",
            "Boxes: [[746, 533, 788, 569]], Labels: [1]\n"
          ]
        },
        {
          "output_type": "stream",
          "name": "stderr",
          "text": [
            "\r 47%|████▋     | 8/17 [00:05<00:05,  1.56it/s]"
          ]
        },
        {
          "output_type": "stream",
          "name": "stdout",
          "text": [
            "Boxes: [[526, 393, 558, 423]], Labels: [1]\n",
            "Boxes: [[548, 773, 642, 846], [436, 680, 490, 730], [316, 766, 432, 824]], Labels: [1, 1, 1]\n",
            "Boxes: [[474, 857, 530, 905]], Labels: [1]\n"
          ]
        },
        {
          "output_type": "stream",
          "name": "stderr",
          "text": [
            "\r 53%|█████▎    | 9/17 [00:05<00:05,  1.57it/s]"
          ]
        },
        {
          "output_type": "stream",
          "name": "stdout",
          "text": [
            "Boxes: [[240, 1394, 334, 1478]], Labels: [1]\n",
            "Boxes: [[514, 981, 610, 1054], [422, 962, 492, 1014], [418, 773, 474, 828]], Labels: [1, 1, 1]\n",
            "Boxes: [[286, 779, 390, 834], [272, 702, 330, 743], [398, 563, 446, 596]], Labels: [1, 1, 1]\n"
          ]
        },
        {
          "output_type": "stream",
          "name": "stderr",
          "text": [
            "\r 59%|█████▉    | 10/17 [00:06<00:04,  1.56it/s]"
          ]
        },
        {
          "output_type": "stream",
          "name": "stdout",
          "text": [
            "Boxes: [[372, 1097, 424, 1156], [524, 1026, 652, 1099]], Labels: [1, 1]\n",
            "Boxes: [[378, 770, 468, 830]], Labels: [1]\n",
            "Boxes: [[406, 1180, 452, 1246]], Labels: [1]\n"
          ]
        },
        {
          "output_type": "stream",
          "name": "stderr",
          "text": [
            "\r 65%|██████▍   | 11/17 [00:07<00:03,  1.54it/s]"
          ]
        },
        {
          "output_type": "stream",
          "name": "stdout",
          "text": [
            "Boxes: [[548, 981, 680, 1054], [382, 1098, 434, 1149]], Labels: [1, 1]\n",
            "Boxes: [[366, 467, 480, 508]], Labels: [1]\n",
            "Boxes: [[342, 751, 390, 787]], Labels: [1]\n"
          ]
        },
        {
          "output_type": "stream",
          "name": "stderr",
          "text": [
            "\r 71%|███████   | 12/17 [00:07<00:03,  1.54it/s]"
          ]
        },
        {
          "output_type": "stream",
          "name": "stdout",
          "text": [
            "Boxes: [[264, 715, 322, 761]], Labels: [1]\n",
            "Boxes: [[424, 763, 520, 828]], Labels: [1]\n",
            "Boxes: [[528, 1435, 584, 1540], [550, 1253, 596, 1333]], Labels: [1, 1]\n"
          ]
        },
        {
          "output_type": "stream",
          "name": "stderr",
          "text": [
            "\r 76%|███████▋  | 13/17 [00:08<00:02,  1.53it/s]"
          ]
        },
        {
          "output_type": "stream",
          "name": "stdout",
          "text": [
            "Boxes: [[478, 831, 524, 873]], Labels: [1]\n",
            "Boxes: [[392, 779, 540, 829]], Labels: [1]\n",
            "Boxes: [[188, 1442, 296, 1540]], Labels: [1]\n"
          ]
        },
        {
          "output_type": "stream",
          "name": "stderr",
          "text": [
            "\r 82%|████████▏ | 14/17 [00:09<00:01,  1.55it/s]"
          ]
        },
        {
          "output_type": "stream",
          "name": "stdout",
          "text": [
            "Boxes: [[370, 1100, 424, 1157], [540, 965, 688, 1040]], Labels: [1, 1]\n",
            "Boxes: [[342, 765, 400, 820], [372, 956, 428, 1004], [440, 978, 542, 1054]], Labels: [1, 1, 1]\n",
            "Boxes: [[630, 672, 692, 751], [544, 1010, 640, 1084]], Labels: [1, 1]\n"
          ]
        },
        {
          "output_type": "stream",
          "name": "stderr",
          "text": [
            "\r 88%|████████▊ | 15/17 [00:09<00:01,  1.54it/s]"
          ]
        },
        {
          "output_type": "stream",
          "name": "stdout",
          "text": [
            "Boxes: [[336, 834, 388, 878]], Labels: [1]\n",
            "Boxes: [[574, 880, 618, 909]], Labels: [1]\n",
            "Boxes: [[304, 740, 358, 785], [408, 795, 504, 852]], Labels: [1, 1]\n"
          ]
        },
        {
          "output_type": "stream",
          "name": "stderr",
          "text": [
            "\r 94%|█████████▍| 16/17 [00:10<00:00,  1.56it/s]"
          ]
        },
        {
          "output_type": "stream",
          "name": "stdout",
          "text": [
            "Boxes: [[650, 777, 704, 817]], Labels: [1]\n",
            "Boxes: [[224, 1244, 266, 1309]], Labels: [1]\n"
          ]
        },
        {
          "output_type": "stream",
          "name": "stderr",
          "text": [
            "100%|██████████| 17/17 [00:10<00:00,  1.56it/s]\n"
          ]
        },
        {
          "output_type": "stream",
          "name": "stdout",
          "text": [
            "Train Loss: 8.3515\n",
            "Epoch 10/10\n"
          ]
        },
        {
          "output_type": "stream",
          "name": "stderr",
          "text": [
            "\r  0%|          | 0/17 [00:00<?, ?it/s]"
          ]
        },
        {
          "output_type": "stream",
          "name": "stdout",
          "text": [
            "Boxes: [[346, 538, 394, 578]], Labels: [1]\n",
            "Boxes: [[574, 880, 618, 909]], Labels: [1]\n",
            "Boxes: [[726, 1235, 828, 1363]], Labels: [1]\n"
          ]
        },
        {
          "output_type": "stream",
          "name": "stderr",
          "text": [
            "\r  6%|▌         | 1/17 [00:00<00:10,  1.58it/s]"
          ]
        },
        {
          "output_type": "stream",
          "name": "stdout",
          "text": [
            "Boxes: [[8, 579, 58, 624]], Labels: [1]\n",
            "Boxes: [[342, 751, 390, 787]], Labels: [1]\n",
            "Boxes: [[460, 624, 502, 660]], Labels: [1]\n"
          ]
        },
        {
          "output_type": "stream",
          "name": "stderr",
          "text": [
            "\r 12%|█▏        | 2/17 [00:01<00:09,  1.62it/s]"
          ]
        },
        {
          "output_type": "stream",
          "name": "stdout",
          "text": [
            "Boxes: [[268, 785, 422, 844]], Labels: [1]\n",
            "Boxes: [[478, 831, 524, 873]], Labels: [1]\n",
            "Boxes: [[746, 533, 788, 569]], Labels: [1]\n"
          ]
        },
        {
          "output_type": "stream",
          "name": "stderr",
          "text": [
            "\r 18%|█▊        | 3/17 [00:01<00:08,  1.58it/s]"
          ]
        },
        {
          "output_type": "stream",
          "name": "stdout",
          "text": [
            "Boxes: [[304, 740, 358, 785], [408, 795, 504, 852]], Labels: [1, 1]\n",
            "Boxes: [[556, 950, 638, 1035], [338, 937, 402, 997], [308, 756, 372, 813]], Labels: [1, 1, 1]\n",
            "Boxes: [[378, 770, 468, 830]], Labels: [1]\n"
          ]
        },
        {
          "output_type": "stream",
          "name": "stderr",
          "text": [
            "\r 24%|██▎       | 4/17 [00:02<00:08,  1.57it/s]"
          ]
        },
        {
          "output_type": "stream",
          "name": "stdout",
          "text": [
            "Boxes: [[640, 1488, 798, 1566]], Labels: [1]\n",
            "Boxes: [[630, 672, 692, 751], [544, 1010, 640, 1084]], Labels: [1, 1]\n",
            "Boxes: [[424, 763, 520, 828]], Labels: [1]\n"
          ]
        },
        {
          "output_type": "stream",
          "name": "stderr",
          "text": [
            "\r 29%|██▉       | 5/17 [00:03<00:07,  1.54it/s]"
          ]
        },
        {
          "output_type": "stream",
          "name": "stdout",
          "text": [
            "Boxes: [[372, 957, 436, 1004], [338, 768, 412, 823]], Labels: [1, 1]\n",
            "Boxes: [[408, 780, 516, 840]], Labels: [1]\n",
            "Boxes: [[286, 779, 390, 834], [272, 702, 330, 743], [398, 563, 446, 596]], Labels: [1, 1, 1]\n"
          ]
        },
        {
          "output_type": "stream",
          "name": "stderr",
          "text": [
            "\r 35%|███▌      | 6/17 [00:03<00:07,  1.54it/s]"
          ]
        },
        {
          "output_type": "stream",
          "name": "stdout",
          "text": [
            "Boxes: [[346, 1057, 396, 1114], [388, 870, 446, 961]], Labels: [1, 1]\n",
            "Boxes: [[264, 715, 322, 761]], Labels: [1]\n",
            "Boxes: [[324, 1307, 394, 1402], [424, 1478, 564, 1596]], Labels: [1, 1]\n"
          ]
        },
        {
          "output_type": "stream",
          "name": "stderr",
          "text": [
            "\r 41%|████      | 7/17 [00:04<00:06,  1.46it/s]"
          ]
        },
        {
          "output_type": "stream",
          "name": "stdout",
          "text": [
            "Boxes: [[342, 765, 400, 820], [372, 956, 428, 1004], [440, 978, 542, 1054]], Labels: [1, 1, 1]\n",
            "Boxes: [[706, 444, 746, 477]], Labels: [1]\n",
            "Boxes: [[366, 467, 480, 508]], Labels: [1]\n"
          ]
        },
        {
          "output_type": "stream",
          "name": "stderr",
          "text": [
            "\r 47%|████▋     | 8/17 [00:05<00:05,  1.51it/s]"
          ]
        },
        {
          "output_type": "stream",
          "name": "stdout",
          "text": [
            "Boxes: [[458, 779, 512, 813], [366, 889, 434, 926]], Labels: [1, 1]\n",
            "Boxes: [[370, 1101, 422, 1161], [554, 983, 676, 1054]], Labels: [1, 1]\n",
            "Boxes: [[706, 670, 766, 755]], Labels: [1]\n"
          ]
        },
        {
          "output_type": "stream",
          "name": "stderr",
          "text": [
            "\r 53%|█████▎    | 9/17 [00:05<00:05,  1.51it/s]"
          ]
        },
        {
          "output_type": "stream",
          "name": "stdout",
          "text": [
            "Boxes: [[410, 764, 524, 821]], Labels: [1]\n",
            "Boxes: [[326, 540, 370, 577]], Labels: [1]\n",
            "Boxes: [[370, 1100, 424, 1157], [540, 965, 688, 1040]], Labels: [1, 1]\n"
          ]
        },
        {
          "output_type": "stream",
          "name": "stderr",
          "text": [
            "\r 59%|█████▉    | 10/17 [00:06<00:04,  1.55it/s]"
          ]
        },
        {
          "output_type": "stream",
          "name": "stdout",
          "text": [
            "Boxes: [[366, 1528, 420, 1599]], Labels: [1]\n",
            "Boxes: [[526, 393, 558, 423]], Labels: [1]\n",
            "Boxes: [[548, 773, 642, 846], [436, 680, 490, 730], [316, 766, 432, 824]], Labels: [1, 1, 1]\n"
          ]
        },
        {
          "output_type": "stream",
          "name": "stderr",
          "text": [
            "\r 65%|██████▍   | 11/17 [00:07<00:03,  1.54it/s]"
          ]
        },
        {
          "output_type": "stream",
          "name": "stdout",
          "text": [
            "Boxes: [[372, 1097, 424, 1156], [524, 1026, 652, 1099]], Labels: [1, 1]\n",
            "Boxes: [[548, 981, 680, 1054], [382, 1098, 434, 1149]], Labels: [1, 1]\n",
            "Boxes: [[474, 752, 516, 788]], Labels: [1]\n"
          ]
        },
        {
          "output_type": "stream",
          "name": "stderr",
          "text": [
            "\r 71%|███████   | 12/17 [00:07<00:03,  1.56it/s]"
          ]
        },
        {
          "output_type": "stream",
          "name": "stdout",
          "text": [
            "Boxes: [[336, 834, 388, 878]], Labels: [1]\n",
            "Boxes: [[188, 1442, 296, 1540]], Labels: [1]\n",
            "Boxes: [[528, 1435, 584, 1540], [550, 1253, 596, 1333]], Labels: [1, 1]\n"
          ]
        },
        {
          "output_type": "stream",
          "name": "stderr",
          "text": [
            "\r 76%|███████▋  | 13/17 [00:08<00:02,  1.57it/s]"
          ]
        },
        {
          "output_type": "stream",
          "name": "stdout",
          "text": [
            "Boxes: [[344, 783, 442, 842], [448, 673, 506, 724], [496, 817, 592, 887]], Labels: [1, 1, 1]\n",
            "Boxes: [[514, 981, 610, 1054], [422, 962, 492, 1014], [418, 773, 474, 828]], Labels: [1, 1, 1]\n",
            "Boxes: [[240, 1394, 334, 1478]], Labels: [1]\n"
          ]
        },
        {
          "output_type": "stream",
          "name": "stderr",
          "text": [
            "\r 82%|████████▏ | 14/17 [00:09<00:01,  1.58it/s]"
          ]
        },
        {
          "output_type": "stream",
          "name": "stdout",
          "text": [
            "Boxes: [[224, 1244, 266, 1309]], Labels: [1]\n",
            "Boxes: [[474, 857, 530, 905]], Labels: [1]\n",
            "Boxes: [[880, 472, 922, 509]], Labels: [1]\n"
          ]
        },
        {
          "output_type": "stream",
          "name": "stderr",
          "text": [
            "\r 88%|████████▊ | 15/17 [00:09<00:01,  1.58it/s]"
          ]
        },
        {
          "output_type": "stream",
          "name": "stdout",
          "text": [
            "Boxes: [[392, 779, 540, 829]], Labels: [1]\n",
            "Boxes: [[426, 1205, 492, 1269], [406, 1020, 466, 1082]], Labels: [1, 1]\n",
            "Boxes: [[406, 1180, 452, 1246]], Labels: [1]\n"
          ]
        },
        {
          "output_type": "stream",
          "name": "stderr",
          "text": [
            "\r 94%|█████████▍| 16/17 [00:10<00:00,  1.59it/s]"
          ]
        },
        {
          "output_type": "stream",
          "name": "stdout",
          "text": [
            "Boxes: [[424, 707, 478, 756], [376, 890, 448, 941]], Labels: [1, 1]\n",
            "Boxes: [[650, 777, 704, 817]], Labels: [1]\n"
          ]
        },
        {
          "output_type": "stream",
          "name": "stderr",
          "text": [
            "100%|██████████| 17/17 [00:10<00:00,  1.59it/s]"
          ]
        },
        {
          "output_type": "stream",
          "name": "stdout",
          "text": [
            "Train Loss: 7.8982\n"
          ]
        },
        {
          "output_type": "stream",
          "name": "stderr",
          "text": [
            "\n"
          ]
        }
      ]
    },
    {
      "cell_type": "code",
      "source": [
        "\n",
        "# ==========================\n",
        "# 4. Main Training Loop\n",
        "# ==========================\n",
        "def main():\n",
        "    # Configurations\n",
        "    device = torch.device(\"cuda\" if torch.cuda.is_available() else \"cpu\")\n",
        "    batch_size = 8\n",
        "    num_epochs = 10\n",
        "    backbone = 'resnet50'\n",
        "\n",
        "    # Paths\n",
        "    image_dir = '/content/drive/MyDrive/mini project/images'\n",
        "    annotation_dir = '/content/drive/MyDrive/mini project/annotations'\n",
        "\n",
        "    # Dataset and DataLoader\n",
        "    dataset_train = UATDDataset(image_dir, annotation_dir, transforms=get_transforms())\n",
        "    train_loader = DataLoader(dataset_train, batch_size=batch_size, shuffle=True, collate_fn=lambda x: tuple(zip(*x)))\n",
        "\n",
        "    # Model, Optimizer\n",
        "    model = get_faster_rcnn_model(backbone, num_classes=11).to(device)  # 10 classes + background\n",
        "    optimizer = torch.optim.Adam(model.parameters(), lr=0.001)\n",
        "\n",
        "    # Training Loop\n",
        "    for epoch in range(num_epochs):\n",
        "        print(f\"Epoch {epoch + 1}/{num_epochs}\")\n",
        "        train_loss = train_one_epoch(model, optimizer, train_loader, device)\n",
        "        print(f\"Train Loss: {train_loss:.4f}\")\n",
        "    # Plot training loss over epochs\n",
        "    plt.figure(figsize=(10, 5))\n",
        "    plt.plot(range(1, num_epochs + 1), epoch_losses, label='Training Loss', color='blue')\n",
        "    plt.xlabel('Epochs')\n",
        "    plt.ylabel('Loss')\n",
        "    plt.title('Training Loss over Epochs')\n",
        "    plt.legend()\n",
        "    plt.show()\n",
        "\n",
        "\n",
        "if __name__ == \"__main__\":\n",
        "    main()\n"
      ],
      "metadata": {
        "colab": {
          "base_uri": "https://localhost:8080/",
          "height": 1000
        },
        "id": "K-Quhd88y5PT",
        "outputId": "d10d3fe3-cd81-49c8-e9be-81f2e7a8a54a"
      },
      "execution_count": 11,
      "outputs": [
        {
          "output_type": "stream",
          "name": "stdout",
          "text": [
            "Epoch 1/10\n"
          ]
        },
        {
          "output_type": "stream",
          "name": "stderr",
          "text": [
            "\r  0%|          | 0/7 [00:00<?, ?it/s]"
          ]
        },
        {
          "output_type": "stream",
          "name": "stdout",
          "text": [
            "Boxes: [[574, 880, 618, 909]], Labels: [1]\n",
            "Boxes: [[240, 1394, 334, 1478]], Labels: [1]\n",
            "Boxes: [[336, 834, 388, 878]], Labels: [1]\n",
            "Boxes: [[392, 779, 540, 829]], Labels: [1]\n",
            "Boxes: [[650, 777, 704, 817]], Labels: [1]\n",
            "Boxes: [[630, 672, 692, 751], [544, 1010, 640, 1084]], Labels: [1, 1]\n",
            "Boxes: [[426, 1205, 492, 1269], [406, 1020, 466, 1082]], Labels: [1, 1]\n",
            "Boxes: [[366, 467, 480, 508]], Labels: [1]\n"
          ]
        },
        {
          "output_type": "stream",
          "name": "stderr",
          "text": [
            "\r 14%|█▍        | 1/7 [00:02<00:14,  2.36s/it]"
          ]
        },
        {
          "output_type": "stream",
          "name": "stdout",
          "text": [
            "Boxes: [[474, 857, 530, 905]], Labels: [1]\n",
            "Boxes: [[548, 981, 680, 1054], [382, 1098, 434, 1149]], Labels: [1, 1]\n",
            "Boxes: [[746, 533, 788, 569]], Labels: [1]\n",
            "Boxes: [[326, 540, 370, 577]], Labels: [1]\n",
            "Boxes: [[268, 785, 422, 844]], Labels: [1]\n",
            "Boxes: [[460, 624, 502, 660]], Labels: [1]\n",
            "Boxes: [[304, 740, 358, 785], [408, 795, 504, 852]], Labels: [1, 1]\n",
            "Boxes: [[726, 1235, 828, 1363]], Labels: [1]\n"
          ]
        },
        {
          "output_type": "stream",
          "name": "stderr",
          "text": [
            "\r 29%|██▊       | 2/7 [00:03<00:09,  1.91s/it]"
          ]
        },
        {
          "output_type": "stream",
          "name": "stdout",
          "text": [
            "Boxes: [[372, 1097, 424, 1156], [524, 1026, 652, 1099]], Labels: [1, 1]\n",
            "Boxes: [[406, 1180, 452, 1246]], Labels: [1]\n",
            "Boxes: [[372, 957, 436, 1004], [338, 768, 412, 823]], Labels: [1, 1]\n",
            "Boxes: [[424, 763, 520, 828]], Labels: [1]\n",
            "Boxes: [[378, 770, 468, 830]], Labels: [1]\n",
            "Boxes: [[548, 773, 642, 846], [436, 680, 490, 730], [316, 766, 432, 824]], Labels: [1, 1, 1]\n",
            "Boxes: [[706, 444, 746, 477]], Labels: [1]\n",
            "Boxes: [[8, 579, 58, 624]], Labels: [1]\n"
          ]
        },
        {
          "output_type": "stream",
          "name": "stderr",
          "text": [
            "\r 43%|████▎     | 3/7 [00:05<00:07,  1.86s/it]"
          ]
        },
        {
          "output_type": "stream",
          "name": "stdout",
          "text": [
            "Boxes: [[424, 707, 478, 756], [376, 890, 448, 941]], Labels: [1, 1]\n",
            "Boxes: [[286, 779, 390, 834], [272, 702, 330, 743], [398, 563, 446, 596]], Labels: [1, 1, 1]\n",
            "Boxes: [[880, 472, 922, 509]], Labels: [1]\n",
            "Boxes: [[474, 752, 516, 788]], Labels: [1]\n",
            "Boxes: [[528, 1435, 584, 1540], [550, 1253, 596, 1333]], Labels: [1, 1]\n",
            "Boxes: [[370, 1101, 422, 1161], [554, 983, 676, 1054]], Labels: [1, 1]\n",
            "Boxes: [[514, 981, 610, 1054], [422, 962, 492, 1014], [418, 773, 474, 828]], Labels: [1, 1, 1]\n",
            "Boxes: [[706, 670, 766, 755]], Labels: [1]\n"
          ]
        },
        {
          "output_type": "stream",
          "name": "stderr",
          "text": [
            "\r 57%|█████▋    | 4/7 [00:08<00:06,  2.02s/it]"
          ]
        },
        {
          "output_type": "stream",
          "name": "stdout",
          "text": [
            "Boxes: [[408, 780, 516, 840]], Labels: [1]\n",
            "Boxes: [[366, 1528, 420, 1599]], Labels: [1]\n",
            "Boxes: [[188, 1442, 296, 1540]], Labels: [1]\n",
            "Boxes: [[224, 1244, 266, 1309]], Labels: [1]\n",
            "Boxes: [[410, 764, 524, 821]], Labels: [1]\n",
            "Boxes: [[344, 783, 442, 842], [448, 673, 506, 724], [496, 817, 592, 887]], Labels: [1, 1, 1]\n",
            "Boxes: [[342, 751, 390, 787]], Labels: [1]\n",
            "Boxes: [[264, 715, 322, 761]], Labels: [1]\n"
          ]
        },
        {
          "output_type": "stream",
          "name": "stderr",
          "text": [
            "\r 57%|█████▋    | 4/7 [00:09<00:06,  2.28s/it]\n"
          ]
        },
        {
          "output_type": "error",
          "ename": "OutOfMemoryError",
          "evalue": "CUDA out of memory. Tried to allocate 1.53 GiB. GPU 0 has a total capacity of 14.75 GiB of which 695.06 MiB is free. Process 4743 has 14.07 GiB memory in use. Of the allocated memory 11.66 GiB is allocated by PyTorch, and 2.27 GiB is reserved by PyTorch but unallocated. If reserved but unallocated memory is large try setting PYTORCH_CUDA_ALLOC_CONF=expandable_segments:True to avoid fragmentation.  See documentation for Memory Management  (https://pytorch.org/docs/stable/notes/cuda.html#environment-variables)",
          "traceback": [
            "\u001b[0;31m---------------------------------------------------------------------------\u001b[0m",
            "\u001b[0;31mOutOfMemoryError\u001b[0m                          Traceback (most recent call last)",
            "\u001b[0;32m<ipython-input-11-4087999ae881>\u001b[0m in \u001b[0;36m<cell line: 38>\u001b[0;34m()\u001b[0m\n\u001b[1;32m     37\u001b[0m \u001b[0;34m\u001b[0m\u001b[0m\n\u001b[1;32m     38\u001b[0m \u001b[0;32mif\u001b[0m \u001b[0m__name__\u001b[0m \u001b[0;34m==\u001b[0m \u001b[0;34m\"__main__\"\u001b[0m\u001b[0;34m:\u001b[0m\u001b[0;34m\u001b[0m\u001b[0;34m\u001b[0m\u001b[0m\n\u001b[0;32m---> 39\u001b[0;31m     \u001b[0mmain\u001b[0m\u001b[0;34m(\u001b[0m\u001b[0;34m)\u001b[0m\u001b[0;34m\u001b[0m\u001b[0;34m\u001b[0m\u001b[0m\n\u001b[0m",
            "\u001b[0;32m<ipython-input-11-4087999ae881>\u001b[0m in \u001b[0;36mmain\u001b[0;34m()\u001b[0m\n\u001b[1;32m     24\u001b[0m     \u001b[0;32mfor\u001b[0m \u001b[0mepoch\u001b[0m \u001b[0;32min\u001b[0m \u001b[0mrange\u001b[0m\u001b[0;34m(\u001b[0m\u001b[0mnum_epochs\u001b[0m\u001b[0;34m)\u001b[0m\u001b[0;34m:\u001b[0m\u001b[0;34m\u001b[0m\u001b[0;34m\u001b[0m\u001b[0m\n\u001b[1;32m     25\u001b[0m         \u001b[0mprint\u001b[0m\u001b[0;34m(\u001b[0m\u001b[0;34mf\"Epoch {epoch + 1}/{num_epochs}\"\u001b[0m\u001b[0;34m)\u001b[0m\u001b[0;34m\u001b[0m\u001b[0;34m\u001b[0m\u001b[0m\n\u001b[0;32m---> 26\u001b[0;31m         \u001b[0mtrain_loss\u001b[0m \u001b[0;34m=\u001b[0m \u001b[0mtrain_one_epoch\u001b[0m\u001b[0;34m(\u001b[0m\u001b[0mmodel\u001b[0m\u001b[0;34m,\u001b[0m \u001b[0moptimizer\u001b[0m\u001b[0;34m,\u001b[0m \u001b[0mtrain_loader\u001b[0m\u001b[0;34m,\u001b[0m \u001b[0mdevice\u001b[0m\u001b[0;34m)\u001b[0m\u001b[0;34m\u001b[0m\u001b[0;34m\u001b[0m\u001b[0m\n\u001b[0m\u001b[1;32m     27\u001b[0m         \u001b[0mprint\u001b[0m\u001b[0;34m(\u001b[0m\u001b[0;34mf\"Train Loss: {train_loss:.4f}\"\u001b[0m\u001b[0;34m)\u001b[0m\u001b[0;34m\u001b[0m\u001b[0;34m\u001b[0m\u001b[0m\n\u001b[1;32m     28\u001b[0m     \u001b[0;31m# Plot training loss over epochs\u001b[0m\u001b[0;34m\u001b[0m\u001b[0;34m\u001b[0m\u001b[0m\n",
            "\u001b[0;32m<ipython-input-9-4a56ae9c3b6b>\u001b[0m in \u001b[0;36mtrain_one_epoch\u001b[0;34m(model, optimizer, data_loader, device)\u001b[0m\n\u001b[1;32m     12\u001b[0m         \u001b[0mlosses\u001b[0m \u001b[0;34m=\u001b[0m \u001b[0msum\u001b[0m\u001b[0;34m(\u001b[0m\u001b[0mloss\u001b[0m \u001b[0;32mfor\u001b[0m \u001b[0mloss\u001b[0m \u001b[0;32min\u001b[0m \u001b[0mloss_dict\u001b[0m\u001b[0;34m.\u001b[0m\u001b[0mvalues\u001b[0m\u001b[0;34m(\u001b[0m\u001b[0;34m)\u001b[0m\u001b[0;34m)\u001b[0m\u001b[0;34m\u001b[0m\u001b[0;34m\u001b[0m\u001b[0m\n\u001b[1;32m     13\u001b[0m         \u001b[0moptimizer\u001b[0m\u001b[0;34m.\u001b[0m\u001b[0mzero_grad\u001b[0m\u001b[0;34m(\u001b[0m\u001b[0;34m)\u001b[0m\u001b[0;34m\u001b[0m\u001b[0;34m\u001b[0m\u001b[0m\n\u001b[0;32m---> 14\u001b[0;31m         \u001b[0mlosses\u001b[0m\u001b[0;34m.\u001b[0m\u001b[0mbackward\u001b[0m\u001b[0;34m(\u001b[0m\u001b[0;34m)\u001b[0m\u001b[0;34m\u001b[0m\u001b[0;34m\u001b[0m\u001b[0m\n\u001b[0m\u001b[1;32m     15\u001b[0m         \u001b[0moptimizer\u001b[0m\u001b[0;34m.\u001b[0m\u001b[0mstep\u001b[0m\u001b[0;34m(\u001b[0m\u001b[0;34m)\u001b[0m\u001b[0;34m\u001b[0m\u001b[0;34m\u001b[0m\u001b[0m\n\u001b[1;32m     16\u001b[0m         \u001b[0mepoch_loss\u001b[0m \u001b[0;34m+=\u001b[0m \u001b[0mlosses\u001b[0m\u001b[0;34m.\u001b[0m\u001b[0mitem\u001b[0m\u001b[0;34m(\u001b[0m\u001b[0;34m)\u001b[0m\u001b[0;34m\u001b[0m\u001b[0;34m\u001b[0m\u001b[0m\n",
            "\u001b[0;32m/usr/local/lib/python3.10/dist-packages/torch/_tensor.py\u001b[0m in \u001b[0;36mbackward\u001b[0;34m(self, gradient, retain_graph, create_graph, inputs)\u001b[0m\n\u001b[1;32m    579\u001b[0m                 \u001b[0minputs\u001b[0m\u001b[0;34m=\u001b[0m\u001b[0minputs\u001b[0m\u001b[0;34m,\u001b[0m\u001b[0;34m\u001b[0m\u001b[0;34m\u001b[0m\u001b[0m\n\u001b[1;32m    580\u001b[0m             )\n\u001b[0;32m--> 581\u001b[0;31m         torch.autograd.backward(\n\u001b[0m\u001b[1;32m    582\u001b[0m             \u001b[0mself\u001b[0m\u001b[0;34m,\u001b[0m \u001b[0mgradient\u001b[0m\u001b[0;34m,\u001b[0m \u001b[0mretain_graph\u001b[0m\u001b[0;34m,\u001b[0m \u001b[0mcreate_graph\u001b[0m\u001b[0;34m,\u001b[0m \u001b[0minputs\u001b[0m\u001b[0;34m=\u001b[0m\u001b[0minputs\u001b[0m\u001b[0;34m\u001b[0m\u001b[0;34m\u001b[0m\u001b[0m\n\u001b[1;32m    583\u001b[0m         )\n",
            "\u001b[0;32m/usr/local/lib/python3.10/dist-packages/torch/autograd/__init__.py\u001b[0m in \u001b[0;36mbackward\u001b[0;34m(tensors, grad_tensors, retain_graph, create_graph, grad_variables, inputs)\u001b[0m\n\u001b[1;32m    345\u001b[0m     \u001b[0;31m# some Python versions print out the first line of a multi-line function\u001b[0m\u001b[0;34m\u001b[0m\u001b[0;34m\u001b[0m\u001b[0m\n\u001b[1;32m    346\u001b[0m     \u001b[0;31m# calls in the traceback and some print out the last line\u001b[0m\u001b[0;34m\u001b[0m\u001b[0;34m\u001b[0m\u001b[0m\n\u001b[0;32m--> 347\u001b[0;31m     _engine_run_backward(\n\u001b[0m\u001b[1;32m    348\u001b[0m         \u001b[0mtensors\u001b[0m\u001b[0;34m,\u001b[0m\u001b[0;34m\u001b[0m\u001b[0;34m\u001b[0m\u001b[0m\n\u001b[1;32m    349\u001b[0m         \u001b[0mgrad_tensors_\u001b[0m\u001b[0;34m,\u001b[0m\u001b[0;34m\u001b[0m\u001b[0;34m\u001b[0m\u001b[0m\n",
            "\u001b[0;32m/usr/local/lib/python3.10/dist-packages/torch/autograd/graph.py\u001b[0m in \u001b[0;36m_engine_run_backward\u001b[0;34m(t_outputs, *args, **kwargs)\u001b[0m\n\u001b[1;32m    823\u001b[0m         \u001b[0munregister_hooks\u001b[0m \u001b[0;34m=\u001b[0m \u001b[0m_register_logging_hooks_on_whole_graph\u001b[0m\u001b[0;34m(\u001b[0m\u001b[0mt_outputs\u001b[0m\u001b[0;34m)\u001b[0m\u001b[0;34m\u001b[0m\u001b[0;34m\u001b[0m\u001b[0m\n\u001b[1;32m    824\u001b[0m     \u001b[0;32mtry\u001b[0m\u001b[0;34m:\u001b[0m\u001b[0;34m\u001b[0m\u001b[0;34m\u001b[0m\u001b[0m\n\u001b[0;32m--> 825\u001b[0;31m         return Variable._execution_engine.run_backward(  # Calls into the C++ engine to run the backward pass\n\u001b[0m\u001b[1;32m    826\u001b[0m             \u001b[0mt_outputs\u001b[0m\u001b[0;34m,\u001b[0m \u001b[0;34m*\u001b[0m\u001b[0margs\u001b[0m\u001b[0;34m,\u001b[0m \u001b[0;34m**\u001b[0m\u001b[0mkwargs\u001b[0m\u001b[0;34m\u001b[0m\u001b[0;34m\u001b[0m\u001b[0m\n\u001b[1;32m    827\u001b[0m         )  # Calls into the C++ engine to run the backward pass\n",
            "\u001b[0;31mOutOfMemoryError\u001b[0m: CUDA out of memory. Tried to allocate 1.53 GiB. GPU 0 has a total capacity of 14.75 GiB of which 695.06 MiB is free. Process 4743 has 14.07 GiB memory in use. Of the allocated memory 11.66 GiB is allocated by PyTorch, and 2.27 GiB is reserved by PyTorch but unallocated. If reserved but unallocated memory is large try setting PYTORCH_CUDA_ALLOC_CONF=expandable_segments:True to avoid fragmentation.  See documentation for Memory Management  (https://pytorch.org/docs/stable/notes/cuda.html#environment-variables)"
          ]
        }
      ]
    }
  ]
}