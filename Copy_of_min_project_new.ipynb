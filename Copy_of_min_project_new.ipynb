{
 "cells": [
  {
   "cell_type": "code",
   "execution_count": 1,
   "metadata": {
    "colab": {
     "base_uri": "https://localhost:8080/"
    },
    "id": "Fj7vm1jVhjQF",
    "outputId": "b4f691bf-783f-48fd-ef76-5be3f6817a3d"
   },
   "outputs": [
    {
     "name": "stdout",
     "output_type": "stream",
     "text": [
      "Mounted at /content/drive\n"
     ]
    }
   ],
   "source": [
    "from google.colab import drive\n",
    "\n",
    "# Mount Google Drive\n",
    "drive.mount('/content/drive')"
   ]
  },
  {
   "cell_type": "code",
   "execution_count": 2,
   "metadata": {
    "id": "--lNQm1niLgA"
   },
   "outputs": [],
   "source": [
    "import os\n",
    "import torch\n",
    "import numpy as np\n",
    "import matplotlib.pyplot as plt\n",
    "from tqdm import tqdm\n",
    "from PIL import Image\n",
    "import xml.etree.ElementTree as ET\n",
    "\n",
    "import torchvision\n",
    "import torchvision.transforms as T\n",
    "from torchvision.models.detection import FasterRCNN, fasterrcnn_resnet50_fpn\n",
    "from torchvision.models.detection.rpn import AnchorGenerator\n",
    "from torch.utils.data import Dataset, DataLoader\n",
    "from torch.optim import Adam\n"
   ]
  },
  {
   "cell_type": "code",
   "execution_count": 3,
   "metadata": {
    "id": "scpVIwExjBHK"
   },
   "outputs": [],
   "source": [
    "# Paths for annotations and images\n",
    "annotations_path = '/content/drive/MyDrive/mini project/annotations'\n",
    "images_path = '/content/drive/MyDrive/mini project/images'"
   ]
  },
  {
   "cell_type": "code",
   "execution_count": 4,
   "metadata": {
    "id": "uSPkh1pOn1DD"
   },
   "outputs": [],
   "source": [
    "class UATDDataset(Dataset):\n",
    "    def __init__(self, image_dir, annotation_dir, transforms=None):\n",
    "        self.image_dir = image_dir\n",
    "        self.annotation_dir = annotation_dir\n",
    "        self.transforms = transforms\n",
    "        self.images = sorted([f for f in os.listdir(self.image_dir) if f.endswith('.bmp')])\n",
    "        self.annotations = sorted([f for f in os.listdir(self.annotation_dir) if f.endswith('.xml')])\n",
    "\n",
    "        assert len(self.images) == len(self.annotations), \"Mismatch between images and annotations count!\"\n",
    "\n",
    "    def __getitem__(self, idx):\n",
    "        # Paths to image and annotation\n",
    "        img_path = os.path.join(self.image_dir, self.images[idx])\n",
    "        ann_path = os.path.join(self.annotation_dir, self.annotations[idx])\n",
    "\n",
    "        # Load image\n",
    "        img = Image.open(img_path).convert(\"RGB\")\n",
    "\n",
    "        # Parse annotation\n",
    "        target = self.parse_annotations(ann_path)\n",
    "\n",
    "        # If no objects are found, return empty tensors\n",
    "        if target['boxes'].shape[0] == 0:\n",
    "            target['boxes'] = torch.empty((0, 4))\n",
    "            target['labels'] = torch.empty(0, dtype=torch.int64)\n",
    "\n",
    "        # Apply transforms\n",
    "        if self.transforms:\n",
    "            img = self.transforms(img)\n",
    "\n",
    "        return img, target\n",
    "\n",
    "    def __len__(self):\n",
    "        return len(self.images)\n",
    "    def parse_annotations(self, path):\n",
    "            \"\"\"Parses XML annotations into a target dictionary.\"\"\"\n",
    "            tree = ET.parse(path)\n",
    "            root = tree.getroot()\n",
    "            boxes = []\n",
    "            labels = []\n",
    "\n",
    "            for obj in root.findall('object'):\n",
    "                label = 1  # Assuming a single class; adjust for multi-class datasets\n",
    "                labels.append(label)\n",
    "                bndbox = obj.find('bndbox')\n",
    "                xmin = int(bndbox.find('xmin').text)\n",
    "                ymin = int(bndbox.find('ymin').text)\n",
    "                xmax = int(bndbox.find('xmax').text)\n",
    "                ymax = int(bndbox.find('ymax').text)\n",
    "                boxes.append([xmin, ymin, xmax, ymax])\n",
    "\n",
    "            print(f\"Boxes: {boxes}, Labels: {labels}\")  # Debug print statement\n",
    "\n",
    "            if len(boxes) == 0:\n",
    "                print(f\"No objects found in annotation file: {path}\")  # Debug print for empty annotations\n",
    "\n",
    "            target = {\n",
    "                'boxes': torch.tensor(boxes, dtype=torch.float32),\n",
    "                'labels': torch.tensor(labels, dtype=torch.int64)\n",
    "            }\n",
    "            return target\n",
    "\n",
    "def get_transforms():\n",
    "    \"\"\"Return transformations for the dataset.\"\"\"\n",
    "    return T.Compose([\n",
    "        T.ToTensor(),\n",
    "        T.Resize((512, 512)),\n",
    "        T.Normalize(mean=[0.485, 0.456, 0.406], std=[0.229, 0.224, 0.225]),\n",
    "    ])"
   ]
  },
  {
   "cell_type": "code",
   "execution_count": 5,
   "metadata": {
    "id": "JhvHNhvkmwB6"
   },
   "outputs": [],
   "source": [
    "\n",
    "# ==========================\n",
    "# 2. Model Setup\n",
    "# ==========================\n",
    "def get_faster_rcnn_model(backbone='resnet50', num_classes=11):  # 10 classes + background\n",
    "    \"\"\"Return a Faster-RCNN model with the specified backbone.\"\"\"\n",
    "    if backbone == 'resnet18':\n",
    "        backbone_model = torchvision.models.resnet18(pretrained=True)\n",
    "    elif backbone == 'resnet50':\n",
    "        backbone_model = torchvision.models.resnet50(pretrained=True)\n",
    "    elif backbone == 'resnet101':\n",
    "        backbone_model = torchvision.models.resnet101(pretrained=True)\n",
    "    else:\n",
    "        raise ValueError(\"Invalid backbone choice!\")\n",
    "\n",
    "    # Use backbone without the classification head\n",
    "    backbone_model = torch.nn.Sequential(*list(backbone_model.children())[:-2])\n",
    "    backbone_model.out_channels = 2048\n",
    "\n",
    "    # RPN and ROI pooling\n",
    "    anchor_generator = AnchorGenerator(\n",
    "        sizes=((32, 64, 128, 256, 512),),\n",
    "        aspect_ratios=((0.5, 1.0, 2.0),)\n",
    "    )\n",
    "    roi_pooler = torchvision.ops.MultiScaleRoIAlign(\n",
    "        featmap_names=['0'],\n",
    "        output_size=7,\n",
    "        sampling_ratio=2\n",
    "    )\n",
    "\n",
    "    # Define FasterRCNN model\n",
    "    model = FasterRCNN(\n",
    "        backbone_model,\n",
    "        num_classes=num_classes,  # Number of classes (including background)\n",
    "        rpn_anchor_generator=anchor_generator,\n",
    "        box_roi_pool=roi_pooler\n",
    "    )\n",
    "    return model\n",
    "\n"
   ]
  },
  {
   "cell_type": "code",
   "execution_count": 6,
   "metadata": {
    "id": "xhL7FgXZmzre"
   },
   "outputs": [],
   "source": [
    "\n",
    "# ==========================\n",
    "# 3. Training and Validation\n",
    "# ==========================\n",
    "def train_one_epoch(model, optimizer, data_loader, device):\n",
    "    model.train()\n",
    "    epoch_loss = 0\n",
    "    for images, targets in tqdm(data_loader):\n",
    "        images = [img.to(device) for img in images]\n",
    "        targets = [{k: v.to(device) for k, v in t.items()} for t in targets]\n",
    "\n",
    "        loss_dict = model(images, targets)\n",
    "        losses = sum(loss for loss in loss_dict.values())\n",
    "        optimizer.zero_grad()\n",
    "        losses.backward()\n",
    "        optimizer.step()\n",
    "        epoch_loss += losses.item()\n",
    "\n",
    "    return epoch_loss / len(data_loader)\n",
    "\n",
    "def validate_one_epoch(model, data_loader, device):\n",
    "    model.eval()\n",
    "    metrics = []\n",
    "    with torch.no_grad():\n",
    "        for images, targets in tqdm(data_loader):\n",
    "            images = [img.to(device) for img in images]\n",
    "            outputs = model(images)\n",
    "            # Compute validation metrics (Placeholder: Replace with actual evaluation code)\n",
    "            metrics.append(0)  # Placeholder\n",
    "    return np.mean(metrics)\n",
    "\n"
   ]
  },
  {
   "cell_type": "code",
   "execution_count": 10,
   "metadata": {
    "colab": {
     "base_uri": "https://localhost:8080/"
    },
    "id": "_-dn1Qzvm2Nc",
    "outputId": "44ee5700-efb4-4fe6-863e-075d7cea9b45"
   },
   "outputs": [
    {
     "name": "stdout",
     "output_type": "stream",
     "text": [
      "Epoch 1/10\n"
     ]
    },
    {
     "name": "stderr",
     "output_type": "stream",
     "text": [
      "\r",
      "  0%|          | 0/13 [00:00<?, ?it/s]"
     ]
    },
    {
     "name": "stdout",
     "output_type": "stream",
     "text": [
      "Boxes: [[474, 752, 516, 788]], Labels: [1]\n",
      "Boxes: [[344, 783, 442, 842], [448, 673, 506, 724], [496, 817, 592, 887]], Labels: [1, 1, 1]\n",
      "Boxes: [[346, 538, 394, 578]], Labels: [1]\n",
      "Boxes: [[240, 1394, 334, 1478]], Labels: [1]\n"
     ]
    },
    {
     "name": "stderr",
     "output_type": "stream",
     "text": [
      "\r",
      "  8%|▊         | 1/13 [00:01<00:17,  1.47s/it]"
     ]
    },
    {
     "name": "stdout",
     "output_type": "stream",
     "text": [
      "Boxes: [[706, 670, 766, 755]], Labels: [1]\n",
      "Boxes: [[342, 765, 400, 820], [372, 956, 428, 1004], [440, 978, 542, 1054]], Labels: [1, 1, 1]\n",
      "Boxes: [[326, 540, 370, 577]], Labels: [1]\n",
      "Boxes: [[372, 957, 436, 1004], [338, 768, 412, 823]], Labels: [1, 1]\n"
     ]
    },
    {
     "name": "stderr",
     "output_type": "stream",
     "text": [
      "\r",
      " 15%|█▌        | 2/13 [00:02<00:12,  1.16s/it]"
     ]
    },
    {
     "name": "stdout",
     "output_type": "stream",
     "text": [
      "Boxes: [[526, 393, 558, 423]], Labels: [1]\n",
      "Boxes: [[304, 740, 358, 785], [408, 795, 504, 852]], Labels: [1, 1]\n",
      "Boxes: [[548, 981, 680, 1054], [382, 1098, 434, 1149]], Labels: [1, 1]\n",
      "Boxes: [[458, 779, 512, 813], [366, 889, 434, 926]], Labels: [1, 1]\n"
     ]
    },
    {
     "name": "stderr",
     "output_type": "stream",
     "text": [
      "\r",
      " 23%|██▎       | 3/13 [00:03<00:11,  1.13s/it]"
     ]
    },
    {
     "name": "stdout",
     "output_type": "stream",
     "text": [
      "Boxes: [[336, 834, 388, 878]], Labels: [1]\n",
      "Boxes: [[224, 1244, 266, 1309]], Labels: [1]\n",
      "Boxes: [[268, 785, 422, 844]], Labels: [1]\n",
      "Boxes: [[342, 751, 390, 787]], Labels: [1]\n"
     ]
    },
    {
     "name": "stderr",
     "output_type": "stream",
     "text": [
      "\r",
      " 31%|███       | 4/13 [00:04<00:10,  1.19s/it]"
     ]
    },
    {
     "name": "stdout",
     "output_type": "stream",
     "text": [
      "Boxes: [[366, 1528, 420, 1599]], Labels: [1]\n",
      "Boxes: [[370, 1100, 424, 1157], [540, 965, 688, 1040]], Labels: [1, 1]\n",
      "Boxes: [[478, 831, 524, 873]], Labels: [1]\n",
      "Boxes: [[324, 1307, 394, 1402], [424, 1478, 564, 1596]], Labels: [1, 1]\n"
     ]
    },
    {
     "name": "stderr",
     "output_type": "stream",
     "text": [
      "\r",
      " 38%|███▊      | 5/13 [00:06<00:09,  1.21s/it]"
     ]
    },
    {
     "name": "stdout",
     "output_type": "stream",
     "text": [
      "Boxes: [[426, 1205, 492, 1269], [406, 1020, 466, 1082]], Labels: [1, 1]\n",
      "Boxes: [[640, 1488, 798, 1566]], Labels: [1]\n",
      "Boxes: [[366, 467, 480, 508]], Labels: [1]\n",
      "Boxes: [[706, 444, 746, 477]], Labels: [1]\n"
     ]
    },
    {
     "name": "stderr",
     "output_type": "stream",
     "text": [
      "\r",
      " 46%|████▌     | 6/13 [00:06<00:07,  1.10s/it]"
     ]
    },
    {
     "name": "stdout",
     "output_type": "stream",
     "text": [
      "Boxes: [[264, 715, 322, 761]], Labels: [1]\n",
      "Boxes: [[880, 472, 922, 509]], Labels: [1]\n",
      "Boxes: [[378, 770, 468, 830]], Labels: [1]\n",
      "Boxes: [[8, 579, 58, 624]], Labels: [1]\n"
     ]
    },
    {
     "name": "stderr",
     "output_type": "stream",
     "text": [
      "\r",
      " 54%|█████▍    | 7/13 [00:07<00:06,  1.03s/it]"
     ]
    },
    {
     "name": "stdout",
     "output_type": "stream",
     "text": [
      "Boxes: [[406, 1180, 452, 1246]], Labels: [1]\n",
      "Boxes: [[410, 764, 524, 821]], Labels: [1]\n",
      "Boxes: [[424, 707, 478, 756], [376, 890, 448, 941]], Labels: [1, 1]\n",
      "Boxes: [[650, 777, 704, 817]], Labels: [1]\n"
     ]
    },
    {
     "name": "stderr",
     "output_type": "stream",
     "text": [
      "\r",
      " 62%|██████▏   | 8/13 [00:08<00:04,  1.02it/s]"
     ]
    },
    {
     "name": "stdout",
     "output_type": "stream",
     "text": [
      "Boxes: [[746, 533, 788, 569]], Labels: [1]\n",
      "Boxes: [[460, 624, 502, 660]], Labels: [1]\n",
      "Boxes: [[408, 780, 516, 840]], Labels: [1]\n",
      "Boxes: [[556, 950, 638, 1035], [338, 937, 402, 997], [308, 756, 372, 813]], Labels: [1, 1, 1]\n"
     ]
    },
    {
     "name": "stderr",
     "output_type": "stream",
     "text": [
      "\r",
      " 69%|██████▉   | 9/13 [00:09<00:03,  1.05it/s]"
     ]
    },
    {
     "name": "stdout",
     "output_type": "stream",
     "text": [
      "Boxes: [[286, 779, 390, 834], [272, 702, 330, 743], [398, 563, 446, 596]], Labels: [1, 1, 1]\n",
      "Boxes: [[630, 672, 692, 751], [544, 1010, 640, 1084]], Labels: [1, 1]\n",
      "Boxes: [[346, 1057, 396, 1114], [388, 870, 446, 961]], Labels: [1, 1]\n",
      "Boxes: [[548, 773, 642, 846], [436, 680, 490, 730], [316, 766, 432, 824]], Labels: [1, 1, 1]\n"
     ]
    },
    {
     "name": "stderr",
     "output_type": "stream",
     "text": [
      "\r",
      " 77%|███████▋  | 10/13 [00:10<00:02,  1.03it/s]"
     ]
    },
    {
     "name": "stdout",
     "output_type": "stream",
     "text": [
      "Boxes: [[726, 1235, 828, 1363]], Labels: [1]\n",
      "Boxes: [[528, 1435, 584, 1540], [550, 1253, 596, 1333]], Labels: [1, 1]\n",
      "Boxes: [[574, 880, 618, 909]], Labels: [1]\n",
      "Boxes: [[514, 981, 610, 1054], [422, 962, 492, 1014], [418, 773, 474, 828]], Labels: [1, 1, 1]\n"
     ]
    },
    {
     "name": "stderr",
     "output_type": "stream",
     "text": [
      "\r",
      " 85%|████████▍ | 11/13 [00:11<00:01,  1.03it/s]"
     ]
    },
    {
     "name": "stdout",
     "output_type": "stream",
     "text": [
      "Boxes: [[474, 857, 530, 905]], Labels: [1]\n",
      "Boxes: [[188, 1442, 296, 1540]], Labels: [1]\n",
      "Boxes: [[372, 1097, 424, 1156], [524, 1026, 652, 1099]], Labels: [1, 1]\n",
      "Boxes: [[392, 779, 540, 829]], Labels: [1]\n"
     ]
    },
    {
     "name": "stderr",
     "output_type": "stream",
     "text": [
      "\r",
      " 92%|█████████▏| 12/13 [00:12<00:00,  1.08it/s]"
     ]
    },
    {
     "name": "stdout",
     "output_type": "stream",
     "text": [
      "Boxes: [[424, 763, 520, 828]], Labels: [1]\n",
      "Boxes: [[370, 1101, 422, 1161], [554, 983, 676, 1054]], Labels: [1, 1]\n"
     ]
    },
    {
     "name": "stderr",
     "output_type": "stream",
     "text": [
      "100%|██████████| 13/13 [00:12<00:00,  1.01it/s]\n"
     ]
    },
    {
     "name": "stdout",
     "output_type": "stream",
     "text": [
      "Train Loss: 15.7646\n",
      "Epoch 2/10\n"
     ]
    },
    {
     "name": "stderr",
     "output_type": "stream",
     "text": [
      "\r",
      "  0%|          | 0/13 [00:00<?, ?it/s]"
     ]
    },
    {
     "name": "stdout",
     "output_type": "stream",
     "text": [
      "Boxes: [[408, 780, 516, 840]], Labels: [1]\n",
      "Boxes: [[346, 538, 394, 578]], Labels: [1]\n",
      "Boxes: [[304, 740, 358, 785], [408, 795, 504, 852]], Labels: [1, 1]\n",
      "Boxes: [[8, 579, 58, 624]], Labels: [1]\n"
     ]
    },
    {
     "name": "stderr",
     "output_type": "stream",
     "text": [
      "\r",
      "  8%|▊         | 1/13 [00:00<00:11,  1.05it/s]"
     ]
    },
    {
     "name": "stdout",
     "output_type": "stream",
     "text": [
      "Boxes: [[556, 950, 638, 1035], [338, 937, 402, 997], [308, 756, 372, 813]], Labels: [1, 1, 1]\n",
      "Boxes: [[370, 1100, 424, 1157], [540, 965, 688, 1040]], Labels: [1, 1]\n",
      "Boxes: [[460, 624, 502, 660]], Labels: [1]\n",
      "Boxes: [[366, 1528, 420, 1599]], Labels: [1]\n"
     ]
    },
    {
     "name": "stderr",
     "output_type": "stream",
     "text": [
      "\r",
      " 15%|█▌        | 2/13 [00:02<00:11,  1.08s/it]"
     ]
    },
    {
     "name": "stdout",
     "output_type": "stream",
     "text": [
      "Boxes: [[458, 779, 512, 813], [366, 889, 434, 926]], Labels: [1, 1]\n",
      "Boxes: [[426, 1205, 492, 1269], [406, 1020, 466, 1082]], Labels: [1, 1]\n",
      "Boxes: [[392, 779, 540, 829]], Labels: [1]\n",
      "Boxes: [[746, 533, 788, 569]], Labels: [1]\n"
     ]
    },
    {
     "name": "stderr",
     "output_type": "stream",
     "text": [
      "\r",
      " 23%|██▎       | 3/13 [00:03<00:12,  1.20s/it]"
     ]
    },
    {
     "name": "stdout",
     "output_type": "stream",
     "text": [
      "Boxes: [[366, 467, 480, 508]], Labels: [1]\n",
      "Boxes: [[548, 773, 642, 846], [436, 680, 490, 730], [316, 766, 432, 824]], Labels: [1, 1, 1]\n",
      "Boxes: [[326, 540, 370, 577]], Labels: [1]\n",
      "Boxes: [[324, 1307, 394, 1402], [424, 1478, 564, 1596]], Labels: [1, 1]\n"
     ]
    },
    {
     "name": "stderr",
     "output_type": "stream",
     "text": [
      "\r",
      " 31%|███       | 4/13 [00:04<00:09,  1.10s/it]"
     ]
    },
    {
     "name": "stdout",
     "output_type": "stream",
     "text": [
      "Boxes: [[372, 1097, 424, 1156], [524, 1026, 652, 1099]], Labels: [1, 1]\n",
      "Boxes: [[336, 834, 388, 878]], Labels: [1]\n",
      "Boxes: [[474, 857, 530, 905]], Labels: [1]\n",
      "Boxes: [[224, 1244, 266, 1309]], Labels: [1]\n"
     ]
    },
    {
     "name": "stderr",
     "output_type": "stream",
     "text": [
      "\r",
      " 38%|███▊      | 5/13 [00:05<00:08,  1.04s/it]"
     ]
    },
    {
     "name": "stdout",
     "output_type": "stream",
     "text": [
      "Boxes: [[650, 777, 704, 817]], Labels: [1]\n",
      "Boxes: [[478, 831, 524, 873]], Labels: [1]\n",
      "Boxes: [[528, 1435, 584, 1540], [550, 1253, 596, 1333]], Labels: [1, 1]\n",
      "Boxes: [[424, 763, 520, 828]], Labels: [1]\n"
     ]
    },
    {
     "name": "stderr",
     "output_type": "stream",
     "text": [
      "\r",
      " 46%|████▌     | 6/13 [00:06<00:06,  1.03it/s]"
     ]
    },
    {
     "name": "stdout",
     "output_type": "stream",
     "text": [
      "Boxes: [[286, 779, 390, 834], [272, 702, 330, 743], [398, 563, 446, 596]], Labels: [1, 1, 1]\n",
      "Boxes: [[706, 670, 766, 755]], Labels: [1]\n",
      "Boxes: [[424, 707, 478, 756], [376, 890, 448, 941]], Labels: [1, 1]\n",
      "Boxes: [[474, 752, 516, 788]], Labels: [1]\n"
     ]
    },
    {
     "name": "stderr",
     "output_type": "stream",
     "text": [
      "\r",
      " 54%|█████▍    | 7/13 [00:07<00:05,  1.06it/s]"
     ]
    },
    {
     "name": "stdout",
     "output_type": "stream",
     "text": [
      "Boxes: [[526, 393, 558, 423]], Labels: [1]\n",
      "Boxes: [[514, 981, 610, 1054], [422, 962, 492, 1014], [418, 773, 474, 828]], Labels: [1, 1, 1]\n",
      "Boxes: [[370, 1101, 422, 1161], [554, 983, 676, 1054]], Labels: [1, 1]\n",
      "Boxes: [[268, 785, 422, 844]], Labels: [1]\n"
     ]
    },
    {
     "name": "stderr",
     "output_type": "stream",
     "text": [
      "\r",
      " 62%|██████▏   | 8/13 [00:07<00:04,  1.10it/s]"
     ]
    },
    {
     "name": "stdout",
     "output_type": "stream",
     "text": [
      "Boxes: [[630, 672, 692, 751], [544, 1010, 640, 1084]], Labels: [1, 1]\n",
      "Boxes: [[342, 765, 400, 820], [372, 956, 428, 1004], [440, 978, 542, 1054]], Labels: [1, 1, 1]\n",
      "Boxes: [[344, 783, 442, 842], [448, 673, 506, 724], [496, 817, 592, 887]], Labels: [1, 1, 1]\n",
      "Boxes: [[346, 1057, 396, 1114], [388, 870, 446, 961]], Labels: [1, 1]\n"
     ]
    },
    {
     "name": "stderr",
     "output_type": "stream",
     "text": [
      "\r",
      " 69%|██████▉   | 9/13 [00:08<00:03,  1.10it/s]"
     ]
    },
    {
     "name": "stdout",
     "output_type": "stream",
     "text": [
      "Boxes: [[706, 444, 746, 477]], Labels: [1]\n",
      "Boxes: [[410, 764, 524, 821]], Labels: [1]\n",
      "Boxes: [[640, 1488, 798, 1566]], Labels: [1]\n",
      "Boxes: [[726, 1235, 828, 1363]], Labels: [1]\n"
     ]
    },
    {
     "name": "stderr",
     "output_type": "stream",
     "text": [
      "\r",
      " 77%|███████▋  | 10/13 [00:09<00:02,  1.10it/s]"
     ]
    },
    {
     "name": "stdout",
     "output_type": "stream",
     "text": [
      "Boxes: [[574, 880, 618, 909]], Labels: [1]\n",
      "Boxes: [[264, 715, 322, 761]], Labels: [1]\n",
      "Boxes: [[548, 981, 680, 1054], [382, 1098, 434, 1149]], Labels: [1, 1]\n",
      "Boxes: [[188, 1442, 296, 1540]], Labels: [1]\n"
     ]
    },
    {
     "name": "stderr",
     "output_type": "stream",
     "text": [
      "\r",
      " 85%|████████▍ | 11/13 [00:10<00:01,  1.13it/s]"
     ]
    },
    {
     "name": "stdout",
     "output_type": "stream",
     "text": [
      "Boxes: [[372, 957, 436, 1004], [338, 768, 412, 823]], Labels: [1, 1]\n",
      "Boxes: [[378, 770, 468, 830]], Labels: [1]\n",
      "Boxes: [[240, 1394, 334, 1478]], Labels: [1]\n",
      "Boxes: [[342, 751, 390, 787]], Labels: [1]\n"
     ]
    },
    {
     "name": "stderr",
     "output_type": "stream",
     "text": [
      "\r",
      " 92%|█████████▏| 12/13 [00:11<00:00,  1.15it/s]"
     ]
    },
    {
     "name": "stdout",
     "output_type": "stream",
     "text": [
      "Boxes: [[880, 472, 922, 509]], Labels: [1]\n",
      "Boxes: [[406, 1180, 452, 1246]], Labels: [1]\n"
     ]
    },
    {
     "name": "stderr",
     "output_type": "stream",
     "text": [
      "100%|██████████| 13/13 [00:11<00:00,  1.10it/s]\n"
     ]
    },
    {
     "name": "stdout",
     "output_type": "stream",
     "text": [
      "Train Loss: 9.1884\n",
      "Epoch 3/10\n"
     ]
    },
    {
     "name": "stderr",
     "output_type": "stream",
     "text": [
      "\r",
      "  0%|          | 0/13 [00:00<?, ?it/s]"
     ]
    },
    {
     "name": "stdout",
     "output_type": "stream",
     "text": [
      "Boxes: [[574, 880, 618, 909]], Labels: [1]\n",
      "Boxes: [[548, 981, 680, 1054], [382, 1098, 434, 1149]], Labels: [1, 1]\n",
      "Boxes: [[548, 773, 642, 846], [436, 680, 490, 730], [316, 766, 432, 824]], Labels: [1, 1, 1]\n",
      "Boxes: [[326, 540, 370, 577]], Labels: [1]\n"
     ]
    },
    {
     "name": "stderr",
     "output_type": "stream",
     "text": [
      "\r",
      "  8%|▊         | 1/13 [00:00<00:09,  1.20it/s]"
     ]
    },
    {
     "name": "stdout",
     "output_type": "stream",
     "text": [
      "Boxes: [[366, 467, 480, 508]], Labels: [1]\n",
      "Boxes: [[528, 1435, 584, 1540], [550, 1253, 596, 1333]], Labels: [1, 1]\n",
      "Boxes: [[264, 715, 322, 761]], Labels: [1]\n",
      "Boxes: [[8, 579, 58, 624]], Labels: [1]\n"
     ]
    },
    {
     "name": "stderr",
     "output_type": "stream",
     "text": [
      "\r",
      " 15%|█▌        | 2/13 [00:01<00:09,  1.20it/s]"
     ]
    },
    {
     "name": "stdout",
     "output_type": "stream",
     "text": [
      "Boxes: [[726, 1235, 828, 1363]], Labels: [1]\n",
      "Boxes: [[342, 751, 390, 787]], Labels: [1]\n",
      "Boxes: [[378, 770, 468, 830]], Labels: [1]\n",
      "Boxes: [[372, 1097, 424, 1156], [524, 1026, 652, 1099]], Labels: [1, 1]\n"
     ]
    },
    {
     "name": "stderr",
     "output_type": "stream",
     "text": [
      "\r",
      " 23%|██▎       | 3/13 [00:02<00:08,  1.12it/s]"
     ]
    },
    {
     "name": "stdout",
     "output_type": "stream",
     "text": [
      "Boxes: [[344, 783, 442, 842], [448, 673, 506, 724], [496, 817, 592, 887]], Labels: [1, 1, 1]\n",
      "Boxes: [[650, 777, 704, 817]], Labels: [1]\n",
      "Boxes: [[424, 763, 520, 828]], Labels: [1]\n",
      "Boxes: [[268, 785, 422, 844]], Labels: [1]\n"
     ]
    },
    {
     "name": "stderr",
     "output_type": "stream",
     "text": [
      "\r",
      " 31%|███       | 4/13 [00:03<00:08,  1.12it/s]"
     ]
    },
    {
     "name": "stdout",
     "output_type": "stream",
     "text": [
      "Boxes: [[366, 1528, 420, 1599]], Labels: [1]\n",
      "Boxes: [[370, 1100, 424, 1157], [540, 965, 688, 1040]], Labels: [1, 1]\n",
      "Boxes: [[474, 752, 516, 788]], Labels: [1]\n",
      "Boxes: [[460, 624, 502, 660]], Labels: [1]\n"
     ]
    },
    {
     "name": "stderr",
     "output_type": "stream",
     "text": [
      "\r",
      " 38%|███▊      | 5/13 [00:04<00:07,  1.08it/s]"
     ]
    },
    {
     "name": "stdout",
     "output_type": "stream",
     "text": [
      "Boxes: [[640, 1488, 798, 1566]], Labels: [1]\n",
      "Boxes: [[240, 1394, 334, 1478]], Labels: [1]\n",
      "Boxes: [[706, 670, 766, 755]], Labels: [1]\n",
      "Boxes: [[346, 538, 394, 578]], Labels: [1]\n"
     ]
    },
    {
     "name": "stderr",
     "output_type": "stream",
     "text": [
      "\r",
      " 46%|████▌     | 6/13 [00:05<00:07,  1.01s/it]"
     ]
    },
    {
     "name": "stdout",
     "output_type": "stream",
     "text": [
      "Boxes: [[424, 707, 478, 756], [376, 890, 448, 941]], Labels: [1, 1]\n",
      "Boxes: [[880, 472, 922, 509]], Labels: [1]\n",
      "Boxes: [[286, 779, 390, 834], [272, 702, 330, 743], [398, 563, 446, 596]], Labels: [1, 1, 1]\n",
      "Boxes: [[556, 950, 638, 1035], [338, 937, 402, 997], [308, 756, 372, 813]], Labels: [1, 1, 1]\n"
     ]
    },
    {
     "name": "stderr",
     "output_type": "stream",
     "text": [
      "\r",
      " 54%|█████▍    | 7/13 [00:06<00:06,  1.06s/it]"
     ]
    },
    {
     "name": "stdout",
     "output_type": "stream",
     "text": [
      "Boxes: [[372, 957, 436, 1004], [338, 768, 412, 823]], Labels: [1, 1]\n",
      "Boxes: [[526, 393, 558, 423]], Labels: [1]\n",
      "Boxes: [[474, 857, 530, 905]], Labels: [1]\n",
      "Boxes: [[392, 779, 540, 829]], Labels: [1]\n"
     ]
    },
    {
     "name": "stderr",
     "output_type": "stream",
     "text": [
      "\r",
      " 62%|██████▏   | 8/13 [00:08<00:05,  1.13s/it]"
     ]
    },
    {
     "name": "stdout",
     "output_type": "stream",
     "text": [
      "Boxes: [[346, 1057, 396, 1114], [388, 870, 446, 961]], Labels: [1, 1]\n",
      "Boxes: [[746, 533, 788, 569]], Labels: [1]\n",
      "Boxes: [[630, 672, 692, 751], [544, 1010, 640, 1084]], Labels: [1, 1]\n",
      "Boxes: [[706, 444, 746, 477]], Labels: [1]\n"
     ]
    },
    {
     "name": "stderr",
     "output_type": "stream",
     "text": [
      "\r",
      " 69%|██████▉   | 9/13 [00:09<00:04,  1.14s/it]"
     ]
    },
    {
     "name": "stdout",
     "output_type": "stream",
     "text": [
      "Boxes: [[304, 740, 358, 785], [408, 795, 504, 852]], Labels: [1, 1]\n",
      "Boxes: [[188, 1442, 296, 1540]], Labels: [1]\n",
      "Boxes: [[342, 765, 400, 820], [372, 956, 428, 1004], [440, 978, 542, 1054]], Labels: [1, 1, 1]\n",
      "Boxes: [[324, 1307, 394, 1402], [424, 1478, 564, 1596]], Labels: [1, 1]\n"
     ]
    },
    {
     "name": "stderr",
     "output_type": "stream",
     "text": [
      "\r",
      " 77%|███████▋  | 10/13 [00:10<00:03,  1.14s/it]"
     ]
    },
    {
     "name": "stdout",
     "output_type": "stream",
     "text": [
      "Boxes: [[224, 1244, 266, 1309]], Labels: [1]\n",
      "Boxes: [[408, 780, 516, 840]], Labels: [1]\n",
      "Boxes: [[478, 831, 524, 873]], Labels: [1]\n",
      "Boxes: [[426, 1205, 492, 1269], [406, 1020, 466, 1082]], Labels: [1, 1]\n"
     ]
    },
    {
     "name": "stderr",
     "output_type": "stream",
     "text": [
      "\r",
      " 85%|████████▍ | 11/13 [00:11<00:02,  1.13s/it]"
     ]
    },
    {
     "name": "stdout",
     "output_type": "stream",
     "text": [
      "Boxes: [[370, 1101, 422, 1161], [554, 983, 676, 1054]], Labels: [1, 1]\n",
      "Boxes: [[458, 779, 512, 813], [366, 889, 434, 926]], Labels: [1, 1]\n",
      "Boxes: [[336, 834, 388, 878]], Labels: [1]\n",
      "Boxes: [[410, 764, 524, 821]], Labels: [1]\n"
     ]
    },
    {
     "name": "stderr",
     "output_type": "stream",
     "text": [
      "\r",
      " 92%|█████████▏| 12/13 [00:12<00:01,  1.05s/it]"
     ]
    },
    {
     "name": "stdout",
     "output_type": "stream",
     "text": [
      "Boxes: [[514, 981, 610, 1054], [422, 962, 492, 1014], [418, 773, 474, 828]], Labels: [1, 1, 1]\n",
      "Boxes: [[406, 1180, 452, 1246]], Labels: [1]\n"
     ]
    },
    {
     "name": "stderr",
     "output_type": "stream",
     "text": [
      "100%|██████████| 13/13 [00:12<00:00,  1.01it/s]\n"
     ]
    },
    {
     "name": "stdout",
     "output_type": "stream",
     "text": [
      "Train Loss: 9.8785\n",
      "Epoch 4/10\n"
     ]
    },
    {
     "name": "stderr",
     "output_type": "stream",
     "text": [
      "\r",
      "  0%|          | 0/13 [00:00<?, ?it/s]"
     ]
    },
    {
     "name": "stdout",
     "output_type": "stream",
     "text": [
      "Boxes: [[286, 779, 390, 834], [272, 702, 330, 743], [398, 563, 446, 596]], Labels: [1, 1, 1]\n",
      "Boxes: [[346, 538, 394, 578]], Labels: [1]\n",
      "Boxes: [[426, 1205, 492, 1269], [406, 1020, 466, 1082]], Labels: [1, 1]\n",
      "Boxes: [[650, 777, 704, 817]], Labels: [1]\n"
     ]
    },
    {
     "name": "stderr",
     "output_type": "stream",
     "text": [
      "\r",
      "  8%|▊         | 1/13 [00:00<00:09,  1.24it/s]"
     ]
    },
    {
     "name": "stdout",
     "output_type": "stream",
     "text": [
      "Boxes: [[424, 707, 478, 756], [376, 890, 448, 941]], Labels: [1, 1]\n",
      "Boxes: [[640, 1488, 798, 1566]], Labels: [1]\n",
      "Boxes: [[346, 1057, 396, 1114], [388, 870, 446, 961]], Labels: [1, 1]\n",
      "Boxes: [[344, 783, 442, 842], [448, 673, 506, 724], [496, 817, 592, 887]], Labels: [1, 1, 1]\n"
     ]
    },
    {
     "name": "stderr",
     "output_type": "stream",
     "text": [
      "\r",
      " 15%|█▌        | 2/13 [00:01<00:09,  1.21it/s]"
     ]
    },
    {
     "name": "stdout",
     "output_type": "stream",
     "text": [
      "Boxes: [[366, 1528, 420, 1599]], Labels: [1]\n",
      "Boxes: [[366, 467, 480, 508]], Labels: [1]\n",
      "Boxes: [[240, 1394, 334, 1478]], Labels: [1]\n",
      "Boxes: [[408, 780, 516, 840]], Labels: [1]\n"
     ]
    },
    {
     "name": "stderr",
     "output_type": "stream",
     "text": [
      "\r",
      " 23%|██▎       | 3/13 [00:02<00:08,  1.18it/s]"
     ]
    },
    {
     "name": "stdout",
     "output_type": "stream",
     "text": [
      "Boxes: [[574, 880, 618, 909]], Labels: [1]\n",
      "Boxes: [[726, 1235, 828, 1363]], Labels: [1]\n",
      "Boxes: [[264, 715, 322, 761]], Labels: [1]\n",
      "Boxes: [[324, 1307, 394, 1402], [424, 1478, 564, 1596]], Labels: [1, 1]\n"
     ]
    },
    {
     "name": "stderr",
     "output_type": "stream",
     "text": [
      "\r",
      " 31%|███       | 4/13 [00:03<00:08,  1.12it/s]"
     ]
    },
    {
     "name": "stdout",
     "output_type": "stream",
     "text": [
      "Boxes: [[378, 770, 468, 830]], Labels: [1]\n",
      "Boxes: [[370, 1100, 424, 1157], [540, 965, 688, 1040]], Labels: [1, 1]\n",
      "Boxes: [[706, 670, 766, 755]], Labels: [1]\n",
      "Boxes: [[224, 1244, 266, 1309]], Labels: [1]\n"
     ]
    },
    {
     "name": "stderr",
     "output_type": "stream",
     "text": [
      "\r",
      " 38%|███▊      | 5/13 [00:04<00:07,  1.09it/s]"
     ]
    },
    {
     "name": "stdout",
     "output_type": "stream",
     "text": [
      "Boxes: [[706, 444, 746, 477]], Labels: [1]\n",
      "Boxes: [[342, 765, 400, 820], [372, 956, 428, 1004], [440, 978, 542, 1054]], Labels: [1, 1, 1]\n",
      "Boxes: [[556, 950, 638, 1035], [338, 937, 402, 997], [308, 756, 372, 813]], Labels: [1, 1, 1]\n",
      "Boxes: [[460, 624, 502, 660]], Labels: [1]\n"
     ]
    },
    {
     "name": "stderr",
     "output_type": "stream",
     "text": [
      "\r",
      " 46%|████▌     | 6/13 [00:05<00:06,  1.09it/s]"
     ]
    },
    {
     "name": "stdout",
     "output_type": "stream",
     "text": [
      "Boxes: [[372, 1097, 424, 1156], [524, 1026, 652, 1099]], Labels: [1, 1]\n",
      "Boxes: [[406, 1180, 452, 1246]], Labels: [1]\n",
      "Boxes: [[746, 533, 788, 569]], Labels: [1]\n",
      "Boxes: [[630, 672, 692, 751], [544, 1010, 640, 1084]], Labels: [1, 1]\n"
     ]
    },
    {
     "name": "stderr",
     "output_type": "stream",
     "text": [
      "\r",
      " 54%|█████▍    | 7/13 [00:06<00:05,  1.12it/s]"
     ]
    },
    {
     "name": "stdout",
     "output_type": "stream",
     "text": [
      "Boxes: [[392, 779, 540, 829]], Labels: [1]\n",
      "Boxes: [[188, 1442, 296, 1540]], Labels: [1]\n",
      "Boxes: [[372, 957, 436, 1004], [338, 768, 412, 823]], Labels: [1, 1]\n",
      "Boxes: [[8, 579, 58, 624]], Labels: [1]\n"
     ]
    },
    {
     "name": "stderr",
     "output_type": "stream",
     "text": [
      "\r",
      " 62%|██████▏   | 8/13 [00:07<00:04,  1.15it/s]"
     ]
    },
    {
     "name": "stdout",
     "output_type": "stream",
     "text": [
      "Boxes: [[514, 981, 610, 1054], [422, 962, 492, 1014], [418, 773, 474, 828]], Labels: [1, 1, 1]\n",
      "Boxes: [[548, 773, 642, 846], [436, 680, 490, 730], [316, 766, 432, 824]], Labels: [1, 1, 1]\n",
      "Boxes: [[478, 831, 524, 873]], Labels: [1]\n",
      "Boxes: [[268, 785, 422, 844]], Labels: [1]\n"
     ]
    },
    {
     "name": "stderr",
     "output_type": "stream",
     "text": [
      "\r",
      " 69%|██████▉   | 9/13 [00:07<00:03,  1.18it/s]"
     ]
    },
    {
     "name": "stdout",
     "output_type": "stream",
     "text": [
      "Boxes: [[474, 752, 516, 788]], Labels: [1]\n",
      "Boxes: [[370, 1101, 422, 1161], [554, 983, 676, 1054]], Labels: [1, 1]\n",
      "Boxes: [[326, 540, 370, 577]], Labels: [1]\n",
      "Boxes: [[304, 740, 358, 785], [408, 795, 504, 852]], Labels: [1, 1]\n"
     ]
    },
    {
     "name": "stderr",
     "output_type": "stream",
     "text": [
      "\r",
      " 77%|███████▋  | 10/13 [00:08<00:02,  1.19it/s]"
     ]
    },
    {
     "name": "stdout",
     "output_type": "stream",
     "text": [
      "Boxes: [[424, 763, 520, 828]], Labels: [1]\n",
      "Boxes: [[458, 779, 512, 813], [366, 889, 434, 926]], Labels: [1, 1]\n",
      "Boxes: [[474, 857, 530, 905]], Labels: [1]\n",
      "Boxes: [[410, 764, 524, 821]], Labels: [1]\n"
     ]
    },
    {
     "name": "stderr",
     "output_type": "stream",
     "text": [
      "\r",
      " 85%|████████▍ | 11/13 [00:09<00:01,  1.10it/s]"
     ]
    },
    {
     "name": "stdout",
     "output_type": "stream",
     "text": [
      "Boxes: [[336, 834, 388, 878]], Labels: [1]\n",
      "Boxes: [[342, 751, 390, 787]], Labels: [1]\n",
      "Boxes: [[526, 393, 558, 423]], Labels: [1]\n",
      "Boxes: [[880, 472, 922, 509]], Labels: [1]\n"
     ]
    },
    {
     "name": "stderr",
     "output_type": "stream",
     "text": [
      "\r",
      " 92%|█████████▏| 12/13 [00:10<00:00,  1.08it/s]"
     ]
    },
    {
     "name": "stdout",
     "output_type": "stream",
     "text": [
      "Boxes: [[528, 1435, 584, 1540], [550, 1253, 596, 1333]], Labels: [1, 1]\n",
      "Boxes: [[548, 981, 680, 1054], [382, 1098, 434, 1149]], Labels: [1, 1]\n"
     ]
    },
    {
     "name": "stderr",
     "output_type": "stream",
     "text": [
      "100%|██████████| 13/13 [00:11<00:00,  1.15it/s]\n"
     ]
    },
    {
     "name": "stdout",
     "output_type": "stream",
     "text": [
      "Train Loss: 9.4009\n",
      "Epoch 5/10\n"
     ]
    },
    {
     "name": "stderr",
     "output_type": "stream",
     "text": [
      "\r",
      "  0%|          | 0/13 [00:00<?, ?it/s]"
     ]
    },
    {
     "name": "stdout",
     "output_type": "stream",
     "text": [
      "Boxes: [[366, 1528, 420, 1599]], Labels: [1]\n",
      "Boxes: [[424, 707, 478, 756], [376, 890, 448, 941]], Labels: [1, 1]\n",
      "Boxes: [[880, 472, 922, 509]], Labels: [1]\n",
      "Boxes: [[392, 779, 540, 829]], Labels: [1]\n"
     ]
    },
    {
     "name": "stderr",
     "output_type": "stream",
     "text": [
      "\r",
      "  8%|▊         | 1/13 [00:01<00:15,  1.26s/it]"
     ]
    },
    {
     "name": "stdout",
     "output_type": "stream",
     "text": [
      "Boxes: [[372, 957, 436, 1004], [338, 768, 412, 823]], Labels: [1, 1]\n",
      "Boxes: [[424, 763, 520, 828]], Labels: [1]\n",
      "Boxes: [[548, 773, 642, 846], [436, 680, 490, 730], [316, 766, 432, 824]], Labels: [1, 1, 1]\n",
      "Boxes: [[706, 670, 766, 755]], Labels: [1]\n"
     ]
    },
    {
     "name": "stderr",
     "output_type": "stream",
     "text": [
      "\r",
      " 15%|█▌        | 2/13 [00:02<00:14,  1.28s/it]"
     ]
    },
    {
     "name": "stdout",
     "output_type": "stream",
     "text": [
      "Boxes: [[344, 783, 442, 842], [448, 673, 506, 724], [496, 817, 592, 887]], Labels: [1, 1, 1]\n",
      "Boxes: [[370, 1101, 422, 1161], [554, 983, 676, 1054]], Labels: [1, 1]\n",
      "Boxes: [[342, 751, 390, 787]], Labels: [1]\n",
      "Boxes: [[224, 1244, 266, 1309]], Labels: [1]\n"
     ]
    },
    {
     "name": "stderr",
     "output_type": "stream",
     "text": [
      "\r",
      " 23%|██▎       | 3/13 [00:03<00:11,  1.14s/it]"
     ]
    },
    {
     "name": "stdout",
     "output_type": "stream",
     "text": [
      "Boxes: [[264, 715, 322, 761]], Labels: [1]\n",
      "Boxes: [[650, 777, 704, 817]], Labels: [1]\n",
      "Boxes: [[346, 538, 394, 578]], Labels: [1]\n",
      "Boxes: [[474, 752, 516, 788]], Labels: [1]\n"
     ]
    },
    {
     "name": "stderr",
     "output_type": "stream",
     "text": [
      "\r",
      " 31%|███       | 4/13 [00:04<00:09,  1.10s/it]"
     ]
    },
    {
     "name": "stdout",
     "output_type": "stream",
     "text": [
      "Boxes: [[458, 779, 512, 813], [366, 889, 434, 926]], Labels: [1, 1]\n",
      "Boxes: [[528, 1435, 584, 1540], [550, 1253, 596, 1333]], Labels: [1, 1]\n",
      "Boxes: [[514, 981, 610, 1054], [422, 962, 492, 1014], [418, 773, 474, 828]], Labels: [1, 1, 1]\n",
      "Boxes: [[706, 444, 746, 477]], Labels: [1]\n"
     ]
    },
    {
     "name": "stderr",
     "output_type": "stream",
     "text": [
      "\r",
      " 38%|███▊      | 5/13 [00:05<00:08,  1.05s/it]"
     ]
    },
    {
     "name": "stdout",
     "output_type": "stream",
     "text": [
      "Boxes: [[346, 1057, 396, 1114], [388, 870, 446, 961]], Labels: [1, 1]\n",
      "Boxes: [[726, 1235, 828, 1363]], Labels: [1]\n",
      "Boxes: [[342, 765, 400, 820], [372, 956, 428, 1004], [440, 978, 542, 1054]], Labels: [1, 1, 1]\n",
      "Boxes: [[240, 1394, 334, 1478]], Labels: [1]\n"
     ]
    },
    {
     "name": "stderr",
     "output_type": "stream",
     "text": [
      "\r",
      " 46%|████▌     | 6/13 [00:06<00:07,  1.01s/it]"
     ]
    },
    {
     "name": "stdout",
     "output_type": "stream",
     "text": [
      "Boxes: [[366, 467, 480, 508]], Labels: [1]\n",
      "Boxes: [[426, 1205, 492, 1269], [406, 1020, 466, 1082]], Labels: [1, 1]\n",
      "Boxes: [[526, 393, 558, 423]], Labels: [1]\n",
      "Boxes: [[378, 770, 468, 830]], Labels: [1]\n"
     ]
    },
    {
     "name": "stderr",
     "output_type": "stream",
     "text": [
      "\r",
      " 54%|█████▍    | 7/13 [00:07<00:05,  1.04it/s]"
     ]
    },
    {
     "name": "stdout",
     "output_type": "stream",
     "text": [
      "Boxes: [[574, 880, 618, 909]], Labels: [1]\n",
      "Boxes: [[474, 857, 530, 905]], Labels: [1]\n",
      "Boxes: [[324, 1307, 394, 1402], [424, 1478, 564, 1596]], Labels: [1, 1]\n",
      "Boxes: [[630, 672, 692, 751], [544, 1010, 640, 1084]], Labels: [1, 1]\n"
     ]
    },
    {
     "name": "stderr",
     "output_type": "stream",
     "text": [
      "\r",
      " 62%|██████▏   | 8/13 [00:08<00:04,  1.09it/s]"
     ]
    },
    {
     "name": "stdout",
     "output_type": "stream",
     "text": [
      "Boxes: [[370, 1100, 424, 1157], [540, 965, 688, 1040]], Labels: [1, 1]\n",
      "Boxes: [[556, 950, 638, 1035], [338, 937, 402, 997], [308, 756, 372, 813]], Labels: [1, 1, 1]\n",
      "Boxes: [[372, 1097, 424, 1156], [524, 1026, 652, 1099]], Labels: [1, 1]\n",
      "Boxes: [[326, 540, 370, 577]], Labels: [1]\n"
     ]
    },
    {
     "name": "stderr",
     "output_type": "stream",
     "text": [
      "\r",
      " 69%|██████▉   | 9/13 [00:08<00:03,  1.13it/s]"
     ]
    },
    {
     "name": "stdout",
     "output_type": "stream",
     "text": [
      "Boxes: [[460, 624, 502, 660]], Labels: [1]\n",
      "Boxes: [[640, 1488, 798, 1566]], Labels: [1]\n",
      "Boxes: [[406, 1180, 452, 1246]], Labels: [1]\n",
      "Boxes: [[408, 780, 516, 840]], Labels: [1]\n"
     ]
    },
    {
     "name": "stderr",
     "output_type": "stream",
     "text": [
      "\r",
      " 77%|███████▋  | 10/13 [00:09<00:02,  1.16it/s]"
     ]
    },
    {
     "name": "stdout",
     "output_type": "stream",
     "text": [
      "Boxes: [[268, 785, 422, 844]], Labels: [1]\n",
      "Boxes: [[478, 831, 524, 873]], Labels: [1]\n",
      "Boxes: [[746, 533, 788, 569]], Labels: [1]\n",
      "Boxes: [[548, 981, 680, 1054], [382, 1098, 434, 1149]], Labels: [1, 1]\n"
     ]
    },
    {
     "name": "stderr",
     "output_type": "stream",
     "text": [
      "\r",
      " 85%|████████▍ | 11/13 [00:10<00:01,  1.19it/s]"
     ]
    },
    {
     "name": "stdout",
     "output_type": "stream",
     "text": [
      "Boxes: [[286, 779, 390, 834], [272, 702, 330, 743], [398, 563, 446, 596]], Labels: [1, 1, 1]\n",
      "Boxes: [[188, 1442, 296, 1540]], Labels: [1]\n",
      "Boxes: [[304, 740, 358, 785], [408, 795, 504, 852]], Labels: [1, 1]\n",
      "Boxes: [[336, 834, 388, 878]], Labels: [1]\n"
     ]
    },
    {
     "name": "stderr",
     "output_type": "stream",
     "text": [
      "\r",
      " 92%|█████████▏| 12/13 [00:11<00:00,  1.21it/s]"
     ]
    },
    {
     "name": "stdout",
     "output_type": "stream",
     "text": [
      "Boxes: [[410, 764, 524, 821]], Labels: [1]\n",
      "Boxes: [[8, 579, 58, 624]], Labels: [1]\n"
     ]
    },
    {
     "name": "stderr",
     "output_type": "stream",
     "text": [
      "100%|██████████| 13/13 [00:11<00:00,  1.10it/s]\n"
     ]
    },
    {
     "name": "stdout",
     "output_type": "stream",
     "text": [
      "Train Loss: 10.4287\n",
      "Epoch 6/10\n"
     ]
    },
    {
     "name": "stderr",
     "output_type": "stream",
     "text": [
      "\r",
      "  0%|          | 0/13 [00:00<?, ?it/s]"
     ]
    },
    {
     "name": "stdout",
     "output_type": "stream",
     "text": [
      "Boxes: [[304, 740, 358, 785], [408, 795, 504, 852]], Labels: [1, 1]\n",
      "Boxes: [[424, 763, 520, 828]], Labels: [1]\n",
      "Boxes: [[474, 857, 530, 905]], Labels: [1]\n",
      "Boxes: [[224, 1244, 266, 1309]], Labels: [1]\n"
     ]
    },
    {
     "name": "stderr",
     "output_type": "stream",
     "text": [
      "\r",
      "  8%|▊         | 1/13 [00:00<00:09,  1.24it/s]"
     ]
    },
    {
     "name": "stdout",
     "output_type": "stream",
     "text": [
      "Boxes: [[370, 1101, 422, 1161], [554, 983, 676, 1054]], Labels: [1, 1]\n",
      "Boxes: [[8, 579, 58, 624]], Labels: [1]\n",
      "Boxes: [[240, 1394, 334, 1478]], Labels: [1]\n",
      "Boxes: [[528, 1435, 584, 1540], [550, 1253, 596, 1333]], Labels: [1, 1]\n"
     ]
    },
    {
     "name": "stderr",
     "output_type": "stream",
     "text": [
      "\r",
      " 15%|█▌        | 2/13 [00:01<00:09,  1.15it/s]"
     ]
    },
    {
     "name": "stdout",
     "output_type": "stream",
     "text": [
      "Boxes: [[426, 1205, 492, 1269], [406, 1020, 466, 1082]], Labels: [1, 1]\n",
      "Boxes: [[640, 1488, 798, 1566]], Labels: [1]\n",
      "Boxes: [[408, 780, 516, 840]], Labels: [1]\n",
      "Boxes: [[188, 1442, 296, 1540]], Labels: [1]\n"
     ]
    },
    {
     "name": "stderr",
     "output_type": "stream",
     "text": [
      "\r",
      " 23%|██▎       | 3/13 [00:02<00:09,  1.05it/s]"
     ]
    },
    {
     "name": "stdout",
     "output_type": "stream",
     "text": [
      "Boxes: [[286, 779, 390, 834], [272, 702, 330, 743], [398, 563, 446, 596]], Labels: [1, 1, 1]\n",
      "Boxes: [[336, 834, 388, 878]], Labels: [1]\n",
      "Boxes: [[460, 624, 502, 660]], Labels: [1]\n",
      "Boxes: [[650, 777, 704, 817]], Labels: [1]\n"
     ]
    },
    {
     "name": "stderr",
     "output_type": "stream",
     "text": [
      "\r",
      " 31%|███       | 4/13 [00:03<00:08,  1.03it/s]"
     ]
    },
    {
     "name": "stdout",
     "output_type": "stream",
     "text": [
      "Boxes: [[264, 715, 322, 761]], Labels: [1]\n",
      "Boxes: [[346, 1057, 396, 1114], [388, 870, 446, 961]], Labels: [1, 1]\n",
      "Boxes: [[548, 773, 642, 846], [436, 680, 490, 730], [316, 766, 432, 824]], Labels: [1, 1, 1]\n",
      "Boxes: [[366, 1528, 420, 1599]], Labels: [1]\n"
     ]
    },
    {
     "name": "stderr",
     "output_type": "stream",
     "text": [
      "\r",
      " 38%|███▊      | 5/13 [00:04<00:07,  1.05it/s]"
     ]
    },
    {
     "name": "stdout",
     "output_type": "stream",
     "text": [
      "Boxes: [[344, 783, 442, 842], [448, 673, 506, 724], [496, 817, 592, 887]], Labels: [1, 1, 1]\n",
      "Boxes: [[514, 981, 610, 1054], [422, 962, 492, 1014], [418, 773, 474, 828]], Labels: [1, 1, 1]\n",
      "Boxes: [[392, 779, 540, 829]], Labels: [1]\n",
      "Boxes: [[746, 533, 788, 569]], Labels: [1]\n"
     ]
    },
    {
     "name": "stderr",
     "output_type": "stream",
     "text": [
      "\r",
      " 46%|████▌     | 6/13 [00:05<00:06,  1.10it/s]"
     ]
    },
    {
     "name": "stdout",
     "output_type": "stream",
     "text": [
      "Boxes: [[372, 957, 436, 1004], [338, 768, 412, 823]], Labels: [1, 1]\n",
      "Boxes: [[706, 670, 766, 755]], Labels: [1]\n",
      "Boxes: [[326, 540, 370, 577]], Labels: [1]\n",
      "Boxes: [[372, 1097, 424, 1156], [524, 1026, 652, 1099]], Labels: [1, 1]\n"
     ]
    },
    {
     "name": "stderr",
     "output_type": "stream",
     "text": [
      "\r",
      " 54%|█████▍    | 7/13 [00:06<00:05,  1.09it/s]"
     ]
    },
    {
     "name": "stdout",
     "output_type": "stream",
     "text": [
      "Boxes: [[548, 981, 680, 1054], [382, 1098, 434, 1149]], Labels: [1, 1]\n",
      "Boxes: [[458, 779, 512, 813], [366, 889, 434, 926]], Labels: [1, 1]\n",
      "Boxes: [[342, 751, 390, 787]], Labels: [1]\n",
      "Boxes: [[342, 765, 400, 820], [372, 956, 428, 1004], [440, 978, 542, 1054]], Labels: [1, 1, 1]\n"
     ]
    },
    {
     "name": "stderr",
     "output_type": "stream",
     "text": [
      "\r",
      " 62%|██████▏   | 8/13 [00:07<00:04,  1.11it/s]"
     ]
    },
    {
     "name": "stdout",
     "output_type": "stream",
     "text": [
      "Boxes: [[526, 393, 558, 423]], Labels: [1]\n",
      "Boxes: [[478, 831, 524, 873]], Labels: [1]\n",
      "Boxes: [[630, 672, 692, 751], [544, 1010, 640, 1084]], Labels: [1, 1]\n",
      "Boxes: [[366, 467, 480, 508]], Labels: [1]\n"
     ]
    },
    {
     "name": "stderr",
     "output_type": "stream",
     "text": [
      "\r",
      " 69%|██████▉   | 9/13 [00:08<00:03,  1.11it/s]"
     ]
    },
    {
     "name": "stdout",
     "output_type": "stream",
     "text": [
      "Boxes: [[370, 1100, 424, 1157], [540, 965, 688, 1040]], Labels: [1, 1]\n",
      "Boxes: [[268, 785, 422, 844]], Labels: [1]\n",
      "Boxes: [[574, 880, 618, 909]], Labels: [1]\n",
      "Boxes: [[880, 472, 922, 509]], Labels: [1]\n"
     ]
    },
    {
     "name": "stderr",
     "output_type": "stream",
     "text": [
      "\r",
      " 77%|███████▋  | 10/13 [00:09<00:02,  1.15it/s]"
     ]
    },
    {
     "name": "stdout",
     "output_type": "stream",
     "text": [
      "Boxes: [[726, 1235, 828, 1363]], Labels: [1]\n",
      "Boxes: [[324, 1307, 394, 1402], [424, 1478, 564, 1596]], Labels: [1, 1]\n",
      "Boxes: [[406, 1180, 452, 1246]], Labels: [1]\n",
      "Boxes: [[474, 752, 516, 788]], Labels: [1]\n"
     ]
    },
    {
     "name": "stderr",
     "output_type": "stream",
     "text": [
      "\r",
      " 85%|████████▍ | 11/13 [00:09<00:01,  1.14it/s]"
     ]
    },
    {
     "name": "stdout",
     "output_type": "stream",
     "text": [
      "Boxes: [[378, 770, 468, 830]], Labels: [1]\n",
      "Boxes: [[410, 764, 524, 821]], Labels: [1]\n",
      "Boxes: [[706, 444, 746, 477]], Labels: [1]\n",
      "Boxes: [[346, 538, 394, 578]], Labels: [1]\n"
     ]
    },
    {
     "name": "stderr",
     "output_type": "stream",
     "text": [
      "\r",
      " 92%|█████████▏| 12/13 [00:10<00:00,  1.18it/s]"
     ]
    },
    {
     "name": "stdout",
     "output_type": "stream",
     "text": [
      "Boxes: [[424, 707, 478, 756], [376, 890, 448, 941]], Labels: [1, 1]\n",
      "Boxes: [[556, 950, 638, 1035], [338, 937, 402, 997], [308, 756, 372, 813]], Labels: [1, 1, 1]\n"
     ]
    },
    {
     "name": "stderr",
     "output_type": "stream",
     "text": [
      "100%|██████████| 13/13 [00:11<00:00,  1.17it/s]\n"
     ]
    },
    {
     "name": "stdout",
     "output_type": "stream",
     "text": [
      "Train Loss: 7.9436\n",
      "Epoch 7/10\n"
     ]
    },
    {
     "name": "stderr",
     "output_type": "stream",
     "text": [
      "\r",
      "  0%|          | 0/13 [00:00<?, ?it/s]"
     ]
    },
    {
     "name": "stdout",
     "output_type": "stream",
     "text": [
      "Boxes: [[366, 467, 480, 508]], Labels: [1]\n",
      "Boxes: [[410, 764, 524, 821]], Labels: [1]\n",
      "Boxes: [[424, 707, 478, 756], [376, 890, 448, 941]], Labels: [1, 1]\n",
      "Boxes: [[528, 1435, 584, 1540], [550, 1253, 596, 1333]], Labels: [1, 1]\n"
     ]
    },
    {
     "name": "stderr",
     "output_type": "stream",
     "text": [
      "\r",
      "  8%|▊         | 1/13 [00:00<00:09,  1.23it/s]"
     ]
    },
    {
     "name": "stdout",
     "output_type": "stream",
     "text": [
      "Boxes: [[706, 670, 766, 755]], Labels: [1]\n",
      "Boxes: [[526, 393, 558, 423]], Labels: [1]\n",
      "Boxes: [[650, 777, 704, 817]], Labels: [1]\n",
      "Boxes: [[366, 1528, 420, 1599]], Labels: [1]\n"
     ]
    },
    {
     "name": "stderr",
     "output_type": "stream",
     "text": [
      "\r",
      " 15%|█▌        | 2/13 [00:01<00:09,  1.21it/s]"
     ]
    },
    {
     "name": "stdout",
     "output_type": "stream",
     "text": [
      "Boxes: [[474, 857, 530, 905]], Labels: [1]\n",
      "Boxes: [[574, 880, 618, 909]], Labels: [1]\n",
      "Boxes: [[424, 763, 520, 828]], Labels: [1]\n",
      "Boxes: [[342, 751, 390, 787]], Labels: [1]\n"
     ]
    },
    {
     "name": "stderr",
     "output_type": "stream",
     "text": [
      "\r",
      " 23%|██▎       | 3/13 [00:02<00:08,  1.24it/s]"
     ]
    },
    {
     "name": "stdout",
     "output_type": "stream",
     "text": [
      "Boxes: [[346, 1057, 396, 1114], [388, 870, 446, 961]], Labels: [1, 1]\n",
      "Boxes: [[726, 1235, 828, 1363]], Labels: [1]\n",
      "Boxes: [[336, 834, 388, 878]], Labels: [1]\n",
      "Boxes: [[344, 783, 442, 842], [448, 673, 506, 724], [496, 817, 592, 887]], Labels: [1, 1, 1]\n"
     ]
    },
    {
     "name": "stderr",
     "output_type": "stream",
     "text": [
      "\r",
      " 31%|███       | 4/13 [00:03<00:07,  1.22it/s]"
     ]
    },
    {
     "name": "stdout",
     "output_type": "stream",
     "text": [
      "Boxes: [[408, 780, 516, 840]], Labels: [1]\n",
      "Boxes: [[706, 444, 746, 477]], Labels: [1]\n",
      "Boxes: [[640, 1488, 798, 1566]], Labels: [1]\n",
      "Boxes: [[324, 1307, 394, 1402], [424, 1478, 564, 1596]], Labels: [1, 1]\n"
     ]
    },
    {
     "name": "stderr",
     "output_type": "stream",
     "text": [
      "\r",
      " 38%|███▊      | 5/13 [00:04<00:06,  1.21it/s]"
     ]
    },
    {
     "name": "stdout",
     "output_type": "stream",
     "text": [
      "Boxes: [[268, 785, 422, 844]], Labels: [1]\n",
      "Boxes: [[378, 770, 468, 830]], Labels: [1]\n",
      "Boxes: [[346, 538, 394, 578]], Labels: [1]\n",
      "Boxes: [[370, 1100, 424, 1157], [540, 965, 688, 1040]], Labels: [1, 1]\n"
     ]
    },
    {
     "name": "stderr",
     "output_type": "stream",
     "text": [
      "\r",
      " 46%|████▌     | 6/13 [00:04<00:05,  1.22it/s]"
     ]
    },
    {
     "name": "stdout",
     "output_type": "stream",
     "text": [
      "Boxes: [[474, 752, 516, 788]], Labels: [1]\n",
      "Boxes: [[8, 579, 58, 624]], Labels: [1]\n",
      "Boxes: [[460, 624, 502, 660]], Labels: [1]\n",
      "Boxes: [[514, 981, 610, 1054], [422, 962, 492, 1014], [418, 773, 474, 828]], Labels: [1, 1, 1]\n"
     ]
    },
    {
     "name": "stderr",
     "output_type": "stream",
     "text": [
      "\r",
      " 54%|█████▍    | 7/13 [00:05<00:04,  1.23it/s]"
     ]
    },
    {
     "name": "stdout",
     "output_type": "stream",
     "text": [
      "Boxes: [[370, 1101, 422, 1161], [554, 983, 676, 1054]], Labels: [1, 1]\n",
      "Boxes: [[548, 981, 680, 1054], [382, 1098, 434, 1149]], Labels: [1, 1]\n",
      "Boxes: [[224, 1244, 266, 1309]], Labels: [1]\n",
      "Boxes: [[264, 715, 322, 761]], Labels: [1]\n"
     ]
    },
    {
     "name": "stderr",
     "output_type": "stream",
     "text": [
      "\r",
      " 62%|██████▏   | 8/13 [00:06<00:04,  1.22it/s]"
     ]
    },
    {
     "name": "stdout",
     "output_type": "stream",
     "text": [
      "Boxes: [[458, 779, 512, 813], [366, 889, 434, 926]], Labels: [1, 1]\n",
      "Boxes: [[548, 773, 642, 846], [436, 680, 490, 730], [316, 766, 432, 824]], Labels: [1, 1, 1]\n",
      "Boxes: [[342, 765, 400, 820], [372, 956, 428, 1004], [440, 978, 542, 1054]], Labels: [1, 1, 1]\n",
      "Boxes: [[406, 1180, 452, 1246]], Labels: [1]\n"
     ]
    },
    {
     "name": "stderr",
     "output_type": "stream",
     "text": [
      "\r",
      " 69%|██████▉   | 9/13 [00:07<00:03,  1.21it/s]"
     ]
    },
    {
     "name": "stdout",
     "output_type": "stream",
     "text": [
      "Boxes: [[326, 540, 370, 577]], Labels: [1]\n",
      "Boxes: [[556, 950, 638, 1035], [338, 937, 402, 997], [308, 756, 372, 813]], Labels: [1, 1, 1]\n",
      "Boxes: [[372, 957, 436, 1004], [338, 768, 412, 823]], Labels: [1, 1]\n",
      "Boxes: [[426, 1205, 492, 1269], [406, 1020, 466, 1082]], Labels: [1, 1]\n"
     ]
    },
    {
     "name": "stderr",
     "output_type": "stream",
     "text": [
      "\r",
      " 77%|███████▋  | 10/13 [00:08<00:02,  1.17it/s]"
     ]
    },
    {
     "name": "stdout",
     "output_type": "stream",
     "text": [
      "Boxes: [[880, 472, 922, 509]], Labels: [1]\n",
      "Boxes: [[746, 533, 788, 569]], Labels: [1]\n",
      "Boxes: [[630, 672, 692, 751], [544, 1010, 640, 1084]], Labels: [1, 1]\n",
      "Boxes: [[286, 779, 390, 834], [272, 702, 330, 743], [398, 563, 446, 596]], Labels: [1, 1, 1]\n"
     ]
    },
    {
     "name": "stderr",
     "output_type": "stream",
     "text": [
      "\r",
      " 85%|████████▍ | 11/13 [00:09<00:01,  1.16it/s]"
     ]
    },
    {
     "name": "stdout",
     "output_type": "stream",
     "text": [
      "Boxes: [[478, 831, 524, 873]], Labels: [1]\n",
      "Boxes: [[392, 779, 540, 829]], Labels: [1]\n",
      "Boxes: [[240, 1394, 334, 1478]], Labels: [1]\n",
      "Boxes: [[188, 1442, 296, 1540]], Labels: [1]\n"
     ]
    },
    {
     "name": "stderr",
     "output_type": "stream",
     "text": [
      "\r",
      " 92%|█████████▏| 12/13 [00:10<00:00,  1.16it/s]"
     ]
    },
    {
     "name": "stdout",
     "output_type": "stream",
     "text": [
      "Boxes: [[304, 740, 358, 785], [408, 795, 504, 852]], Labels: [1, 1]\n",
      "Boxes: [[372, 1097, 424, 1156], [524, 1026, 652, 1099]], Labels: [1, 1]\n"
     ]
    },
    {
     "name": "stderr",
     "output_type": "stream",
     "text": [
      "100%|██████████| 13/13 [00:10<00:00,  1.23it/s]\n"
     ]
    },
    {
     "name": "stdout",
     "output_type": "stream",
     "text": [
      "Train Loss: 7.3686\n",
      "Epoch 8/10\n"
     ]
    },
    {
     "name": "stderr",
     "output_type": "stream",
     "text": [
      "\r",
      "  0%|          | 0/13 [00:00<?, ?it/s]"
     ]
    },
    {
     "name": "stdout",
     "output_type": "stream",
     "text": [
      "Boxes: [[574, 880, 618, 909]], Labels: [1]\n",
      "Boxes: [[378, 770, 468, 830]], Labels: [1]\n",
      "Boxes: [[474, 857, 530, 905]], Labels: [1]\n",
      "Boxes: [[726, 1235, 828, 1363]], Labels: [1]\n"
     ]
    },
    {
     "name": "stderr",
     "output_type": "stream",
     "text": [
      "\r",
      "  8%|▊         | 1/13 [00:00<00:09,  1.22it/s]"
     ]
    },
    {
     "name": "stdout",
     "output_type": "stream",
     "text": [
      "Boxes: [[706, 444, 746, 477]], Labels: [1]\n",
      "Boxes: [[424, 707, 478, 756], [376, 890, 448, 941]], Labels: [1, 1]\n",
      "Boxes: [[366, 467, 480, 508]], Labels: [1]\n",
      "Boxes: [[324, 1307, 394, 1402], [424, 1478, 564, 1596]], Labels: [1, 1]\n"
     ]
    },
    {
     "name": "stderr",
     "output_type": "stream",
     "text": [
      "\r",
      " 15%|█▌        | 2/13 [00:01<00:09,  1.16it/s]"
     ]
    },
    {
     "name": "stdout",
     "output_type": "stream",
     "text": [
      "Boxes: [[548, 981, 680, 1054], [382, 1098, 434, 1149]], Labels: [1, 1]\n",
      "Boxes: [[406, 1180, 452, 1246]], Labels: [1]\n",
      "Boxes: [[370, 1101, 422, 1161], [554, 983, 676, 1054]], Labels: [1, 1]\n",
      "Boxes: [[746, 533, 788, 569]], Labels: [1]\n"
     ]
    },
    {
     "name": "stderr",
     "output_type": "stream",
     "text": [
      "\r",
      " 23%|██▎       | 3/13 [00:02<00:08,  1.15it/s]"
     ]
    },
    {
     "name": "stdout",
     "output_type": "stream",
     "text": [
      "Boxes: [[526, 393, 558, 423]], Labels: [1]\n",
      "Boxes: [[224, 1244, 266, 1309]], Labels: [1]\n",
      "Boxes: [[372, 957, 436, 1004], [338, 768, 412, 823]], Labels: [1, 1]\n",
      "Boxes: [[528, 1435, 584, 1540], [550, 1253, 596, 1333]], Labels: [1, 1]\n"
     ]
    },
    {
     "name": "stderr",
     "output_type": "stream",
     "text": [
      "\r",
      " 31%|███       | 4/13 [00:03<00:07,  1.15it/s]"
     ]
    },
    {
     "name": "stdout",
     "output_type": "stream",
     "text": [
      "Boxes: [[8, 579, 58, 624]], Labels: [1]\n",
      "Boxes: [[548, 773, 642, 846], [436, 680, 490, 730], [316, 766, 432, 824]], Labels: [1, 1, 1]\n",
      "Boxes: [[458, 779, 512, 813], [366, 889, 434, 926]], Labels: [1, 1]\n",
      "Boxes: [[408, 780, 516, 840]], Labels: [1]\n"
     ]
    },
    {
     "name": "stderr",
     "output_type": "stream",
     "text": [
      "\r",
      " 38%|███▊      | 5/13 [00:04<00:06,  1.17it/s]"
     ]
    },
    {
     "name": "stdout",
     "output_type": "stream",
     "text": [
      "Boxes: [[370, 1100, 424, 1157], [540, 965, 688, 1040]], Labels: [1, 1]\n",
      "Boxes: [[478, 831, 524, 873]], Labels: [1]\n",
      "Boxes: [[650, 777, 704, 817]], Labels: [1]\n",
      "Boxes: [[460, 624, 502, 660]], Labels: [1]\n"
     ]
    },
    {
     "name": "stderr",
     "output_type": "stream",
     "text": [
      "\r",
      " 46%|████▌     | 6/13 [00:05<00:05,  1.20it/s]"
     ]
    },
    {
     "name": "stdout",
     "output_type": "stream",
     "text": [
      "Boxes: [[514, 981, 610, 1054], [422, 962, 492, 1014], [418, 773, 474, 828]], Labels: [1, 1, 1]\n",
      "Boxes: [[264, 715, 322, 761]], Labels: [1]\n",
      "Boxes: [[410, 764, 524, 821]], Labels: [1]\n",
      "Boxes: [[366, 1528, 420, 1599]], Labels: [1]\n"
     ]
    },
    {
     "name": "stderr",
     "output_type": "stream",
     "text": [
      "\r",
      " 54%|█████▍    | 7/13 [00:05<00:04,  1.21it/s]"
     ]
    },
    {
     "name": "stdout",
     "output_type": "stream",
     "text": [
      "Boxes: [[344, 783, 442, 842], [448, 673, 506, 724], [496, 817, 592, 887]], Labels: [1, 1, 1]\n",
      "Boxes: [[342, 765, 400, 820], [372, 956, 428, 1004], [440, 978, 542, 1054]], Labels: [1, 1, 1]\n",
      "Boxes: [[392, 779, 540, 829]], Labels: [1]\n",
      "Boxes: [[346, 538, 394, 578]], Labels: [1]\n"
     ]
    },
    {
     "name": "stderr",
     "output_type": "stream",
     "text": [
      "\r",
      " 62%|██████▏   | 8/13 [00:06<00:04,  1.21it/s]"
     ]
    },
    {
     "name": "stdout",
     "output_type": "stream",
     "text": [
      "Boxes: [[424, 763, 520, 828]], Labels: [1]\n",
      "Boxes: [[188, 1442, 296, 1540]], Labels: [1]\n",
      "Boxes: [[240, 1394, 334, 1478]], Labels: [1]\n",
      "Boxes: [[268, 785, 422, 844]], Labels: [1]\n"
     ]
    },
    {
     "name": "stderr",
     "output_type": "stream",
     "text": [
      "\r",
      " 69%|██████▉   | 9/13 [00:07<00:03,  1.24it/s]"
     ]
    },
    {
     "name": "stdout",
     "output_type": "stream",
     "text": [
      "Boxes: [[556, 950, 638, 1035], [338, 937, 402, 997], [308, 756, 372, 813]], Labels: [1, 1, 1]\n",
      "Boxes: [[286, 779, 390, 834], [272, 702, 330, 743], [398, 563, 446, 596]], Labels: [1, 1, 1]\n",
      "Boxes: [[336, 834, 388, 878]], Labels: [1]\n",
      "Boxes: [[880, 472, 922, 509]], Labels: [1]\n"
     ]
    },
    {
     "name": "stderr",
     "output_type": "stream",
     "text": [
      "\r",
      " 77%|███████▋  | 10/13 [00:08<00:02,  1.24it/s]"
     ]
    },
    {
     "name": "stdout",
     "output_type": "stream",
     "text": [
      "Boxes: [[426, 1205, 492, 1269], [406, 1020, 466, 1082]], Labels: [1, 1]\n",
      "Boxes: [[630, 672, 692, 751], [544, 1010, 640, 1084]], Labels: [1, 1]\n",
      "Boxes: [[706, 670, 766, 755]], Labels: [1]\n",
      "Boxes: [[304, 740, 358, 785], [408, 795, 504, 852]], Labels: [1, 1]\n"
     ]
    },
    {
     "name": "stderr",
     "output_type": "stream",
     "text": [
      "\r",
      " 85%|████████▍ | 11/13 [00:09<00:01,  1.21it/s]"
     ]
    },
    {
     "name": "stdout",
     "output_type": "stream",
     "text": [
      "Boxes: [[346, 1057, 396, 1114], [388, 870, 446, 961]], Labels: [1, 1]\n",
      "Boxes: [[342, 751, 390, 787]], Labels: [1]\n",
      "Boxes: [[640, 1488, 798, 1566]], Labels: [1]\n",
      "Boxes: [[372, 1097, 424, 1156], [524, 1026, 652, 1099]], Labels: [1, 1]\n"
     ]
    },
    {
     "name": "stderr",
     "output_type": "stream",
     "text": [
      "\r",
      " 92%|█████████▏| 12/13 [00:10<00:00,  1.19it/s]"
     ]
    },
    {
     "name": "stdout",
     "output_type": "stream",
     "text": [
      "Boxes: [[326, 540, 370, 577]], Labels: [1]\n",
      "Boxes: [[474, 752, 516, 788]], Labels: [1]\n"
     ]
    },
    {
     "name": "stderr",
     "output_type": "stream",
     "text": [
      "100%|██████████| 13/13 [00:10<00:00,  1.23it/s]\n"
     ]
    },
    {
     "name": "stdout",
     "output_type": "stream",
     "text": [
      "Train Loss: 7.7341\n",
      "Epoch 9/10\n"
     ]
    },
    {
     "name": "stderr",
     "output_type": "stream",
     "text": [
      "\r",
      "  0%|          | 0/13 [00:00<?, ?it/s]"
     ]
    },
    {
     "name": "stdout",
     "output_type": "stream",
     "text": [
      "Boxes: [[650, 777, 704, 817]], Labels: [1]\n",
      "Boxes: [[370, 1100, 424, 1157], [540, 965, 688, 1040]], Labels: [1, 1]\n",
      "Boxes: [[426, 1205, 492, 1269], [406, 1020, 466, 1082]], Labels: [1, 1]\n",
      "Boxes: [[224, 1244, 266, 1309]], Labels: [1]\n"
     ]
    },
    {
     "name": "stderr",
     "output_type": "stream",
     "text": [
      "\r",
      "  8%|▊         | 1/13 [00:01<00:12,  1.08s/it]"
     ]
    },
    {
     "name": "stdout",
     "output_type": "stream",
     "text": [
      "Boxes: [[746, 533, 788, 569]], Labels: [1]\n",
      "Boxes: [[268, 785, 422, 844]], Labels: [1]\n",
      "Boxes: [[460, 624, 502, 660]], Labels: [1]\n",
      "Boxes: [[344, 783, 442, 842], [448, 673, 506, 724], [496, 817, 592, 887]], Labels: [1, 1, 1]\n"
     ]
    },
    {
     "name": "stderr",
     "output_type": "stream",
     "text": [
      "\r",
      " 15%|█▌        | 2/13 [00:02<00:12,  1.10s/it]"
     ]
    },
    {
     "name": "stdout",
     "output_type": "stream",
     "text": [
      "Boxes: [[286, 779, 390, 834], [272, 702, 330, 743], [398, 563, 446, 596]], Labels: [1, 1, 1]\n",
      "Boxes: [[630, 672, 692, 751], [544, 1010, 640, 1084]], Labels: [1, 1]\n",
      "Boxes: [[392, 779, 540, 829]], Labels: [1]\n",
      "Boxes: [[346, 538, 394, 578]], Labels: [1]\n"
     ]
    },
    {
     "name": "stderr",
     "output_type": "stream",
     "text": [
      "\r",
      " 23%|██▎       | 3/13 [00:03<00:10,  1.06s/it]"
     ]
    },
    {
     "name": "stdout",
     "output_type": "stream",
     "text": [
      "Boxes: [[474, 752, 516, 788]], Labels: [1]\n",
      "Boxes: [[514, 981, 610, 1054], [422, 962, 492, 1014], [418, 773, 474, 828]], Labels: [1, 1, 1]\n",
      "Boxes: [[548, 773, 642, 846], [436, 680, 490, 730], [316, 766, 432, 824]], Labels: [1, 1, 1]\n",
      "Boxes: [[706, 670, 766, 755]], Labels: [1]\n"
     ]
    },
    {
     "name": "stderr",
     "output_type": "stream",
     "text": [
      "\r",
      " 31%|███       | 4/13 [00:04<00:08,  1.00it/s]"
     ]
    },
    {
     "name": "stdout",
     "output_type": "stream",
     "text": [
      "Boxes: [[378, 770, 468, 830]], Labels: [1]\n",
      "Boxes: [[336, 834, 388, 878]], Labels: [1]\n",
      "Boxes: [[706, 444, 746, 477]], Labels: [1]\n",
      "Boxes: [[410, 764, 524, 821]], Labels: [1]\n"
     ]
    },
    {
     "name": "stderr",
     "output_type": "stream",
     "text": [
      "\r",
      " 38%|███▊      | 5/13 [00:04<00:07,  1.06it/s]"
     ]
    },
    {
     "name": "stdout",
     "output_type": "stream",
     "text": [
      "Boxes: [[304, 740, 358, 785], [408, 795, 504, 852]], Labels: [1, 1]\n",
      "Boxes: [[342, 765, 400, 820], [372, 956, 428, 1004], [440, 978, 542, 1054]], Labels: [1, 1, 1]\n",
      "Boxes: [[424, 707, 478, 756], [376, 890, 448, 941]], Labels: [1, 1]\n",
      "Boxes: [[526, 393, 558, 423]], Labels: [1]\n"
     ]
    },
    {
     "name": "stderr",
     "output_type": "stream",
     "text": [
      "\r",
      " 46%|████▌     | 6/13 [00:05<00:06,  1.09it/s]"
     ]
    },
    {
     "name": "stdout",
     "output_type": "stream",
     "text": [
      "Boxes: [[372, 1097, 424, 1156], [524, 1026, 652, 1099]], Labels: [1, 1]\n",
      "Boxes: [[474, 857, 530, 905]], Labels: [1]\n",
      "Boxes: [[370, 1101, 422, 1161], [554, 983, 676, 1054]], Labels: [1, 1]\n",
      "Boxes: [[408, 780, 516, 840]], Labels: [1]\n"
     ]
    },
    {
     "name": "stderr",
     "output_type": "stream",
     "text": [
      "\r",
      " 54%|█████▍    | 7/13 [00:06<00:05,  1.13it/s]"
     ]
    },
    {
     "name": "stdout",
     "output_type": "stream",
     "text": [
      "Boxes: [[548, 981, 680, 1054], [382, 1098, 434, 1149]], Labels: [1, 1]\n",
      "Boxes: [[366, 1528, 420, 1599]], Labels: [1]\n",
      "Boxes: [[478, 831, 524, 873]], Labels: [1]\n",
      "Boxes: [[346, 1057, 396, 1114], [388, 870, 446, 961]], Labels: [1, 1]\n"
     ]
    },
    {
     "name": "stderr",
     "output_type": "stream",
     "text": [
      "\r",
      " 62%|██████▏   | 8/13 [00:07<00:04,  1.13it/s]"
     ]
    },
    {
     "name": "stdout",
     "output_type": "stream",
     "text": [
      "Boxes: [[640, 1488, 798, 1566]], Labels: [1]\n",
      "Boxes: [[528, 1435, 584, 1540], [550, 1253, 596, 1333]], Labels: [1, 1]\n",
      "Boxes: [[366, 467, 480, 508]], Labels: [1]\n",
      "Boxes: [[240, 1394, 334, 1478]], Labels: [1]\n"
     ]
    },
    {
     "name": "stderr",
     "output_type": "stream",
     "text": [
      "\r",
      " 69%|██████▉   | 9/13 [00:08<00:03,  1.13it/s]"
     ]
    },
    {
     "name": "stdout",
     "output_type": "stream",
     "text": [
      "Boxes: [[264, 715, 322, 761]], Labels: [1]\n",
      "Boxes: [[880, 472, 922, 509]], Labels: [1]\n",
      "Boxes: [[726, 1235, 828, 1363]], Labels: [1]\n",
      "Boxes: [[556, 950, 638, 1035], [338, 937, 402, 997], [308, 756, 372, 813]], Labels: [1, 1, 1]\n"
     ]
    },
    {
     "name": "stderr",
     "output_type": "stream",
     "text": [
      "\r",
      " 77%|███████▋  | 10/13 [00:09<00:02,  1.15it/s]"
     ]
    },
    {
     "name": "stdout",
     "output_type": "stream",
     "text": [
      "Boxes: [[326, 540, 370, 577]], Labels: [1]\n",
      "Boxes: [[372, 957, 436, 1004], [338, 768, 412, 823]], Labels: [1, 1]\n",
      "Boxes: [[342, 751, 390, 787]], Labels: [1]\n",
      "Boxes: [[324, 1307, 394, 1402], [424, 1478, 564, 1596]], Labels: [1, 1]\n"
     ]
    },
    {
     "name": "stderr",
     "output_type": "stream",
     "text": [
      "\r",
      " 85%|████████▍ | 11/13 [00:10<00:01,  1.17it/s]"
     ]
    },
    {
     "name": "stdout",
     "output_type": "stream",
     "text": [
      "Boxes: [[574, 880, 618, 909]], Labels: [1]\n",
      "Boxes: [[458, 779, 512, 813], [366, 889, 434, 926]], Labels: [1, 1]\n",
      "Boxes: [[8, 579, 58, 624]], Labels: [1]\n",
      "Boxes: [[424, 763, 520, 828]], Labels: [1]\n"
     ]
    },
    {
     "name": "stderr",
     "output_type": "stream",
     "text": [
      "\r",
      " 92%|█████████▏| 12/13 [00:10<00:00,  1.19it/s]"
     ]
    },
    {
     "name": "stdout",
     "output_type": "stream",
     "text": [
      "Boxes: [[406, 1180, 452, 1246]], Labels: [1]\n",
      "Boxes: [[188, 1442, 296, 1540]], Labels: [1]\n"
     ]
    },
    {
     "name": "stderr",
     "output_type": "stream",
     "text": [
      "100%|██████████| 13/13 [00:11<00:00,  1.15it/s]\n"
     ]
    },
    {
     "name": "stdout",
     "output_type": "stream",
     "text": [
      "Train Loss: 7.3371\n",
      "Epoch 10/10\n"
     ]
    },
    {
     "name": "stderr",
     "output_type": "stream",
     "text": [
      "\r",
      "  0%|          | 0/13 [00:00<?, ?it/s]"
     ]
    },
    {
     "name": "stdout",
     "output_type": "stream",
     "text": [
      "Boxes: [[460, 624, 502, 660]], Labels: [1]\n",
      "Boxes: [[406, 1180, 452, 1246]], Labels: [1]\n",
      "Boxes: [[528, 1435, 584, 1540], [550, 1253, 596, 1333]], Labels: [1, 1]\n",
      "Boxes: [[478, 831, 524, 873]], Labels: [1]\n"
     ]
    },
    {
     "name": "stderr",
     "output_type": "stream",
     "text": [
      "\r",
      "  8%|▊         | 1/13 [00:00<00:10,  1.19it/s]"
     ]
    },
    {
     "name": "stdout",
     "output_type": "stream",
     "text": [
      "Boxes: [[706, 444, 746, 477]], Labels: [1]\n",
      "Boxes: [[880, 472, 922, 509]], Labels: [1]\n",
      "Boxes: [[424, 707, 478, 756], [376, 890, 448, 941]], Labels: [1, 1]\n",
      "Boxes: [[286, 779, 390, 834], [272, 702, 330, 743], [398, 563, 446, 596]], Labels: [1, 1, 1]\n"
     ]
    },
    {
     "name": "stderr",
     "output_type": "stream",
     "text": [
      "\r",
      " 15%|█▌        | 2/13 [00:01<00:09,  1.14it/s]"
     ]
    },
    {
     "name": "stdout",
     "output_type": "stream",
     "text": [
      "Boxes: [[726, 1235, 828, 1363]], Labels: [1]\n",
      "Boxes: [[548, 773, 642, 846], [436, 680, 490, 730], [316, 766, 432, 824]], Labels: [1, 1, 1]\n",
      "Boxes: [[372, 957, 436, 1004], [338, 768, 412, 823]], Labels: [1, 1]\n",
      "Boxes: [[474, 752, 516, 788]], Labels: [1]\n"
     ]
    },
    {
     "name": "stderr",
     "output_type": "stream",
     "text": [
      "\r",
      " 23%|██▎       | 3/13 [00:02<00:09,  1.11it/s]"
     ]
    },
    {
     "name": "stdout",
     "output_type": "stream",
     "text": [
      "Boxes: [[342, 751, 390, 787]], Labels: [1]\n",
      "Boxes: [[650, 777, 704, 817]], Labels: [1]\n",
      "Boxes: [[240, 1394, 334, 1478]], Labels: [1]\n",
      "Boxes: [[706, 670, 766, 755]], Labels: [1]\n"
     ]
    },
    {
     "name": "stderr",
     "output_type": "stream",
     "text": [
      "\r",
      " 31%|███       | 4/13 [00:03<00:08,  1.10it/s]"
     ]
    },
    {
     "name": "stdout",
     "output_type": "stream",
     "text": [
      "Boxes: [[378, 770, 468, 830]], Labels: [1]\n",
      "Boxes: [[370, 1100, 424, 1157], [540, 965, 688, 1040]], Labels: [1, 1]\n",
      "Boxes: [[424, 763, 520, 828]], Labels: [1]\n",
      "Boxes: [[346, 1057, 396, 1114], [388, 870, 446, 961]], Labels: [1, 1]\n"
     ]
    },
    {
     "name": "stderr",
     "output_type": "stream",
     "text": [
      "\r",
      " 38%|███▊      | 5/13 [00:04<00:07,  1.06it/s]"
     ]
    },
    {
     "name": "stdout",
     "output_type": "stream",
     "text": [
      "Boxes: [[410, 764, 524, 821]], Labels: [1]\n",
      "Boxes: [[574, 880, 618, 909]], Labels: [1]\n",
      "Boxes: [[346, 538, 394, 578]], Labels: [1]\n",
      "Boxes: [[188, 1442, 296, 1540]], Labels: [1]\n"
     ]
    },
    {
     "name": "stderr",
     "output_type": "stream",
     "text": [
      "\r",
      " 46%|████▌     | 6/13 [00:05<00:06,  1.03it/s]"
     ]
    },
    {
     "name": "stdout",
     "output_type": "stream",
     "text": [
      "Boxes: [[326, 540, 370, 577]], Labels: [1]\n",
      "Boxes: [[264, 715, 322, 761]], Labels: [1]\n",
      "Boxes: [[556, 950, 638, 1035], [338, 937, 402, 997], [308, 756, 372, 813]], Labels: [1, 1, 1]\n",
      "Boxes: [[224, 1244, 266, 1309]], Labels: [1]\n"
     ]
    },
    {
     "name": "stderr",
     "output_type": "stream",
     "text": [
      "\r",
      " 54%|█████▍    | 7/13 [00:06<00:05,  1.00it/s]"
     ]
    },
    {
     "name": "stdout",
     "output_type": "stream",
     "text": [
      "Boxes: [[640, 1488, 798, 1566]], Labels: [1]\n",
      "Boxes: [[458, 779, 512, 813], [366, 889, 434, 926]], Labels: [1, 1]\n",
      "Boxes: [[370, 1101, 422, 1161], [554, 983, 676, 1054]], Labels: [1, 1]\n",
      "Boxes: [[526, 393, 558, 423]], Labels: [1]\n"
     ]
    },
    {
     "name": "stderr",
     "output_type": "stream",
     "text": [
      "\r",
      " 62%|██████▏   | 8/13 [00:07<00:05,  1.00s/it]"
     ]
    },
    {
     "name": "stdout",
     "output_type": "stream",
     "text": [
      "Boxes: [[474, 857, 530, 905]], Labels: [1]\n",
      "Boxes: [[336, 834, 388, 878]], Labels: [1]\n",
      "Boxes: [[746, 533, 788, 569]], Labels: [1]\n",
      "Boxes: [[304, 740, 358, 785], [408, 795, 504, 852]], Labels: [1, 1]\n"
     ]
    },
    {
     "name": "stderr",
     "output_type": "stream",
     "text": [
      "\r",
      " 69%|██████▉   | 9/13 [00:08<00:04,  1.02s/it]"
     ]
    },
    {
     "name": "stdout",
     "output_type": "stream",
     "text": [
      "Boxes: [[324, 1307, 394, 1402], [424, 1478, 564, 1596]], Labels: [1, 1]\n",
      "Boxes: [[514, 981, 610, 1054], [422, 962, 492, 1014], [418, 773, 474, 828]], Labels: [1, 1, 1]\n",
      "Boxes: [[268, 785, 422, 844]], Labels: [1]\n",
      "Boxes: [[392, 779, 540, 829]], Labels: [1]\n"
     ]
    },
    {
     "name": "stderr",
     "output_type": "stream",
     "text": [
      "\r",
      " 77%|███████▋  | 10/13 [00:09<00:02,  1.00it/s]"
     ]
    },
    {
     "name": "stdout",
     "output_type": "stream",
     "text": [
      "Boxes: [[366, 467, 480, 508]], Labels: [1]\n",
      "Boxes: [[344, 783, 442, 842], [448, 673, 506, 724], [496, 817, 592, 887]], Labels: [1, 1, 1]\n",
      "Boxes: [[408, 780, 516, 840]], Labels: [1]\n",
      "Boxes: [[548, 981, 680, 1054], [382, 1098, 434, 1149]], Labels: [1, 1]\n"
     ]
    },
    {
     "name": "stderr",
     "output_type": "stream",
     "text": [
      "\r",
      " 85%|████████▍ | 11/13 [00:10<00:01,  1.03it/s]"
     ]
    },
    {
     "name": "stdout",
     "output_type": "stream",
     "text": [
      "Boxes: [[8, 579, 58, 624]], Labels: [1]\n",
      "Boxes: [[426, 1205, 492, 1269], [406, 1020, 466, 1082]], Labels: [1, 1]\n",
      "Boxes: [[630, 672, 692, 751], [544, 1010, 640, 1084]], Labels: [1, 1]\n",
      "Boxes: [[372, 1097, 424, 1156], [524, 1026, 652, 1099]], Labels: [1, 1]\n"
     ]
    },
    {
     "name": "stderr",
     "output_type": "stream",
     "text": [
      "\r",
      " 92%|█████████▏| 12/13 [00:11<00:00,  1.07it/s]"
     ]
    },
    {
     "name": "stdout",
     "output_type": "stream",
     "text": [
      "Boxes: [[342, 765, 400, 820], [372, 956, 428, 1004], [440, 978, 542, 1054]], Labels: [1, 1, 1]\n",
      "Boxes: [[366, 1528, 420, 1599]], Labels: [1]\n"
     ]
    },
    {
     "name": "stderr",
     "output_type": "stream",
     "text": [
      "100%|██████████| 13/13 [00:11<00:00,  1.09it/s]"
     ]
    },
    {
     "name": "stdout",
     "output_type": "stream",
     "text": [
      "Train Loss: 7.8916\n"
     ]
    },
    {
     "name": "stderr",
     "output_type": "stream",
     "text": [
      "\n"
     ]
    }
   ],
   "source": [
    "\n",
    "# ==========================\n",
    "# 4. Main Training Loop\n",
    "# ==========================\n",
    "def main():\n",
    "    # Configurations\n",
    "    device = torch.device(\"cuda\" if torch.cuda.is_available() else \"cpu\")\n",
    "    batch_size = 4\n",
    "    num_epochs = 10\n",
    "    backbone = 'resnet50'\n",
    "\n",
    "    # Paths\n",
    "    image_dir = '/content/drive/MyDrive/mini project/images'\n",
    "    annotation_dir = '/content/drive/MyDrive/mini project/annotations'\n",
    "\n",
    "    # Dataset and DataLoader\n",
    "    dataset_train = UATDDataset(image_dir, annotation_dir, transforms=get_transforms())\n",
    "    train_loader = DataLoader(dataset_train, batch_size=batch_size, shuffle=True, collate_fn=lambda x: tuple(zip(*x)))\n",
    "\n",
    "    # Model, Optimizer\n",
    "    model = get_faster_rcnn_model(backbone, num_classes=11).to(device)  # 10 classes + background\n",
    "    optimizer = torch.optim.Adam(model.parameters(), lr=0.001)\n",
    "    epoch_losses = []\n",
    "    # Training Loop\n",
    "    for epoch in range(num_epochs):\n",
    "        print(f\"Epoch {epoch + 1}/{num_epochs}\")\n",
    "        train_loss = train_one_epoch(model, optimizer, train_loader, device)\n",
    "        print(f\"Train Loss: {train_loss:.4f}\")\n",
    "\n",
    "\n",
    "if __name__ == \"__main__\":\n",
    "    main()\n"
   ]
  },
  {
   "cell_type": "markdown",
   "metadata": {
    "id": "G2okP0uxFSO7"
   },
   "source": [
    "YOLO"
   ]
  },
  {
   "cell_type": "code",
   "execution_count": null,
   "metadata": {
    "id": "xgQ8fjdyGB-t"
   },
   "outputs": [],
   "source": [
    "pip install ultralytics\n"
   ]
  },
  {
   "cell_type": "code",
   "execution_count": null,
   "metadata": {
    "id": "8anIP6VLMCIj"
   },
   "outputs": [],
   "source": []
  }
 ],
 "metadata": {
  "accelerator": "GPU",
  "colab": {
   "gpuType": "T4",
   "provenance": []
  },
  "kernelspec": {
   "display_name": "Python 3 (ipykernel)",
   "language": "python",
   "name": "python3"
  },
  "language_info": {
   "codemirror_mode": {
    "name": "ipython",
    "version": 3
   },
   "file_extension": ".py",
   "mimetype": "text/x-python",
   "name": "python",
   "nbconvert_exporter": "python",
   "pygments_lexer": "ipython3",
   "version": "3.12.3"
  }
 },
 "nbformat": 4,
 "nbformat_minor": 1
}
